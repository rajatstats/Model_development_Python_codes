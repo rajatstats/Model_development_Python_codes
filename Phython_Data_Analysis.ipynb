{
 "cells": [
  {
   "cell_type": "markdown",
   "metadata": {
    "id": "gUaKOOJaiMOT"
   },
   "source": [
    "https://www.askpython.com/python/string/python-convert-string-to-list"
   ]
  },
  {
   "cell_type": "markdown",
   "metadata": {
    "id": "ea6X0ohrQzKM"
   },
   "source": [
    "# CONTENTS\n",
    "\n",
    "*  [How to see function documentation  and source code in python](#fd)\n",
    "*  [Interview Question for Python Data Science and OOPs Concept](#iqd)\n",
    "1. [Connective Google Drive](#01)\n",
    "2. [Descriptive Statistics Measure and Some basic Python Question](#02)\n",
    ">*  [Mean ,Median ,Mode ,Variance , standard deviation ,skewness ,kurtosis](#mm) \n",
    ">*  [Min, Max,Range ,Quantiles ,IQR](#max)\n",
    ">*  [Sorting Value](#sv)\n",
    ">*  [Unique Value](#uv)\n",
    ">*  [How to convert a string column to integer](#csi) \n",
    ">*  [pd.cut and Group by in python](#gbp) \n",
    ">*  [Join in Python( left join ,right join ,inner join ,self join , full join)](#dtj)\n",
    ">*  [Cross tab in python](#ctp) \n",
    "\n",
    "3. [NUMPY](#03)\n",
    ">* [IQR using numpy percentile method](#iqrnp)\n",
    "4. [PANDAS](#04)\n",
    "5. [MATPLOTLIB](#05)\n",
    "6. [SEABORN](#06)\n",
    "7. [SCIKIT LEARN](#07)\n",
    "8. [SCIPY](#08)\n",
    ">* [IQR using scipy.stats method](#iqrss)\n",
    "9. [TENSORFLOW](#09)\n",
    "10. [KERAS](#10)\n",
    "11. [OOPs IN PYTHON](#11)\n",
    ">*  [Difference between Error and Excepton](#dbee)\n",
    ">*  Class ,Method ,Object\n",
    ">*  [Exception Handling](#i)\n",
    ">>* [Handling exception try except](#hete)\n",
    ">>* [Raising Exception in Python](#rep)\n",
    ">>* [Custom Exception Handling](#ceh)\n",
    ">*   [Inheritance](#pi)\n",
    ">>* [Singlelevel Inheritance](#sli)\n",
    ">>* [Multilevel Inheritance](#mli)\n",
    ">>* [Multiple Inheritance](#mpi) \n",
    ">*  [Polymorphism](#pm)\n",
    ">>* [Duck Typing](#du)\n",
    ">>* [Operator overriding and Operator Overloading](#op)\n",
    ">>* [Method Overloading](#ml)\n",
    ">>* [Method Overriding](#mo)\n",
    ">*   Abstraction \n",
    ">*   Encapsulation\n",
    "12. lambda ,map ,filter\n",
    "13. [SQL IN PYTHON](#12)\n",
    ">*  [Connect to Db2 database on cloud](#dbc)\n",
    "14. [BIG DATA ](#13)\n",
    ">*  [PySpark](#ps)\n",
    ">*  [Hadoop File Management](#hdfs)\n",
    "15. [Anaconda prompt basic commands](#env)\n",
    "16. [Gitbash command to import git repo to local ](#git)\n",
    "17. [PyCharm Basic Commands ](#pycharm)\n",
    "18. [if __name__ == '__main__' uses](#inff)\n",
    "19. [Use of try and exept to run the whole code also if there is error \n",
    "in code](#tryex)\n",
    "20. [Command Prompt Basic command](#cmd)\n"
   ]
  },
  {
   "cell_type": "markdown",
   "metadata": {
    "id": "vph8TpndABzd"
   },
   "source": [
    "<a name='fd'></a>\n",
    "# Ques:- How to see documentation of function in python ?\n",
    "1. **to get documentation of function:-** Take the cursor to function and press shift+tab then one can get the documentation of the function\n",
    "2. **to get source code of functon** after function name just type ?? for e.g. pd.DataFrame.quantile??"
   ]
  },
  {
   "cell_type": "markdown",
   "metadata": {
    "id": "cBfg7XhxsChw"
   },
   "source": [
    "<a name='iqd'></a>\n",
    "# Interview question for python data science and oops concepts\n",
    "1. [What is the difference between module and package in python?](#mpp)\n",
    "2. [What are the built in types available in python](#bpp)\n",
    "3. [What are different between a list and tuple in python](#dlt)\n",
    "4. [What is difference between pickling and unpickling?](#pkl)\n",
    "5. [What are decorators in python?](#wdp)\n",
    "6. [What are generators and iterators in python?](#wgi)\n",
    "7. [How to convert a number into a string?](#ns)\n",
    "8. [What is the use of // operator in python?](#ds)\n",
    "9. [What is the range function in python?](#rf)\n",
    "10. [Does python have a main funciton?](#mf)\n",
    "11. [How to change data type of a list?](#cdl)\n",
    "12. [What are the key features of python?](#kfp)\n",
    "13. [Name some commonly built in module in python?](#bmt)\n",
    "14. [What is pass statement in python?](#pass)\n",
    "15. [Define self in python?](#sel)\n",
    "16. [What are __init__ in python?](#iti)\n",
    "17. [What is encapsulation and abstraction in python?](#eb)\n",
    "18. [Explain differences between list and arrays?](#lsi)\n",
    "19. [How will you get the titlecased version of a string and also how to uppercase first letter of string ?](#ctm)\n",
    "20. [Explain the function of \"is\" ,\"not\" and \"in\" operator in python?](#ini)\n",
    "21. [Difference between append and extend in list?](#ael)"
   ]
  },
  {
   "cell_type": "markdown",
   "metadata": {
    "id": "-rFGopZXLCGM"
   },
   "source": [
    "<a name='mpp'></a>\n",
    "**1. What is the difference between module and package in python?**\n",
    "\n",
    "Each python program file is a module that imports other modules like objects and attributes .Thus a module is a way to structure the program \n",
    "\n",
    "The folder of a python program is called a package of modules "
   ]
  },
  {
   "cell_type": "markdown",
   "metadata": {
    "id": "3k-iLUh1L7Yx"
   },
   "source": [
    "<a name='bpp'></a>\n",
    "**2. What are the built in type available in python?**\n",
    "\n",
    "There are mutable and immutable built in type in python \n",
    "\n",
    "Mutable type(List ,Dictionaries ,set)\n",
    "\n",
    "Immutable type(tuple ,strings ,numbers)"
   ]
  },
  {
   "cell_type": "markdown",
   "metadata": {
    "id": "Ov_h1xcPM33a"
   },
   "source": [
    "**3. What are the different between list and tuple in python?**\n",
    "\n",
    "list is mutable while the tuple is not . tuple can be hashed as in the case of making keys for dictionaries"
   ]
  },
  {
   "cell_type": "markdown",
   "metadata": {
    "id": "qYkT2adkNebz"
   },
   "source": [
    "<a name='pkl'></a>\n",
    "**4. Difference between pickling and unpickling?**\n",
    "\n",
    "pickle module accepts a object , transform in into a string  representation ,and dump it into a file by using the dump function i.e. pickle.dump()\n",
    "\n",
    "the process of retrieving the object from the stored string representation is called unpickling . It is done using the load function i.e pickle.load()\n"
   ]
  },
  {
   "cell_type": "markdown",
   "metadata": {
    "id": "4XPnBrJqOi0y"
   },
   "source": [
    "<a name='wdp'></a>\n",
    "**5. What are decorators in python?**\n",
    "\n",
    "Python decorators is a specific change in python syntax for the easy aleration of a function \n"
   ]
  },
  {
   "cell_type": "markdown",
   "metadata": {
    "id": "bKOf5rzaOwXC"
   },
   "source": [
    "<a name='wgi'></a>\n",
    "**6. Difference between generators and iterators ?**\n",
    "\n",
    "iterators are used to iterate over a group of element\n",
    "\n",
    "The way of implementing these iterators are known as a generators\n",
    "\n",
    "It yields an expression in the function but otherwise behave lika a normal function ."
   ]
  },
  {
   "cell_type": "markdown",
   "metadata": {
    "id": "PPtlIJ69P2oc"
   },
   "source": [
    "<a name='ns'></a>\n",
    "**7. How to convert a number into a string ?**\n",
    "\n",
    "We can use the inbuilt str() function"
   ]
  },
  {
   "cell_type": "markdown",
   "metadata": {
    "id": "7xKhtIWEQK3c"
   },
   "source": [
    "<a name='ds'></a>\n",
    "**8. What is the purpose of // operator?**\n",
    "\n",
    "// or Floor division operator performs the division of the operands where the result is the quotient in which the digit after the decimal point are removed"
   ]
  },
  {
   "cell_type": "markdown",
   "metadata": {
    "id": "AKRtH_aCQrJ2"
   },
   "source": [
    "<a name='rf'></a>\n",
    "**9. What is the range() function and what are its parameters?**\n",
    "\n",
    "range() function is used to generate a list of integers numbers . Its parameters are : range(start,stop,step) . output doesnot include the stop it is exclusice and start is inclusive"
   ]
  },
  {
   "cell_type": "markdown",
   "metadata": {
    "id": "BH19s4GKRLla"
   },
   "source": [
    "<a name='mf'></a>\n",
    "**10. Does python have a \"main\" function ?**\n",
    "\n",
    "Yes it does , it is executed automatically whenever we run a python script "
   ]
  },
  {
   "cell_type": "markdown",
   "metadata": {
    "id": "I4uuGoSaR1-N"
   },
   "source": [
    "<a name='cdl'></a>\n",
    "**11. How to change data type of a list ?**\n",
    "\n",
    "we can use tuple(),set(),dictt(),.join() function to change it to tuple ,set, dictionary, string respectivly"
   ]
  },
  {
   "cell_type": "markdown",
   "metadata": {
    "id": "JIYgVDjwQdrt"
   },
   "source": [
    "<a name='kfp'></a>\n",
    "**12. What are the key features of python?**\n",
    "\n",
    "\n",
    "*   Interpreted\n",
    "\n",
    "*   Dynamically typed\n",
    "*   Object Oriented \n",
    "\n",
    "\n",
    "*   English like syntax\n",
    "\n"
   ]
  },
  {
   "cell_type": "markdown",
   "metadata": {
    "id": "vrWQr4oIS5_P"
   },
   "source": [
    "<a name='bmt'></a>\n",
    "**13.Some commonly built in module in python?**\n",
    "\n",
    " os ,sys , math , random ,datetime"
   ]
  },
  {
   "cell_type": "markdown",
   "metadata": {
    "id": "o4rQKKC3aHcz"
   },
   "source": [
    "<a name='pass'></a>\n",
    "**14. What is pass statement in python?**\n",
    "\n",
    "A pass statement in python is used  when we cannot decide what to do in our code , but we must type something for making syntactically correct\n"
   ]
  },
  {
   "cell_type": "markdown",
   "metadata": {
    "id": "_sVsjZ6STU2l"
   },
   "source": [
    "<a name='sel'></a>\n",
    "**15. Define self in python ?**\n",
    "\n",
    "An instance of a class or object is self in python \n",
    "\n",
    "It is included as the first parameter \n",
    "\n",
    "It helps to differentiate between the methods and attributes of a class with local variables "
   ]
  },
  {
   "cell_type": "markdown",
   "metadata": {
    "id": "C98GEWKuWXF3"
   },
   "source": [
    "<a name='iti'></a>\n",
    "**16. What are __init__ in python?**\n",
    "\n",
    "In python __init__ is a method or a constructor . It is automatically called to allocate memory when a new object or a instance of a class is created . All classes have the init method "
   ]
  },
  {
   "cell_type": "markdown",
   "metadata": {
    "id": "ZpjWPtu2Y9Fn"
   },
   "source": [
    "<a name='eb'></a>\n",
    "**17. What is encapsulation ?**\n",
    "\n",
    "It is a process of wrapping up data and variable together .\n",
    "\n",
    "It is the binding of the data and function that manipualte the data\n",
    "\n",
    "**What is data abstraction in python ?**\n",
    "\n",
    "An abstraction means hiding away information and showing only information that's only neccessary"
   ]
  },
  {
   "cell_type": "markdown",
   "metadata": {
    "id": "4StIkf2QVjvZ"
   },
   "source": [
    "<a name='lsi'></a>\n",
    "**18.Explain the difference between python arrays and list ?**\n",
    "\n",
    "In python both arrays and list are used to store data. However , arrays can only contain element of the same data types and list can contains element of different data types . "
   ]
  },
  {
   "cell_type": "markdown",
   "metadata": {
    "id": "EFy0vhaZVczt"
   },
   "source": [
    "<a name='ctm'></a>\n",
    "**19. How will you get the titlecased version of a string and also how to uppercase first letter of string  ?**\n",
    "\n",
    "title() is used to get the title cased version of string i.e. all the startig leter of the word are in uppercase\n",
    "\n",
    "capitalize() is used to make the first letter of the string to uppercase"
   ]
  },
  {
   "cell_type": "markdown",
   "metadata": {
    "id": "o0uyzCJgTzSQ"
   },
   "source": [
    "<a name='ini'></a>\n",
    "**20. Explain the function of \"is\" ,\"not\" and \"in\" operator in python?**\n",
    "\n",
    "\"is\" operator returns True when two operands are True\n",
    "\n",
    "\"not\" operator return the inverse of boolean value\n",
    "\n",
    "\"in\" operators check if some element is present in some sequence"
   ]
  },
  {
   "cell_type": "markdown",
   "metadata": {
    "id": "MZKJIWO4bBBy"
   },
   "source": [
    "<a name='ael'></a>\n",
    "**21. Differentiate between append and extend in python ?**\n",
    "\n",
    "append() adds an element to the end of the list \n",
    "\n",
    "extend() adds element from an iterable to the end of the list \n"
   ]
  },
  {
   "cell_type": "markdown",
   "metadata": {
    "id": "WjqCLKBpxiup"
   },
   "source": [
    "<a name=\"02\"></a>\n",
    "# CONNECTING GOOGLE DRIVE FILE "
   ]
  },
  {
   "cell_type": "code",
   "execution_count": 1,
   "metadata": {
    "colab": {
     "base_uri": "https://localhost:8080/"
    },
    "executionInfo": {
     "elapsed": 199461,
     "status": "ok",
     "timestamp": 1634231007220,
     "user": {
      "displayName": "Rajat Agarwal",
      "photoUrl": "https://lh3.googleusercontent.com/a-/AOh14GiqdQRoEJhWWghCgSMgU0X4si-AEXaiDC_NkfBOEw=s64",
      "userId": "15404319687387405045"
     },
     "user_tz": -330
    },
    "id": "3C7B4N_r5h5q",
    "outputId": "e67ea7d0-edda-4543-8891-4d32eb1b6718"
   },
   "outputs": [
    {
     "ename": "ModuleNotFoundError",
     "evalue": "No module named 'google'",
     "output_type": "error",
     "traceback": [
      "\u001b[1;31m---------------------------------------------------------------------------\u001b[0m",
      "\u001b[1;31mModuleNotFoundError\u001b[0m                       Traceback (most recent call last)",
      "Cell \u001b[1;32mIn[1], line 1\u001b[0m\n\u001b[1;32m----> 1\u001b[0m \u001b[38;5;28;01mfrom\u001b[39;00m \u001b[38;5;21;01mgoogle\u001b[39;00m\u001b[38;5;21;01m.\u001b[39;00m\u001b[38;5;21;01mcolab\u001b[39;00m \u001b[38;5;28;01mimport\u001b[39;00m drive\n\u001b[0;32m      2\u001b[0m drive\u001b[38;5;241m.\u001b[39mmount(\u001b[38;5;124m'\u001b[39m\u001b[38;5;124m/content/gdrive\u001b[39m\u001b[38;5;124m'\u001b[39m)\n",
      "\u001b[1;31mModuleNotFoundError\u001b[0m: No module named 'google'"
     ]
    }
   ],
   "source": [
    "from google.colab import drive\n",
    "drive.mount('/content/gdrive')"
   ]
  },
  {
   "cell_type": "code",
   "execution_count": 1,
   "metadata": {
    "colab": {
     "base_uri": "https://localhost:8080/"
    },
    "executionInfo": {
     "elapsed": 1179,
     "status": "ok",
     "timestamp": 1634539616380,
     "user": {
      "displayName": "Rajat Agarwal",
      "photoUrl": "https://lh3.googleusercontent.com/a-/AOh14GiqdQRoEJhWWghCgSMgU0X4si-AEXaiDC_NkfBOEw=s64",
      "userId": "15404319687387405045"
     },
     "user_tz": -330
    },
    "id": "eC37KGOKJme9",
    "outputId": "1623815b-8999-4384-974d-5c742dcb844c"
   },
   "outputs": [
    {
     "data": {
      "text/plain": [
       "140726421459880"
      ]
     },
     "execution_count": 1,
     "metadata": {},
     "output_type": "execute_result"
    }
   ],
   "source": [
    "x=5\n",
    "id(x) #the ouput is the address of the object "
   ]
  },
  {
   "cell_type": "markdown",
   "metadata": {
    "id": "YHgP4HIHAQbv"
   },
   "source": [
    "# Importing Basic Python library"
   ]
  },
  {
   "cell_type": "code",
   "execution_count": 3,
   "metadata": {
    "id": "bGcgddFa_mID"
   },
   "outputs": [],
   "source": [
    "import numpy as np ,pandas as pd"
   ]
  },
  {
   "cell_type": "markdown",
   "metadata": {
    "id": "aaWyeCNh4507"
   },
   "source": [
    "<a name=\"01\"></a>\n",
    "# Descriptive Statistcs measure\n",
    "\n",
    "\n"
   ]
  },
  {
   "cell_type": "markdown",
   "metadata": {
    "id": "k43JuXGNHSKn"
   },
   "source": [
    "<a name=\"mm\"></a>\n",
    "# Calculating mean ,median ,mode ,standard deviation ,Variance ,skewness using statistics and scipy.stats linrary"
   ]
  },
  {
   "cell_type": "code",
   "execution_count": 2,
   "metadata": {
    "colab": {
     "base_uri": "https://localhost:8080/"
    },
    "executionInfo": {
     "elapsed": 436,
     "status": "ok",
     "timestamp": 1634387426928,
     "user": {
      "displayName": "Rajat Agarwal",
      "photoUrl": "https://lh3.googleusercontent.com/a-/AOh14GiqdQRoEJhWWghCgSMgU0X4si-AEXaiDC_NkfBOEw=s64",
      "userId": "15404319687387405045"
     },
     "user_tz": -330
    },
    "id": "HEUJHoaURJbp",
    "outputId": "cece2f40-ac8d-42f6-9a70-bbfd85ef79a8"
   },
   "outputs": [
    {
     "name": "stdout",
     "output_type": "stream",
     "text": [
      "Mean of the above list is 82.25\n",
      "Mode of the above list is 77\n",
      "Median of the above list is 81.5\n",
      "Variance of the above list is 60.06666666666667\n",
      "standard deviation of the above list is 7.750268812542354\n"
     ]
    }
   ],
   "source": [
    "from statistics import mean,mode,median,stdev,variance\n",
    "data = [88, 85, 82, 97, 67, 77, 74, 86, 81, 95, 77,77, 88, 85, 76, 81]\n",
    "print(\"Mean of the above list is {}\".format(mean(data)))\n",
    "print(\"Mode of the above list is {}\".format(mode(data)))\n",
    "print(\"Median of the above list is {}\".format(median(data)))\n",
    "print(\"Variance of the above list is {}\".format(variance(data)))\n",
    "print(\"standard deviation of the above list is {}\".format(stdev(data)))"
   ]
  },
  {
   "cell_type": "code",
   "execution_count": 4,
   "metadata": {
    "colab": {
     "base_uri": "https://localhost:8080/"
    },
    "executionInfo": {
     "elapsed": 429,
     "status": "ok",
     "timestamp": 1634387049392,
     "user": {
      "displayName": "Rajat Agarwal",
      "photoUrl": "https://lh3.googleusercontent.com/a-/AOh14GiqdQRoEJhWWghCgSMgU0X4si-AEXaiDC_NkfBOEw=s64",
      "userId": "15404319687387405045"
     },
     "user_tz": -330
    },
    "id": "EnWLb9G8B5If",
    "outputId": "aed142ba-95c5-4a49-cf38-7d5b1c8054ea"
   },
   "outputs": [
    {
     "name": "stdout",
     "output_type": "stream",
     "text": [
      "The skewness of the above data is 0.15809841517280884\n",
      "The kurtosis of the above data is 0.12373424326600047\n"
     ]
    }
   ],
   "source": [
    "from scipy.stats import skew,kurtosis\n",
    "data = [88, 85, 82, 97, 67, 77, 74, 86, 81, 95, 77,77, 88, 85, 76, 81]\n",
    "\n",
    "#calculate sample skewness\n",
    "print(\"The skewness of the above data is {}\".format(skew(data, bias=False)))\n",
    "# Including bias equal to false to calculate sample skewness so that proper correction for sample data can be accounted \n",
    "\n",
    "\n",
    "#calculate sample kurtosis\n",
    "print(\"The kurtosis of the above data is {}\".format(kurtosis(data, bias=False)))"
   ]
  },
  {
   "cell_type": "markdown",
   "metadata": {
    "id": "kAodflvyCpsf"
   },
   "source": [
    "<a name=\"max\"></a>\n",
    "# Maximum ,Minimum and Range,Quantile ,IQR"
   ]
  },
  {
   "cell_type": "code",
   "execution_count": 3,
   "metadata": {
    "colab": {
     "base_uri": "https://localhost:8080/"
    },
    "executionInfo": {
     "elapsed": 460,
     "status": "ok",
     "timestamp": 1634388253802,
     "user": {
      "displayName": "Rajat Agarwal",
      "photoUrl": "https://lh3.googleusercontent.com/a-/AOh14GiqdQRoEJhWWghCgSMgU0X4si-AEXaiDC_NkfBOEw=s64",
      "userId": "15404319687387405045"
     },
     "user_tz": -330
    },
    "id": "vjeTKJ2j_h4B",
    "outputId": "bdbe259f-5020-4722-98a8-273411197a90"
   },
   "outputs": [
    {
     "name": "stdout",
     "output_type": "stream",
     "text": [
      "The maximum value of the above list is 97\n",
      "The minimum value of the above list is 67\n",
      "The range of above list is 30\n",
      "The IQR of above data is 9.5\n"
     ]
    }
   ],
   "source": [
    "a =  [88, 85, 82, 97, 67, 77, 74, 86, 81, 95, 77,77, 88, 85, 76, 81]\n",
    "print(\"The maximum value of the above list is {}\".format(max(a)))\n",
    "print(\"The minimum value of the above list is {}\".format(min(a)))\n",
    "rangee = max(a)-min(a)\n",
    "print(\"The range of above list is {}\".format(rangee))\n",
    "\n",
    "q3,q1 = np.percentile(a ,[75,25])\n",
    "IQR = q3-q1\n",
    "print(\"The IQR of above data is {}\".format(IQR))"
   ]
  },
  {
   "cell_type": "markdown",
   "metadata": {
    "id": "CENOZbOcMLqK"
   },
   "source": [
    "<a name=\"sv\"></a>\n",
    "# Sorting a dataframe and a list "
   ]
  },
  {
   "cell_type": "code",
   "execution_count": 4,
   "metadata": {
    "colab": {
     "base_uri": "https://localhost:8080/",
     "height": 378
    },
    "executionInfo": {
     "elapsed": 449,
     "status": "ok",
     "timestamp": 1634389268903,
     "user": {
      "displayName": "Rajat Agarwal",
      "photoUrl": "https://lh3.googleusercontent.com/a-/AOh14GiqdQRoEJhWWghCgSMgU0X4si-AEXaiDC_NkfBOEw=s64",
      "userId": "15404319687387405045"
     },
     "user_tz": -330
    },
    "id": "ndgf3VwzF4xa",
    "outputId": "5d64bc3e-c847-442b-bfee-82b8fd24fc12"
   },
   "outputs": [
    {
     "ename": "FileNotFoundError",
     "evalue": "[Errno 2] No such file or directory: '/content/drive/MyDrive/Projects Undertaken/1. REGRESSION/Facebook metric Data Analysis/dataset_Facebook.csv'",
     "output_type": "error",
     "traceback": [
      "\u001b[1;31m---------------------------------------------------------------------------\u001b[0m",
      "\u001b[1;31mFileNotFoundError\u001b[0m                         Traceback (most recent call last)",
      "Cell \u001b[1;32mIn[4], line 1\u001b[0m\n\u001b[1;32m----> 1\u001b[0m df \u001b[38;5;241m=\u001b[39m pd\u001b[38;5;241m.\u001b[39mread_csv(\u001b[38;5;124m\"\u001b[39m\u001b[38;5;124m/content/drive/MyDrive/Projects Undertaken/1. REGRESSION/Facebook metric Data Analysis/dataset_Facebook.csv\u001b[39m\u001b[38;5;124m\"\u001b[39m,delimiter\u001b[38;5;241m=\u001b[39m\u001b[38;5;124m\"\u001b[39m\u001b[38;5;124m;\u001b[39m\u001b[38;5;124m\"\u001b[39m)\n\u001b[0;32m      2\u001b[0m df[\u001b[38;5;124m'\u001b[39m\u001b[38;5;124mPaid\u001b[39m\u001b[38;5;124m'\u001b[39m]\u001b[38;5;241m=\u001b[39mdf[\u001b[38;5;124m'\u001b[39m\u001b[38;5;124mPaid\u001b[39m\u001b[38;5;124m'\u001b[39m]\u001b[38;5;241m.\u001b[39mfillna(\u001b[38;5;241m0\u001b[39m)\u001b[38;5;241m.\u001b[39mastype(\u001b[38;5;28mint\u001b[39m)\n\u001b[0;32m      3\u001b[0m df\u001b[38;5;241m.\u001b[39msort_values(by\u001b[38;5;241m=\u001b[39m[\u001b[38;5;124m\"\u001b[39m\u001b[38;5;124mPost Month\u001b[39m\u001b[38;5;124m\"\u001b[39m,\u001b[38;5;124m\"\u001b[39m\u001b[38;5;124mLifetime Post Total Reach\u001b[39m\u001b[38;5;124m\"\u001b[39m] ,ascending\u001b[38;5;241m=\u001b[39m\u001b[38;5;28;01mFalse\u001b[39;00m)\u001b[38;5;241m.\u001b[39mhead()\n",
      "File \u001b[1;32mc:\\Users\\rj000\\anaconda3\\envs\\Env_1\\Lib\\site-packages\\pandas\\io\\parsers\\readers.py:948\u001b[0m, in \u001b[0;36mread_csv\u001b[1;34m(filepath_or_buffer, sep, delimiter, header, names, index_col, usecols, dtype, engine, converters, true_values, false_values, skipinitialspace, skiprows, skipfooter, nrows, na_values, keep_default_na, na_filter, verbose, skip_blank_lines, parse_dates, infer_datetime_format, keep_date_col, date_parser, date_format, dayfirst, cache_dates, iterator, chunksize, compression, thousands, decimal, lineterminator, quotechar, quoting, doublequote, escapechar, comment, encoding, encoding_errors, dialect, on_bad_lines, delim_whitespace, low_memory, memory_map, float_precision, storage_options, dtype_backend)\u001b[0m\n\u001b[0;32m    935\u001b[0m kwds_defaults \u001b[38;5;241m=\u001b[39m _refine_defaults_read(\n\u001b[0;32m    936\u001b[0m     dialect,\n\u001b[0;32m    937\u001b[0m     delimiter,\n\u001b[1;32m   (...)\u001b[0m\n\u001b[0;32m    944\u001b[0m     dtype_backend\u001b[38;5;241m=\u001b[39mdtype_backend,\n\u001b[0;32m    945\u001b[0m )\n\u001b[0;32m    946\u001b[0m kwds\u001b[38;5;241m.\u001b[39mupdate(kwds_defaults)\n\u001b[1;32m--> 948\u001b[0m \u001b[38;5;28;01mreturn\u001b[39;00m _read(filepath_or_buffer, kwds)\n",
      "File \u001b[1;32mc:\\Users\\rj000\\anaconda3\\envs\\Env_1\\Lib\\site-packages\\pandas\\io\\parsers\\readers.py:611\u001b[0m, in \u001b[0;36m_read\u001b[1;34m(filepath_or_buffer, kwds)\u001b[0m\n\u001b[0;32m    608\u001b[0m _validate_names(kwds\u001b[38;5;241m.\u001b[39mget(\u001b[38;5;124m\"\u001b[39m\u001b[38;5;124mnames\u001b[39m\u001b[38;5;124m\"\u001b[39m, \u001b[38;5;28;01mNone\u001b[39;00m))\n\u001b[0;32m    610\u001b[0m \u001b[38;5;66;03m# Create the parser.\u001b[39;00m\n\u001b[1;32m--> 611\u001b[0m parser \u001b[38;5;241m=\u001b[39m TextFileReader(filepath_or_buffer, \u001b[38;5;241m*\u001b[39m\u001b[38;5;241m*\u001b[39mkwds)\n\u001b[0;32m    613\u001b[0m \u001b[38;5;28;01mif\u001b[39;00m chunksize \u001b[38;5;129;01mor\u001b[39;00m iterator:\n\u001b[0;32m    614\u001b[0m     \u001b[38;5;28;01mreturn\u001b[39;00m parser\n",
      "File \u001b[1;32mc:\\Users\\rj000\\anaconda3\\envs\\Env_1\\Lib\\site-packages\\pandas\\io\\parsers\\readers.py:1448\u001b[0m, in \u001b[0;36mTextFileReader.__init__\u001b[1;34m(self, f, engine, **kwds)\u001b[0m\n\u001b[0;32m   1445\u001b[0m     \u001b[38;5;28mself\u001b[39m\u001b[38;5;241m.\u001b[39moptions[\u001b[38;5;124m\"\u001b[39m\u001b[38;5;124mhas_index_names\u001b[39m\u001b[38;5;124m\"\u001b[39m] \u001b[38;5;241m=\u001b[39m kwds[\u001b[38;5;124m\"\u001b[39m\u001b[38;5;124mhas_index_names\u001b[39m\u001b[38;5;124m\"\u001b[39m]\n\u001b[0;32m   1447\u001b[0m \u001b[38;5;28mself\u001b[39m\u001b[38;5;241m.\u001b[39mhandles: IOHandles \u001b[38;5;241m|\u001b[39m \u001b[38;5;28;01mNone\u001b[39;00m \u001b[38;5;241m=\u001b[39m \u001b[38;5;28;01mNone\u001b[39;00m\n\u001b[1;32m-> 1448\u001b[0m \u001b[38;5;28mself\u001b[39m\u001b[38;5;241m.\u001b[39m_engine \u001b[38;5;241m=\u001b[39m \u001b[38;5;28mself\u001b[39m\u001b[38;5;241m.\u001b[39m_make_engine(f, \u001b[38;5;28mself\u001b[39m\u001b[38;5;241m.\u001b[39mengine)\n",
      "File \u001b[1;32mc:\\Users\\rj000\\anaconda3\\envs\\Env_1\\Lib\\site-packages\\pandas\\io\\parsers\\readers.py:1705\u001b[0m, in \u001b[0;36mTextFileReader._make_engine\u001b[1;34m(self, f, engine)\u001b[0m\n\u001b[0;32m   1703\u001b[0m     \u001b[38;5;28;01mif\u001b[39;00m \u001b[38;5;124m\"\u001b[39m\u001b[38;5;124mb\u001b[39m\u001b[38;5;124m\"\u001b[39m \u001b[38;5;129;01mnot\u001b[39;00m \u001b[38;5;129;01min\u001b[39;00m mode:\n\u001b[0;32m   1704\u001b[0m         mode \u001b[38;5;241m+\u001b[39m\u001b[38;5;241m=\u001b[39m \u001b[38;5;124m\"\u001b[39m\u001b[38;5;124mb\u001b[39m\u001b[38;5;124m\"\u001b[39m\n\u001b[1;32m-> 1705\u001b[0m \u001b[38;5;28mself\u001b[39m\u001b[38;5;241m.\u001b[39mhandles \u001b[38;5;241m=\u001b[39m get_handle(\n\u001b[0;32m   1706\u001b[0m     f,\n\u001b[0;32m   1707\u001b[0m     mode,\n\u001b[0;32m   1708\u001b[0m     encoding\u001b[38;5;241m=\u001b[39m\u001b[38;5;28mself\u001b[39m\u001b[38;5;241m.\u001b[39moptions\u001b[38;5;241m.\u001b[39mget(\u001b[38;5;124m\"\u001b[39m\u001b[38;5;124mencoding\u001b[39m\u001b[38;5;124m\"\u001b[39m, \u001b[38;5;28;01mNone\u001b[39;00m),\n\u001b[0;32m   1709\u001b[0m     compression\u001b[38;5;241m=\u001b[39m\u001b[38;5;28mself\u001b[39m\u001b[38;5;241m.\u001b[39moptions\u001b[38;5;241m.\u001b[39mget(\u001b[38;5;124m\"\u001b[39m\u001b[38;5;124mcompression\u001b[39m\u001b[38;5;124m\"\u001b[39m, \u001b[38;5;28;01mNone\u001b[39;00m),\n\u001b[0;32m   1710\u001b[0m     memory_map\u001b[38;5;241m=\u001b[39m\u001b[38;5;28mself\u001b[39m\u001b[38;5;241m.\u001b[39moptions\u001b[38;5;241m.\u001b[39mget(\u001b[38;5;124m\"\u001b[39m\u001b[38;5;124mmemory_map\u001b[39m\u001b[38;5;124m\"\u001b[39m, \u001b[38;5;28;01mFalse\u001b[39;00m),\n\u001b[0;32m   1711\u001b[0m     is_text\u001b[38;5;241m=\u001b[39mis_text,\n\u001b[0;32m   1712\u001b[0m     errors\u001b[38;5;241m=\u001b[39m\u001b[38;5;28mself\u001b[39m\u001b[38;5;241m.\u001b[39moptions\u001b[38;5;241m.\u001b[39mget(\u001b[38;5;124m\"\u001b[39m\u001b[38;5;124mencoding_errors\u001b[39m\u001b[38;5;124m\"\u001b[39m, \u001b[38;5;124m\"\u001b[39m\u001b[38;5;124mstrict\u001b[39m\u001b[38;5;124m\"\u001b[39m),\n\u001b[0;32m   1713\u001b[0m     storage_options\u001b[38;5;241m=\u001b[39m\u001b[38;5;28mself\u001b[39m\u001b[38;5;241m.\u001b[39moptions\u001b[38;5;241m.\u001b[39mget(\u001b[38;5;124m\"\u001b[39m\u001b[38;5;124mstorage_options\u001b[39m\u001b[38;5;124m\"\u001b[39m, \u001b[38;5;28;01mNone\u001b[39;00m),\n\u001b[0;32m   1714\u001b[0m )\n\u001b[0;32m   1715\u001b[0m \u001b[38;5;28;01massert\u001b[39;00m \u001b[38;5;28mself\u001b[39m\u001b[38;5;241m.\u001b[39mhandles \u001b[38;5;129;01mis\u001b[39;00m \u001b[38;5;129;01mnot\u001b[39;00m \u001b[38;5;28;01mNone\u001b[39;00m\n\u001b[0;32m   1716\u001b[0m f \u001b[38;5;241m=\u001b[39m \u001b[38;5;28mself\u001b[39m\u001b[38;5;241m.\u001b[39mhandles\u001b[38;5;241m.\u001b[39mhandle\n",
      "File \u001b[1;32mc:\\Users\\rj000\\anaconda3\\envs\\Env_1\\Lib\\site-packages\\pandas\\io\\common.py:863\u001b[0m, in \u001b[0;36mget_handle\u001b[1;34m(path_or_buf, mode, encoding, compression, memory_map, is_text, errors, storage_options)\u001b[0m\n\u001b[0;32m    858\u001b[0m \u001b[38;5;28;01melif\u001b[39;00m \u001b[38;5;28misinstance\u001b[39m(handle, \u001b[38;5;28mstr\u001b[39m):\n\u001b[0;32m    859\u001b[0m     \u001b[38;5;66;03m# Check whether the filename is to be opened in binary mode.\u001b[39;00m\n\u001b[0;32m    860\u001b[0m     \u001b[38;5;66;03m# Binary mode does not support 'encoding' and 'newline'.\u001b[39;00m\n\u001b[0;32m    861\u001b[0m     \u001b[38;5;28;01mif\u001b[39;00m ioargs\u001b[38;5;241m.\u001b[39mencoding \u001b[38;5;129;01mand\u001b[39;00m \u001b[38;5;124m\"\u001b[39m\u001b[38;5;124mb\u001b[39m\u001b[38;5;124m\"\u001b[39m \u001b[38;5;129;01mnot\u001b[39;00m \u001b[38;5;129;01min\u001b[39;00m ioargs\u001b[38;5;241m.\u001b[39mmode:\n\u001b[0;32m    862\u001b[0m         \u001b[38;5;66;03m# Encoding\u001b[39;00m\n\u001b[1;32m--> 863\u001b[0m         handle \u001b[38;5;241m=\u001b[39m \u001b[38;5;28mopen\u001b[39m(\n\u001b[0;32m    864\u001b[0m             handle,\n\u001b[0;32m    865\u001b[0m             ioargs\u001b[38;5;241m.\u001b[39mmode,\n\u001b[0;32m    866\u001b[0m             encoding\u001b[38;5;241m=\u001b[39mioargs\u001b[38;5;241m.\u001b[39mencoding,\n\u001b[0;32m    867\u001b[0m             errors\u001b[38;5;241m=\u001b[39merrors,\n\u001b[0;32m    868\u001b[0m             newline\u001b[38;5;241m=\u001b[39m\u001b[38;5;124m\"\u001b[39m\u001b[38;5;124m\"\u001b[39m,\n\u001b[0;32m    869\u001b[0m         )\n\u001b[0;32m    870\u001b[0m     \u001b[38;5;28;01melse\u001b[39;00m:\n\u001b[0;32m    871\u001b[0m         \u001b[38;5;66;03m# Binary mode\u001b[39;00m\n\u001b[0;32m    872\u001b[0m         handle \u001b[38;5;241m=\u001b[39m \u001b[38;5;28mopen\u001b[39m(handle, ioargs\u001b[38;5;241m.\u001b[39mmode)\n",
      "\u001b[1;31mFileNotFoundError\u001b[0m: [Errno 2] No such file or directory: '/content/drive/MyDrive/Projects Undertaken/1. REGRESSION/Facebook metric Data Analysis/dataset_Facebook.csv'"
     ]
    }
   ],
   "source": [
    "df = pd.read_csv(\"/content/drive/MyDrive/Projects Undertaken/1. REGRESSION/Facebook metric Data Analysis/dataset_Facebook.csv\",delimiter=\";\")\n",
    "df['Paid']=df['Paid'].fillna(0).astype(int)\n",
    "df.sort_values(by=[\"Post Month\",\"Lifetime Post Total Reach\"] ,ascending=False).head()"
   ]
  },
  {
   "cell_type": "code",
   "execution_count": 5,
   "metadata": {
    "colab": {
     "base_uri": "https://localhost:8080/"
    },
    "executionInfo": {
     "elapsed": 433,
     "status": "ok",
     "timestamp": 1634389476505,
     "user": {
      "displayName": "Rajat Agarwal",
      "photoUrl": "https://lh3.googleusercontent.com/a-/AOh14GiqdQRoEJhWWghCgSMgU0X4si-AEXaiDC_NkfBOEw=s64",
      "userId": "15404319687387405045"
     },
     "user_tz": -330
    },
    "id": "4xfXcrxWM0sz",
    "outputId": "a39e1f87-c29e-4a96-9211-38bada2bb66e"
   },
   "outputs": [
    {
     "data": {
      "text/plain": [
       "[67, 74, 76, 77, 77, 77, 81, 81, 82, 85, 85, 86, 88, 88, 95, 97]"
      ]
     },
     "execution_count": 5,
     "metadata": {},
     "output_type": "execute_result"
    }
   ],
   "source": [
    "data =  [88, 85, 82, 97, 67, 77, 74, 86, 81, 95, 77,77, 88, 85, 76, 81]\n",
    "data.sort()\n",
    "data"
   ]
  },
  {
   "cell_type": "markdown",
   "metadata": {
    "id": "VS31m7fHNIaA"
   },
   "source": [
    "<a name=\"uv\"></a>\n",
    "# Getting unique value of a dataframe and a list"
   ]
  },
  {
   "cell_type": "code",
   "execution_count": 6,
   "metadata": {
    "colab": {
     "base_uri": "https://localhost:8080/"
    },
    "executionInfo": {
     "elapsed": 510,
     "status": "ok",
     "timestamp": 1634389345182,
     "user": {
      "displayName": "Rajat Agarwal",
      "photoUrl": "https://lh3.googleusercontent.com/a-/AOh14GiqdQRoEJhWWghCgSMgU0X4si-AEXaiDC_NkfBOEw=s64",
      "userId": "15404319687387405045"
     },
     "user_tz": -330
    },
    "id": "swiPVMxFMUBY",
    "outputId": "2b60736a-2420-48b5-a93c-c59f1fcb6120"
   },
   "outputs": [
    {
     "ename": "NameError",
     "evalue": "name 'df' is not defined",
     "output_type": "error",
     "traceback": [
      "\u001b[1;31m---------------------------------------------------------------------------\u001b[0m",
      "\u001b[1;31mNameError\u001b[0m                                 Traceback (most recent call last)",
      "Cell \u001b[1;32mIn[6], line 1\u001b[0m\n\u001b[1;32m----> 1\u001b[0m df[\u001b[38;5;124m'\u001b[39m\u001b[38;5;124mType\u001b[39m\u001b[38;5;124m'\u001b[39m]\u001b[38;5;241m.\u001b[39mvalue_counts()\n",
      "\u001b[1;31mNameError\u001b[0m: name 'df' is not defined"
     ]
    }
   ],
   "source": [
    "df['Type'].value_counts() # To get the count of the unique value in a panda series"
   ]
  },
  {
   "cell_type": "code",
   "execution_count": null,
   "metadata": {
    "colab": {
     "base_uri": "https://localhost:8080/"
    },
    "executionInfo": {
     "elapsed": 417,
     "status": "ok",
     "timestamp": 1634389370548,
     "user": {
      "displayName": "Rajat Agarwal",
      "photoUrl": "https://lh3.googleusercontent.com/a-/AOh14GiqdQRoEJhWWghCgSMgU0X4si-AEXaiDC_NkfBOEw=s64",
      "userId": "15404319687387405045"
     },
     "user_tz": -330
    },
    "id": "mkvVq_UtMmcF",
    "outputId": "6d0dfcdd-c727-4eee-8c77-2a48fcb2996c"
   },
   "outputs": [
    {
     "data": {
      "text/plain": [
       "4"
      ]
     },
     "execution_count": 32,
     "metadata": {},
     "output_type": "execute_result"
    }
   ],
   "source": [
    "df['Type'].nunique() # To get total numbet of unique value in pandas series"
   ]
  },
  {
   "cell_type": "code",
   "execution_count": null,
   "metadata": {
    "colab": {
     "base_uri": "https://localhost:8080/"
    },
    "executionInfo": {
     "elapsed": 421,
     "status": "ok",
     "timestamp": 1634389387751,
     "user": {
      "displayName": "Rajat Agarwal",
      "photoUrl": "https://lh3.googleusercontent.com/a-/AOh14GiqdQRoEJhWWghCgSMgU0X4si-AEXaiDC_NkfBOEw=s64",
      "userId": "15404319687387405045"
     },
     "user_tz": -330
    },
    "id": "bVLEcuPQMr8J",
    "outputId": "2e31d245-b9a1-4e1f-f2b0-562fcc450b68"
   },
   "outputs": [
    {
     "data": {
      "text/plain": [
       "array(['Photo', 'Status', 'Link', 'Video'], dtype=object)"
      ]
     },
     "execution_count": 33,
     "metadata": {},
     "output_type": "execute_result"
    }
   ],
   "source": [
    "df['Type'].unique() # To get the name of unique value from a pandas series"
   ]
  },
  {
   "cell_type": "code",
   "execution_count": null,
   "metadata": {
    "colab": {
     "base_uri": "https://localhost:8080/"
    },
    "executionInfo": {
     "elapsed": 498,
     "status": "ok",
     "timestamp": 1634389654133,
     "user": {
      "displayName": "Rajat Agarwal",
      "photoUrl": "https://lh3.googleusercontent.com/a-/AOh14GiqdQRoEJhWWghCgSMgU0X4si-AEXaiDC_NkfBOEw=s64",
      "userId": "15404319687387405045"
     },
     "user_tz": -330
    },
    "id": "FHgHvLCJNsWL",
    "outputId": "d611f9b6-0389-4bfc-c4ce-0c163826ae58"
   },
   "outputs": [
    {
     "data": {
      "text/plain": [
       "pandas.core.series.Series"
      ]
     },
     "execution_count": 39,
     "metadata": {},
     "output_type": "execute_result"
    }
   ],
   "source": [
    "type(df['Type'])"
   ]
  },
  {
   "cell_type": "code",
   "execution_count": null,
   "metadata": {
    "colab": {
     "base_uri": "https://localhost:8080/"
    },
    "executionInfo": {
     "elapsed": 456,
     "status": "ok",
     "timestamp": 1634390103291,
     "user": {
      "displayName": "Rajat Agarwal",
      "photoUrl": "https://lh3.googleusercontent.com/a-/AOh14GiqdQRoEJhWWghCgSMgU0X4si-AEXaiDC_NkfBOEw=s64",
      "userId": "15404319687387405045"
     },
     "user_tz": -330
    },
    "id": "wR2_tY3qNdkG",
    "outputId": "6f34a1e2-6aba-4144-bdb4-f4630c345b4d"
   },
   "outputs": [
    {
     "name": "stdout",
     "output_type": "stream",
     "text": [
      "Unique values of the data are dict_keys([88, 85, 82, 97, 67, 77, 74, 86, 81, 95, 76])\n",
      "Corresponding Unique values frequencies of the data are dict_values([2, 2, 1, 1, 1, 3, 1, 1, 2, 1, 1])\n"
     ]
    }
   ],
   "source": [
    "from collections import Counter\n",
    "data =  [88, 85, 82, 97, 67, 77, 74, 86, 81, 95, 77,77, 88, 85, 76, 81]\n",
    "countt = Counter(data)\n",
    "print(\"Unique values of the data are {}\".format( countt.keys()))\n",
    "print(\"Corresponding Unique values frequencies of the data are {}\".format( countt.values()))\n"
   ]
  },
  {
   "cell_type": "markdown",
   "metadata": {
    "id": "knbUaZ_8-EoE"
   },
   "source": [
    "<a name=\"csi\"></a>\n",
    "# Converting a column of string to integer ,float ,string"
   ]
  },
  {
   "cell_type": "code",
   "execution_count": null,
   "metadata": {
    "colab": {
     "base_uri": "https://localhost:8080/"
    },
    "executionInfo": {
     "elapsed": 439,
     "status": "ok",
     "timestamp": 1634390247759,
     "user": {
      "displayName": "Rajat Agarwal",
      "photoUrl": "https://lh3.googleusercontent.com/a-/AOh14GiqdQRoEJhWWghCgSMgU0X4si-AEXaiDC_NkfBOEw=s64",
      "userId": "15404319687387405045"
     },
     "user_tz": -330
    },
    "id": "hvETe1oMMrbo",
    "outputId": "e7f7419b-b46d-4793-c14b-9dace3da9dd0"
   },
   "outputs": [
    {
     "name": "stdout",
     "output_type": "stream",
     "text": [
      "0    0.0\n",
      "1    0.0\n",
      "2    0.0\n",
      "3    1.0\n",
      "4    0.0\n",
      "Name: Paid, dtype: float64\n",
      "0    0\n",
      "1    0\n",
      "2    0\n",
      "3    1\n",
      "4    0\n",
      "Name: Paid, dtype: int64\n"
     ]
    }
   ],
   "source": [
    "df = pd.read_csv(\"/content/drive/MyDrive/Projects Undertaken/1. REGRESSION/Facebook metric Data Analysis/dataset_Facebook.csv\",delimiter=\";\")\n",
    "print(df['Paid'][0:5])\n",
    "df['Paid']=df['Paid'].fillna(0).astype(int)\n",
    "print(df['Paid'][0:5])"
   ]
  },
  {
   "cell_type": "code",
   "execution_count": null,
   "metadata": {
    "colab": {
     "base_uri": "https://localhost:8080/"
    },
    "executionInfo": {
     "elapsed": 721,
     "status": "ok",
     "timestamp": 1634371043739,
     "user": {
      "displayName": "Rajat Agarwal",
      "photoUrl": "https://lh3.googleusercontent.com/a-/AOh14GiqdQRoEJhWWghCgSMgU0X4si-AEXaiDC_NkfBOEw=s64",
      "userId": "15404319687387405045"
     },
     "user_tz": -330
    },
    "id": "eyP_zfND-L_V",
    "outputId": "125fe22a-a5ba-49d9-cfba-83f6bd812767"
   },
   "outputs": [
    {
     "name": "stdout",
     "output_type": "stream",
     "text": [
      "0    1\n",
      "1    2\n",
      "2    3\n",
      "3    4\n",
      "Name: stringc, dtype: int64\n",
      "0    1.0\n",
      "1    2.0\n",
      "2    3.0\n",
      "3    4.0\n",
      "Name: stringc, dtype: float64\n",
      "0    1\n",
      "1    2\n",
      "2    3\n",
      "3    4\n",
      "Name: stringc, dtype: object\n",
      "  stringc    name\n",
      "0       1     Ram\n",
      "1       2   Shyam\n",
      "2       3  Laxman\n",
      "3       4  Bharat\n"
     ]
    }
   ],
   "source": [
    "df = pd.DataFrame({'stringc': ['1','2','3','4'],'name':['Ram','Shyam','Laxman','Bharat']})\n",
    "print(df.stringc.astype(int))\n",
    "print(df.stringc.astype(float))\n",
    "print(df.stringc.astype(str))\n",
    "print(df)"
   ]
  },
  {
   "cell_type": "code",
   "execution_count": null,
   "metadata": {
    "collapsed": true,
    "id": "g0bgTJh7oDp6",
    "jupyter": {
     "outputs_hidden": true
    }
   },
   "outputs": [],
   "source": [
    "df.allmap(str) # map all tha data in the dataframe to string type "
   ]
  },
  {
   "cell_type": "markdown",
   "metadata": {
    "id": "0IKUrpPU9cGn"
   },
   "source": [
    "<a name=\"gbp\"></a>\n",
    "# GROUP BY IN PYTHON "
   ]
  },
  {
   "cell_type": "code",
   "execution_count": 7,
   "metadata": {},
   "outputs": [
    {
     "data": {
      "text/plain": [
       "'C:\\\\Users\\\\rj000\\\\OneDrive\\\\Desktop\\\\Python_Code_Structure'"
      ]
     },
     "execution_count": 7,
     "metadata": {},
     "output_type": "execute_result"
    }
   ],
   "source": [
    "import os \n",
    "os.getcwd()"
   ]
  },
  {
   "cell_type": "code",
   "execution_count": 9,
   "metadata": {
    "colab": {
     "base_uri": "https://localhost:8080/",
     "height": 426
    },
    "executionInfo": {
     "elapsed": 434,
     "status": "ok",
     "timestamp": 1645438388585,
     "user": {
      "displayName": "Rajat Agarwal",
      "photoUrl": "https://lh3.googleusercontent.com/a-/AOh14GiqdQRoEJhWWghCgSMgU0X4si-AEXaiDC_NkfBOEw=s64",
      "userId": "15404319687387405045"
     },
     "user_tz": -330
    },
    "id": "M1IDw_i_9cbw",
    "outputId": "487661d2-1875-4376-a1a4-bd996ed895c9"
   },
   "outputs": [
    {
     "data": {
      "text/html": [
       "<div>\n",
       "<style scoped>\n",
       "    .dataframe tbody tr th:only-of-type {\n",
       "        vertical-align: middle;\n",
       "    }\n",
       "\n",
       "    .dataframe tbody tr th {\n",
       "        vertical-align: top;\n",
       "    }\n",
       "\n",
       "    .dataframe thead th {\n",
       "        text-align: right;\n",
       "    }\n",
       "</style>\n",
       "<table border=\"1\" class=\"dataframe\">\n",
       "  <thead>\n",
       "    <tr style=\"text-align: right;\">\n",
       "      <th></th>\n",
       "      <th>day</th>\n",
       "      <th>city</th>\n",
       "      <th>temperature</th>\n",
       "      <th>windspeed</th>\n",
       "      <th>event</th>\n",
       "    </tr>\n",
       "  </thead>\n",
       "  <tbody>\n",
       "    <tr>\n",
       "      <th>0</th>\n",
       "      <td>01-01-2017</td>\n",
       "      <td>new york</td>\n",
       "      <td>32</td>\n",
       "      <td>6</td>\n",
       "      <td>Rain</td>\n",
       "    </tr>\n",
       "    <tr>\n",
       "      <th>1</th>\n",
       "      <td>01-02-2017</td>\n",
       "      <td>new york</td>\n",
       "      <td>36</td>\n",
       "      <td>7</td>\n",
       "      <td>Sunny</td>\n",
       "    </tr>\n",
       "    <tr>\n",
       "      <th>2</th>\n",
       "      <td>01-03-2017</td>\n",
       "      <td>new york</td>\n",
       "      <td>28</td>\n",
       "      <td>12</td>\n",
       "      <td>Snow</td>\n",
       "    </tr>\n",
       "    <tr>\n",
       "      <th>3</th>\n",
       "      <td>01-04-2017</td>\n",
       "      <td>new york</td>\n",
       "      <td>33</td>\n",
       "      <td>7</td>\n",
       "      <td>Sunny</td>\n",
       "    </tr>\n",
       "    <tr>\n",
       "      <th>4</th>\n",
       "      <td>01-01-2017</td>\n",
       "      <td>mumbai</td>\n",
       "      <td>90</td>\n",
       "      <td>5</td>\n",
       "      <td>Sunny</td>\n",
       "    </tr>\n",
       "    <tr>\n",
       "      <th>5</th>\n",
       "      <td>01-02-2017</td>\n",
       "      <td>mumbai</td>\n",
       "      <td>85</td>\n",
       "      <td>12</td>\n",
       "      <td>Fog</td>\n",
       "    </tr>\n",
       "    <tr>\n",
       "      <th>6</th>\n",
       "      <td>01-03-2017</td>\n",
       "      <td>mumbai</td>\n",
       "      <td>87</td>\n",
       "      <td>15</td>\n",
       "      <td>Fog</td>\n",
       "    </tr>\n",
       "    <tr>\n",
       "      <th>7</th>\n",
       "      <td>01-04-2017</td>\n",
       "      <td>mumbai</td>\n",
       "      <td>92</td>\n",
       "      <td>5</td>\n",
       "      <td>Rain</td>\n",
       "    </tr>\n",
       "    <tr>\n",
       "      <th>8</th>\n",
       "      <td>01-01-2017</td>\n",
       "      <td>paris</td>\n",
       "      <td>45</td>\n",
       "      <td>20</td>\n",
       "      <td>Sunny</td>\n",
       "    </tr>\n",
       "    <tr>\n",
       "      <th>9</th>\n",
       "      <td>01-02-2017</td>\n",
       "      <td>paris</td>\n",
       "      <td>50</td>\n",
       "      <td>13</td>\n",
       "      <td>Cloudy</td>\n",
       "    </tr>\n",
       "    <tr>\n",
       "      <th>10</th>\n",
       "      <td>01-03-2017</td>\n",
       "      <td>paris</td>\n",
       "      <td>54</td>\n",
       "      <td>8</td>\n",
       "      <td>Cloudy</td>\n",
       "    </tr>\n",
       "    <tr>\n",
       "      <th>11</th>\n",
       "      <td>01-04-2017</td>\n",
       "      <td>paris</td>\n",
       "      <td>42</td>\n",
       "      <td>10</td>\n",
       "      <td>Cloudy</td>\n",
       "    </tr>\n",
       "  </tbody>\n",
       "</table>\n",
       "</div>"
      ],
      "text/plain": [
       "           day      city  temperature  windspeed   event\n",
       "0   01-01-2017  new york           32          6    Rain\n",
       "1   01-02-2017  new york           36          7   Sunny\n",
       "2   01-03-2017  new york           28         12    Snow\n",
       "3   01-04-2017  new york           33          7   Sunny\n",
       "4   01-01-2017    mumbai           90          5   Sunny\n",
       "5   01-02-2017    mumbai           85         12     Fog\n",
       "6   01-03-2017    mumbai           87         15     Fog\n",
       "7   01-04-2017    mumbai           92          5    Rain\n",
       "8   01-01-2017     paris           45         20   Sunny\n",
       "9   01-02-2017     paris           50         13  Cloudy\n",
       "10  01-03-2017     paris           54          8  Cloudy\n",
       "11  01-04-2017     paris           42         10  Cloudy"
      ]
     },
     "execution_count": 9,
     "metadata": {},
     "output_type": "execute_result"
    }
   ],
   "source": [
    "import pandas as pd\n",
    "# df = pd.read_csv(\"/content/drive/MyDrive/Corporate/Coding Skill resources/Python/Python Colab Notebook /Temperature data.csv\")\n",
    "# df\n",
    "df = pd.read_csv(os.path.join(os.getcwd(),\"1. Input_data\",\"Temperature data.csv\"))\n",
    "df"
   ]
  },
  {
   "cell_type": "code",
   "execution_count": 10,
   "metadata": {
    "colab": {
     "base_uri": "https://localhost:8080/",
     "height": 426
    },
    "executionInfo": {
     "elapsed": 30,
     "status": "ok",
     "timestamp": 1645438501564,
     "user": {
      "displayName": "Rajat Agarwal",
      "photoUrl": "https://lh3.googleusercontent.com/a-/AOh14GiqdQRoEJhWWghCgSMgU0X4si-AEXaiDC_NkfBOEw=s64",
      "userId": "15404319687387405045"
     },
     "user_tz": -330
    },
    "id": "JRs0TuMNxVlI",
    "outputId": "9f7f3f68-8685-4c4b-9db3-e28630c8ae21"
   },
   "outputs": [
    {
     "data": {
      "text/html": [
       "<div>\n",
       "<style scoped>\n",
       "    .dataframe tbody tr th:only-of-type {\n",
       "        vertical-align: middle;\n",
       "    }\n",
       "\n",
       "    .dataframe tbody tr th {\n",
       "        vertical-align: top;\n",
       "    }\n",
       "\n",
       "    .dataframe thead th {\n",
       "        text-align: right;\n",
       "    }\n",
       "</style>\n",
       "<table border=\"1\" class=\"dataframe\">\n",
       "  <thead>\n",
       "    <tr style=\"text-align: right;\">\n",
       "      <th></th>\n",
       "      <th>day</th>\n",
       "      <th>city</th>\n",
       "      <th>temperature</th>\n",
       "      <th>windspeed</th>\n",
       "      <th>event</th>\n",
       "      <th>windspeed_grop</th>\n",
       "    </tr>\n",
       "  </thead>\n",
       "  <tbody>\n",
       "    <tr>\n",
       "      <th>0</th>\n",
       "      <td>01-01-2017</td>\n",
       "      <td>new york</td>\n",
       "      <td>32</td>\n",
       "      <td>6</td>\n",
       "      <td>Rain</td>\n",
       "      <td>5-10</td>\n",
       "    </tr>\n",
       "    <tr>\n",
       "      <th>1</th>\n",
       "      <td>01-02-2017</td>\n",
       "      <td>new york</td>\n",
       "      <td>36</td>\n",
       "      <td>7</td>\n",
       "      <td>Sunny</td>\n",
       "      <td>5-10</td>\n",
       "    </tr>\n",
       "    <tr>\n",
       "      <th>2</th>\n",
       "      <td>01-03-2017</td>\n",
       "      <td>new york</td>\n",
       "      <td>28</td>\n",
       "      <td>12</td>\n",
       "      <td>Snow</td>\n",
       "      <td>10-15</td>\n",
       "    </tr>\n",
       "    <tr>\n",
       "      <th>3</th>\n",
       "      <td>01-04-2017</td>\n",
       "      <td>new york</td>\n",
       "      <td>33</td>\n",
       "      <td>7</td>\n",
       "      <td>Sunny</td>\n",
       "      <td>5-10</td>\n",
       "    </tr>\n",
       "    <tr>\n",
       "      <th>4</th>\n",
       "      <td>01-01-2017</td>\n",
       "      <td>mumbai</td>\n",
       "      <td>90</td>\n",
       "      <td>5</td>\n",
       "      <td>Sunny</td>\n",
       "      <td>0-5</td>\n",
       "    </tr>\n",
       "    <tr>\n",
       "      <th>5</th>\n",
       "      <td>01-02-2017</td>\n",
       "      <td>mumbai</td>\n",
       "      <td>85</td>\n",
       "      <td>12</td>\n",
       "      <td>Fog</td>\n",
       "      <td>10-15</td>\n",
       "    </tr>\n",
       "    <tr>\n",
       "      <th>6</th>\n",
       "      <td>01-03-2017</td>\n",
       "      <td>mumbai</td>\n",
       "      <td>87</td>\n",
       "      <td>15</td>\n",
       "      <td>Fog</td>\n",
       "      <td>10-15</td>\n",
       "    </tr>\n",
       "    <tr>\n",
       "      <th>7</th>\n",
       "      <td>01-04-2017</td>\n",
       "      <td>mumbai</td>\n",
       "      <td>92</td>\n",
       "      <td>5</td>\n",
       "      <td>Rain</td>\n",
       "      <td>0-5</td>\n",
       "    </tr>\n",
       "    <tr>\n",
       "      <th>8</th>\n",
       "      <td>01-01-2017</td>\n",
       "      <td>paris</td>\n",
       "      <td>45</td>\n",
       "      <td>20</td>\n",
       "      <td>Sunny</td>\n",
       "      <td>15-20</td>\n",
       "    </tr>\n",
       "    <tr>\n",
       "      <th>9</th>\n",
       "      <td>01-02-2017</td>\n",
       "      <td>paris</td>\n",
       "      <td>50</td>\n",
       "      <td>13</td>\n",
       "      <td>Cloudy</td>\n",
       "      <td>10-15</td>\n",
       "    </tr>\n",
       "    <tr>\n",
       "      <th>10</th>\n",
       "      <td>01-03-2017</td>\n",
       "      <td>paris</td>\n",
       "      <td>54</td>\n",
       "      <td>8</td>\n",
       "      <td>Cloudy</td>\n",
       "      <td>5-10</td>\n",
       "    </tr>\n",
       "    <tr>\n",
       "      <th>11</th>\n",
       "      <td>01-04-2017</td>\n",
       "      <td>paris</td>\n",
       "      <td>42</td>\n",
       "      <td>10</td>\n",
       "      <td>Cloudy</td>\n",
       "      <td>5-10</td>\n",
       "    </tr>\n",
       "  </tbody>\n",
       "</table>\n",
       "</div>"
      ],
      "text/plain": [
       "           day      city  temperature  windspeed   event windspeed_grop\n",
       "0   01-01-2017  new york           32          6    Rain           5-10\n",
       "1   01-02-2017  new york           36          7   Sunny           5-10\n",
       "2   01-03-2017  new york           28         12    Snow          10-15\n",
       "3   01-04-2017  new york           33          7   Sunny           5-10\n",
       "4   01-01-2017    mumbai           90          5   Sunny            0-5\n",
       "5   01-02-2017    mumbai           85         12     Fog          10-15\n",
       "6   01-03-2017    mumbai           87         15     Fog          10-15\n",
       "7   01-04-2017    mumbai           92          5    Rain            0-5\n",
       "8   01-01-2017     paris           45         20   Sunny          15-20\n",
       "9   01-02-2017     paris           50         13  Cloudy          10-15\n",
       "10  01-03-2017     paris           54          8  Cloudy           5-10\n",
       "11  01-04-2017     paris           42         10  Cloudy           5-10"
      ]
     },
     "execution_count": 10,
     "metadata": {},
     "output_type": "execute_result"
    }
   ],
   "source": [
    "df['windspeed_grop']=pd.cut(df.windspeed ,bins=[0,5,10,15,20,25], labels=['0-5','5-10','10-15','15-20','20-25'])\n",
    "df"
   ]
  },
  {
   "cell_type": "code",
   "execution_count": null,
   "metadata": {
    "colab": {
     "base_uri": "https://localhost:8080/"
    },
    "executionInfo": {
     "elapsed": 571,
     "status": "ok",
     "timestamp": 1643646484104,
     "user": {
      "displayName": "Rajat Agarwal",
      "photoUrl": "https://lh3.googleusercontent.com/a-/AOh14GiqdQRoEJhWWghCgSMgU0X4si-AEXaiDC_NkfBOEw=s64",
      "userId": "15404319687387405045"
     },
     "user_tz": -330
    },
    "id": "D_yTc2bN9mK_",
    "outputId": "2c196253-db8b-4353-e7c3-4c25582e272f"
   },
   "outputs": [
    {
     "name": "stdout",
     "output_type": "stream",
     "text": [
      "    temperature  windspeed\n",
      "0     -0.756650  -7.385489\n",
      "1     11.349749  -3.692745\n",
      "2    -12.863048  14.770979\n",
      "3      2.269950  -3.692745\n",
      "4      4.824506  -8.402536\n",
      "5    -11.257182   5.436935\n",
      "6     -4.824506  11.368137\n",
      "7     11.257182  -8.402536\n",
      "8     -5.173965  13.804308\n",
      "9      4.233244   0.476011\n",
      "10    11.759011  -9.044202\n",
      "11   -10.818290  -5.236117\n"
     ]
    }
   ],
   "source": [
    "grouped = df.groupby('city')\n",
    "score = lambda x: (x - x.mean()) / x.std()*10\n",
    "print(grouped.transform(score))"
   ]
  },
  {
   "cell_type": "markdown",
   "metadata": {
    "id": "0VjqumgJ7_Vk"
   },
   "source": [
    "# How to get the n topmost values for each group in dataframe"
   ]
  },
  {
   "cell_type": "markdown",
   "metadata": {
    "id": "9mUH8UVcb1WL"
   },
   "source": [
    "# Below are the information of available dataframe \n",
    "1. df1 = ['StudentID', 'Student_name', 'Parent_name', 'Guardian_Phone_number']\n",
    "2. df2 = ['StudentID', 'Class', 'Class_teacher_name']\n",
    "3. df3 = ['StudentID', 'Subject1_marks', 'Subject2_marks', 'Subject3_marks', 'Subject4_marks', 'Subject5_marks' ]\n",
    "\n",
    "# Our Target is to create a dataframe such that it has top 2 student from each class and has following columns i.e. [StudentID, Student_name, Class, Parent_name, Position]\n",
    "\n",
    "# Below is the solution for the above problem\n",
    "1. df = pd.merge(pd.merge(df1,df2,on='StudentID',how='outer'),df3,on='StudentID',how='outer').sort_values(columns='average_marks')\n",
    "\n",
    "2. df['rank'] = pd.merge(pd.merge(df1,df2,on='StudentID',how='outer'),df3,on='StudentID',how='outer').groupby['class'].rank('first')\n",
    "\n",
    "3. df.groupby('class').head(2)\n",
    "\n",
    "\n",
    "\n",
    "\n"
   ]
  },
  {
   "cell_type": "code",
   "execution_count": null,
   "metadata": {
    "colab": {
     "base_uri": "https://localhost:8080/",
     "height": 425
    },
    "executionInfo": {
     "elapsed": 389,
     "status": "ok",
     "timestamp": 1643675672503,
     "user": {
      "displayName": "Rajat Agarwal",
      "photoUrl": "https://lh3.googleusercontent.com/a-/AOh14GiqdQRoEJhWWghCgSMgU0X4si-AEXaiDC_NkfBOEw=s64",
      "userId": "15404319687387405045"
     },
     "user_tz": -330
    },
    "id": "BywdIsqp80og",
    "outputId": "53ee999b-defe-4063-ddc8-eb2d41de0442"
   },
   "outputs": [
    {
     "data": {
      "text/html": [
       "\n",
       "  <div id=\"df-190c5fd0-38b8-4355-a2d6-2d0729ffaf54\">\n",
       "    <div class=\"colab-df-container\">\n",
       "      <div>\n",
       "<style scoped>\n",
       "    .dataframe tbody tr th:only-of-type {\n",
       "        vertical-align: middle;\n",
       "    }\n",
       "\n",
       "    .dataframe tbody tr th {\n",
       "        vertical-align: top;\n",
       "    }\n",
       "\n",
       "    .dataframe thead th {\n",
       "        text-align: right;\n",
       "    }\n",
       "</style>\n",
       "<table border=\"1\" class=\"dataframe\">\n",
       "  <thead>\n",
       "    <tr style=\"text-align: right;\">\n",
       "      <th></th>\n",
       "      <th>day</th>\n",
       "      <th>city</th>\n",
       "      <th>temperature</th>\n",
       "      <th>windspeed</th>\n",
       "      <th>event</th>\n",
       "      <th>mean_value</th>\n",
       "    </tr>\n",
       "  </thead>\n",
       "  <tbody>\n",
       "    <tr>\n",
       "      <th>0</th>\n",
       "      <td>01-03-2017</td>\n",
       "      <td>new york</td>\n",
       "      <td>28</td>\n",
       "      <td>12</td>\n",
       "      <td>Snow</td>\n",
       "      <td>20.0</td>\n",
       "    </tr>\n",
       "    <tr>\n",
       "      <th>1</th>\n",
       "      <td>01-01-2017</td>\n",
       "      <td>new york</td>\n",
       "      <td>32</td>\n",
       "      <td>6</td>\n",
       "      <td>Rain</td>\n",
       "      <td>19.0</td>\n",
       "    </tr>\n",
       "    <tr>\n",
       "      <th>2</th>\n",
       "      <td>01-04-2017</td>\n",
       "      <td>new york</td>\n",
       "      <td>33</td>\n",
       "      <td>7</td>\n",
       "      <td>Sunny</td>\n",
       "      <td>20.0</td>\n",
       "    </tr>\n",
       "    <tr>\n",
       "      <th>3</th>\n",
       "      <td>01-02-2017</td>\n",
       "      <td>new york</td>\n",
       "      <td>36</td>\n",
       "      <td>7</td>\n",
       "      <td>Sunny</td>\n",
       "      <td>21.5</td>\n",
       "    </tr>\n",
       "    <tr>\n",
       "      <th>4</th>\n",
       "      <td>01-04-2017</td>\n",
       "      <td>paris</td>\n",
       "      <td>42</td>\n",
       "      <td>10</td>\n",
       "      <td>Cloudy</td>\n",
       "      <td>26.0</td>\n",
       "    </tr>\n",
       "    <tr>\n",
       "      <th>5</th>\n",
       "      <td>01-01-2017</td>\n",
       "      <td>paris</td>\n",
       "      <td>45</td>\n",
       "      <td>20</td>\n",
       "      <td>Sunny</td>\n",
       "      <td>32.5</td>\n",
       "    </tr>\n",
       "    <tr>\n",
       "      <th>6</th>\n",
       "      <td>01-02-2017</td>\n",
       "      <td>paris</td>\n",
       "      <td>50</td>\n",
       "      <td>13</td>\n",
       "      <td>Cloudy</td>\n",
       "      <td>31.5</td>\n",
       "    </tr>\n",
       "    <tr>\n",
       "      <th>7</th>\n",
       "      <td>01-03-2017</td>\n",
       "      <td>paris</td>\n",
       "      <td>54</td>\n",
       "      <td>8</td>\n",
       "      <td>Cloudy</td>\n",
       "      <td>31.0</td>\n",
       "    </tr>\n",
       "    <tr>\n",
       "      <th>8</th>\n",
       "      <td>01-02-2017</td>\n",
       "      <td>mumbai</td>\n",
       "      <td>85</td>\n",
       "      <td>12</td>\n",
       "      <td>Fog</td>\n",
       "      <td>48.5</td>\n",
       "    </tr>\n",
       "    <tr>\n",
       "      <th>9</th>\n",
       "      <td>01-03-2017</td>\n",
       "      <td>mumbai</td>\n",
       "      <td>87</td>\n",
       "      <td>15</td>\n",
       "      <td>Fog</td>\n",
       "      <td>51.0</td>\n",
       "    </tr>\n",
       "    <tr>\n",
       "      <th>10</th>\n",
       "      <td>01-01-2017</td>\n",
       "      <td>mumbai</td>\n",
       "      <td>90</td>\n",
       "      <td>5</td>\n",
       "      <td>Sunny</td>\n",
       "      <td>47.5</td>\n",
       "    </tr>\n",
       "    <tr>\n",
       "      <th>11</th>\n",
       "      <td>01-04-2017</td>\n",
       "      <td>mumbai</td>\n",
       "      <td>92</td>\n",
       "      <td>5</td>\n",
       "      <td>Rain</td>\n",
       "      <td>48.5</td>\n",
       "    </tr>\n",
       "  </tbody>\n",
       "</table>\n",
       "</div>\n",
       "      <button class=\"colab-df-convert\" onclick=\"convertToInteractive('df-190c5fd0-38b8-4355-a2d6-2d0729ffaf54')\"\n",
       "              title=\"Convert this dataframe to an interactive table.\"\n",
       "              style=\"display:none;\">\n",
       "        \n",
       "  <svg xmlns=\"http://www.w3.org/2000/svg\" height=\"24px\"viewBox=\"0 0 24 24\"\n",
       "       width=\"24px\">\n",
       "    <path d=\"M0 0h24v24H0V0z\" fill=\"none\"/>\n",
       "    <path d=\"M18.56 5.44l.94 2.06.94-2.06 2.06-.94-2.06-.94-.94-2.06-.94 2.06-2.06.94zm-11 1L8.5 8.5l.94-2.06 2.06-.94-2.06-.94L8.5 2.5l-.94 2.06-2.06.94zm10 10l.94 2.06.94-2.06 2.06-.94-2.06-.94-.94-2.06-.94 2.06-2.06.94z\"/><path d=\"M17.41 7.96l-1.37-1.37c-.4-.4-.92-.59-1.43-.59-.52 0-1.04.2-1.43.59L10.3 9.45l-7.72 7.72c-.78.78-.78 2.05 0 2.83L4 21.41c.39.39.9.59 1.41.59.51 0 1.02-.2 1.41-.59l7.78-7.78 2.81-2.81c.8-.78.8-2.07 0-2.86zM5.41 20L4 18.59l7.72-7.72 1.47 1.35L5.41 20z\"/>\n",
       "  </svg>\n",
       "      </button>\n",
       "      \n",
       "  <style>\n",
       "    .colab-df-container {\n",
       "      display:flex;\n",
       "      flex-wrap:wrap;\n",
       "      gap: 12px;\n",
       "    }\n",
       "\n",
       "    .colab-df-convert {\n",
       "      background-color: #E8F0FE;\n",
       "      border: none;\n",
       "      border-radius: 50%;\n",
       "      cursor: pointer;\n",
       "      display: none;\n",
       "      fill: #1967D2;\n",
       "      height: 32px;\n",
       "      padding: 0 0 0 0;\n",
       "      width: 32px;\n",
       "    }\n",
       "\n",
       "    .colab-df-convert:hover {\n",
       "      background-color: #E2EBFA;\n",
       "      box-shadow: 0px 1px 2px rgba(60, 64, 67, 0.3), 0px 1px 3px 1px rgba(60, 64, 67, 0.15);\n",
       "      fill: #174EA6;\n",
       "    }\n",
       "\n",
       "    [theme=dark] .colab-df-convert {\n",
       "      background-color: #3B4455;\n",
       "      fill: #D2E3FC;\n",
       "    }\n",
       "\n",
       "    [theme=dark] .colab-df-convert:hover {\n",
       "      background-color: #434B5C;\n",
       "      box-shadow: 0px 1px 3px 1px rgba(0, 0, 0, 0.15);\n",
       "      filter: drop-shadow(0px 1px 2px rgba(0, 0, 0, 0.3));\n",
       "      fill: #FFFFFF;\n",
       "    }\n",
       "  </style>\n",
       "\n",
       "      <script>\n",
       "        const buttonEl =\n",
       "          document.querySelector('#df-190c5fd0-38b8-4355-a2d6-2d0729ffaf54 button.colab-df-convert');\n",
       "        buttonEl.style.display =\n",
       "          google.colab.kernel.accessAllowed ? 'block' : 'none';\n",
       "\n",
       "        async function convertToInteractive(key) {\n",
       "          const element = document.querySelector('#df-190c5fd0-38b8-4355-a2d6-2d0729ffaf54');\n",
       "          const dataTable =\n",
       "            await google.colab.kernel.invokeFunction('convertToInteractive',\n",
       "                                                     [key], {});\n",
       "          if (!dataTable) return;\n",
       "\n",
       "          const docLinkHtml = 'Like what you see? Visit the ' +\n",
       "            '<a target=\"_blank\" href=https://colab.research.google.com/notebooks/data_table.ipynb>data table notebook</a>'\n",
       "            + ' to learn more about interactive tables.';\n",
       "          element.innerHTML = '';\n",
       "          dataTable['output_type'] = 'display_data';\n",
       "          await google.colab.output.renderOutput(dataTable, element);\n",
       "          const docLink = document.createElement('div');\n",
       "          docLink.innerHTML = docLinkHtml;\n",
       "          element.appendChild(docLink);\n",
       "        }\n",
       "      </script>\n",
       "    </div>\n",
       "  </div>\n",
       "  "
      ],
      "text/plain": [
       "           day      city  temperature  windspeed   event  mean_value\n",
       "0   01-03-2017  new york           28         12    Snow        20.0\n",
       "1   01-01-2017  new york           32          6    Rain        19.0\n",
       "2   01-04-2017  new york           33          7   Sunny        20.0\n",
       "3   01-02-2017  new york           36          7   Sunny        21.5\n",
       "4   01-04-2017     paris           42         10  Cloudy        26.0\n",
       "5   01-01-2017     paris           45         20   Sunny        32.5\n",
       "6   01-02-2017     paris           50         13  Cloudy        31.5\n",
       "7   01-03-2017     paris           54          8  Cloudy        31.0\n",
       "8   01-02-2017    mumbai           85         12     Fog        48.5\n",
       "9   01-03-2017    mumbai           87         15     Fog        51.0\n",
       "10  01-01-2017    mumbai           90          5   Sunny        47.5\n",
       "11  01-04-2017    mumbai           92          5    Rain        48.5"
      ]
     },
     "execution_count": 10,
     "metadata": {},
     "output_type": "execute_result"
    }
   ],
   "source": [
    "aa = df.sort_values(['temperature','windspeed'],ascending=True).reset_index(drop=True)\n",
    "aa['mean_value'] = aa.mean(axis=1)\n",
    "aa"
   ]
  },
  {
   "cell_type": "code",
   "execution_count": null,
   "metadata": {
    "colab": {
     "base_uri": "https://localhost:8080/",
     "height": 425
    },
    "executionInfo": {
     "elapsed": 422,
     "status": "ok",
     "timestamp": 1643676192271,
     "user": {
      "displayName": "Rajat Agarwal",
      "photoUrl": "https://lh3.googleusercontent.com/a-/AOh14GiqdQRoEJhWWghCgSMgU0X4si-AEXaiDC_NkfBOEw=s64",
      "userId": "15404319687387405045"
     },
     "user_tz": -330
    },
    "id": "bbbdnA5Du6NM",
    "outputId": "06d2cbf7-4c13-4f68-e548-d09d03984ded"
   },
   "outputs": [
    {
     "data": {
      "text/html": [
       "\n",
       "  <div id=\"df-7ced2d52-2b5e-4909-9c1e-bb352d5cf297\">\n",
       "    <div class=\"colab-df-container\">\n",
       "      <div>\n",
       "<style scoped>\n",
       "    .dataframe tbody tr th:only-of-type {\n",
       "        vertical-align: middle;\n",
       "    }\n",
       "\n",
       "    .dataframe tbody tr th {\n",
       "        vertical-align: top;\n",
       "    }\n",
       "\n",
       "    .dataframe thead th {\n",
       "        text-align: right;\n",
       "    }\n",
       "</style>\n",
       "<table border=\"1\" class=\"dataframe\">\n",
       "  <thead>\n",
       "    <tr style=\"text-align: right;\">\n",
       "      <th></th>\n",
       "      <th>day</th>\n",
       "      <th>city</th>\n",
       "      <th>temperature</th>\n",
       "      <th>windspeed</th>\n",
       "      <th>event</th>\n",
       "      <th>mean_value</th>\n",
       "      <th>rank</th>\n",
       "      <th>average_rank</th>\n",
       "      <th>min_rank</th>\n",
       "      <th>max_rank</th>\n",
       "      <th>dense_rank</th>\n",
       "      <th>first_rank</th>\n",
       "    </tr>\n",
       "  </thead>\n",
       "  <tbody>\n",
       "    <tr>\n",
       "      <th>0</th>\n",
       "      <td>01-03-2017</td>\n",
       "      <td>new york</td>\n",
       "      <td>28</td>\n",
       "      <td>12</td>\n",
       "      <td>Snow</td>\n",
       "      <td>20.0</td>\n",
       "      <td>1.0</td>\n",
       "      <td>1.0</td>\n",
       "      <td>1.0</td>\n",
       "      <td>1.0</td>\n",
       "      <td>1.0</td>\n",
       "      <td>1.0</td>\n",
       "    </tr>\n",
       "    <tr>\n",
       "      <th>1</th>\n",
       "      <td>01-01-2017</td>\n",
       "      <td>new york</td>\n",
       "      <td>32</td>\n",
       "      <td>6</td>\n",
       "      <td>Rain</td>\n",
       "      <td>19.0</td>\n",
       "      <td>2.0</td>\n",
       "      <td>2.0</td>\n",
       "      <td>2.0</td>\n",
       "      <td>2.0</td>\n",
       "      <td>2.0</td>\n",
       "      <td>2.0</td>\n",
       "    </tr>\n",
       "    <tr>\n",
       "      <th>2</th>\n",
       "      <td>01-04-2017</td>\n",
       "      <td>new york</td>\n",
       "      <td>33</td>\n",
       "      <td>7</td>\n",
       "      <td>Sunny</td>\n",
       "      <td>20.0</td>\n",
       "      <td>3.0</td>\n",
       "      <td>3.0</td>\n",
       "      <td>3.0</td>\n",
       "      <td>3.0</td>\n",
       "      <td>3.0</td>\n",
       "      <td>3.0</td>\n",
       "    </tr>\n",
       "    <tr>\n",
       "      <th>3</th>\n",
       "      <td>01-02-2017</td>\n",
       "      <td>new york</td>\n",
       "      <td>36</td>\n",
       "      <td>7</td>\n",
       "      <td>Sunny</td>\n",
       "      <td>21.5</td>\n",
       "      <td>4.0</td>\n",
       "      <td>4.0</td>\n",
       "      <td>4.0</td>\n",
       "      <td>4.0</td>\n",
       "      <td>4.0</td>\n",
       "      <td>4.0</td>\n",
       "    </tr>\n",
       "    <tr>\n",
       "      <th>4</th>\n",
       "      <td>01-04-2017</td>\n",
       "      <td>paris</td>\n",
       "      <td>42</td>\n",
       "      <td>10</td>\n",
       "      <td>Cloudy</td>\n",
       "      <td>26.0</td>\n",
       "      <td>1.0</td>\n",
       "      <td>1.0</td>\n",
       "      <td>1.0</td>\n",
       "      <td>1.0</td>\n",
       "      <td>1.0</td>\n",
       "      <td>1.0</td>\n",
       "    </tr>\n",
       "    <tr>\n",
       "      <th>5</th>\n",
       "      <td>01-01-2017</td>\n",
       "      <td>paris</td>\n",
       "      <td>45</td>\n",
       "      <td>20</td>\n",
       "      <td>Sunny</td>\n",
       "      <td>32.5</td>\n",
       "      <td>2.0</td>\n",
       "      <td>2.0</td>\n",
       "      <td>2.0</td>\n",
       "      <td>2.0</td>\n",
       "      <td>2.0</td>\n",
       "      <td>2.0</td>\n",
       "    </tr>\n",
       "    <tr>\n",
       "      <th>6</th>\n",
       "      <td>01-02-2017</td>\n",
       "      <td>paris</td>\n",
       "      <td>50</td>\n",
       "      <td>13</td>\n",
       "      <td>Cloudy</td>\n",
       "      <td>31.5</td>\n",
       "      <td>3.0</td>\n",
       "      <td>3.0</td>\n",
       "      <td>3.0</td>\n",
       "      <td>3.0</td>\n",
       "      <td>3.0</td>\n",
       "      <td>3.0</td>\n",
       "    </tr>\n",
       "    <tr>\n",
       "      <th>7</th>\n",
       "      <td>01-03-2017</td>\n",
       "      <td>paris</td>\n",
       "      <td>54</td>\n",
       "      <td>8</td>\n",
       "      <td>Cloudy</td>\n",
       "      <td>31.0</td>\n",
       "      <td>4.0</td>\n",
       "      <td>4.0</td>\n",
       "      <td>4.0</td>\n",
       "      <td>4.0</td>\n",
       "      <td>4.0</td>\n",
       "      <td>4.0</td>\n",
       "    </tr>\n",
       "    <tr>\n",
       "      <th>8</th>\n",
       "      <td>01-02-2017</td>\n",
       "      <td>mumbai</td>\n",
       "      <td>85</td>\n",
       "      <td>12</td>\n",
       "      <td>Fog</td>\n",
       "      <td>48.5</td>\n",
       "      <td>1.0</td>\n",
       "      <td>1.0</td>\n",
       "      <td>1.0</td>\n",
       "      <td>1.0</td>\n",
       "      <td>1.0</td>\n",
       "      <td>1.0</td>\n",
       "    </tr>\n",
       "    <tr>\n",
       "      <th>9</th>\n",
       "      <td>01-03-2017</td>\n",
       "      <td>mumbai</td>\n",
       "      <td>87</td>\n",
       "      <td>15</td>\n",
       "      <td>Fog</td>\n",
       "      <td>51.0</td>\n",
       "      <td>2.0</td>\n",
       "      <td>2.0</td>\n",
       "      <td>2.0</td>\n",
       "      <td>2.0</td>\n",
       "      <td>2.0</td>\n",
       "      <td>2.0</td>\n",
       "    </tr>\n",
       "    <tr>\n",
       "      <th>10</th>\n",
       "      <td>01-01-2017</td>\n",
       "      <td>mumbai</td>\n",
       "      <td>90</td>\n",
       "      <td>5</td>\n",
       "      <td>Sunny</td>\n",
       "      <td>47.5</td>\n",
       "      <td>3.0</td>\n",
       "      <td>3.0</td>\n",
       "      <td>3.0</td>\n",
       "      <td>3.0</td>\n",
       "      <td>3.0</td>\n",
       "      <td>3.0</td>\n",
       "    </tr>\n",
       "    <tr>\n",
       "      <th>11</th>\n",
       "      <td>01-04-2017</td>\n",
       "      <td>mumbai</td>\n",
       "      <td>92</td>\n",
       "      <td>5</td>\n",
       "      <td>Rain</td>\n",
       "      <td>48.5</td>\n",
       "      <td>4.0</td>\n",
       "      <td>4.0</td>\n",
       "      <td>4.0</td>\n",
       "      <td>4.0</td>\n",
       "      <td>4.0</td>\n",
       "      <td>4.0</td>\n",
       "    </tr>\n",
       "  </tbody>\n",
       "</table>\n",
       "</div>\n",
       "      <button class=\"colab-df-convert\" onclick=\"convertToInteractive('df-7ced2d52-2b5e-4909-9c1e-bb352d5cf297')\"\n",
       "              title=\"Convert this dataframe to an interactive table.\"\n",
       "              style=\"display:none;\">\n",
       "        \n",
       "  <svg xmlns=\"http://www.w3.org/2000/svg\" height=\"24px\"viewBox=\"0 0 24 24\"\n",
       "       width=\"24px\">\n",
       "    <path d=\"M0 0h24v24H0V0z\" fill=\"none\"/>\n",
       "    <path d=\"M18.56 5.44l.94 2.06.94-2.06 2.06-.94-2.06-.94-.94-2.06-.94 2.06-2.06.94zm-11 1L8.5 8.5l.94-2.06 2.06-.94-2.06-.94L8.5 2.5l-.94 2.06-2.06.94zm10 10l.94 2.06.94-2.06 2.06-.94-2.06-.94-.94-2.06-.94 2.06-2.06.94z\"/><path d=\"M17.41 7.96l-1.37-1.37c-.4-.4-.92-.59-1.43-.59-.52 0-1.04.2-1.43.59L10.3 9.45l-7.72 7.72c-.78.78-.78 2.05 0 2.83L4 21.41c.39.39.9.59 1.41.59.51 0 1.02-.2 1.41-.59l7.78-7.78 2.81-2.81c.8-.78.8-2.07 0-2.86zM5.41 20L4 18.59l7.72-7.72 1.47 1.35L5.41 20z\"/>\n",
       "  </svg>\n",
       "      </button>\n",
       "      \n",
       "  <style>\n",
       "    .colab-df-container {\n",
       "      display:flex;\n",
       "      flex-wrap:wrap;\n",
       "      gap: 12px;\n",
       "    }\n",
       "\n",
       "    .colab-df-convert {\n",
       "      background-color: #E8F0FE;\n",
       "      border: none;\n",
       "      border-radius: 50%;\n",
       "      cursor: pointer;\n",
       "      display: none;\n",
       "      fill: #1967D2;\n",
       "      height: 32px;\n",
       "      padding: 0 0 0 0;\n",
       "      width: 32px;\n",
       "    }\n",
       "\n",
       "    .colab-df-convert:hover {\n",
       "      background-color: #E2EBFA;\n",
       "      box-shadow: 0px 1px 2px rgba(60, 64, 67, 0.3), 0px 1px 3px 1px rgba(60, 64, 67, 0.15);\n",
       "      fill: #174EA6;\n",
       "    }\n",
       "\n",
       "    [theme=dark] .colab-df-convert {\n",
       "      background-color: #3B4455;\n",
       "      fill: #D2E3FC;\n",
       "    }\n",
       "\n",
       "    [theme=dark] .colab-df-convert:hover {\n",
       "      background-color: #434B5C;\n",
       "      box-shadow: 0px 1px 3px 1px rgba(0, 0, 0, 0.15);\n",
       "      filter: drop-shadow(0px 1px 2px rgba(0, 0, 0, 0.3));\n",
       "      fill: #FFFFFF;\n",
       "    }\n",
       "  </style>\n",
       "\n",
       "      <script>\n",
       "        const buttonEl =\n",
       "          document.querySelector('#df-7ced2d52-2b5e-4909-9c1e-bb352d5cf297 button.colab-df-convert');\n",
       "        buttonEl.style.display =\n",
       "          google.colab.kernel.accessAllowed ? 'block' : 'none';\n",
       "\n",
       "        async function convertToInteractive(key) {\n",
       "          const element = document.querySelector('#df-7ced2d52-2b5e-4909-9c1e-bb352d5cf297');\n",
       "          const dataTable =\n",
       "            await google.colab.kernel.invokeFunction('convertToInteractive',\n",
       "                                                     [key], {});\n",
       "          if (!dataTable) return;\n",
       "\n",
       "          const docLinkHtml = 'Like what you see? Visit the ' +\n",
       "            '<a target=\"_blank\" href=https://colab.research.google.com/notebooks/data_table.ipynb>data table notebook</a>'\n",
       "            + ' to learn more about interactive tables.';\n",
       "          element.innerHTML = '';\n",
       "          dataTable['output_type'] = 'display_data';\n",
       "          await google.colab.output.renderOutput(dataTable, element);\n",
       "          const docLink = document.createElement('div');\n",
       "          docLink.innerHTML = docLinkHtml;\n",
       "          element.appendChild(docLink);\n",
       "        }\n",
       "      </script>\n",
       "    </div>\n",
       "  </div>\n",
       "  "
      ],
      "text/plain": [
       "           day      city  temperature  ...  max_rank dense_rank  first_rank\n",
       "0   01-03-2017  new york           28  ...       1.0        1.0         1.0\n",
       "1   01-01-2017  new york           32  ...       2.0        2.0         2.0\n",
       "2   01-04-2017  new york           33  ...       3.0        3.0         3.0\n",
       "3   01-02-2017  new york           36  ...       4.0        4.0         4.0\n",
       "4   01-04-2017     paris           42  ...       1.0        1.0         1.0\n",
       "5   01-01-2017     paris           45  ...       2.0        2.0         2.0\n",
       "6   01-02-2017     paris           50  ...       3.0        3.0         3.0\n",
       "7   01-03-2017     paris           54  ...       4.0        4.0         4.0\n",
       "8   01-02-2017    mumbai           85  ...       1.0        1.0         1.0\n",
       "9   01-03-2017    mumbai           87  ...       2.0        2.0         2.0\n",
       "10  01-01-2017    mumbai           90  ...       3.0        3.0         3.0\n",
       "11  01-04-2017    mumbai           92  ...       4.0        4.0         4.0\n",
       "\n",
       "[12 rows x 12 columns]"
      ]
     },
     "execution_count": 13,
     "metadata": {},
     "output_type": "execute_result"
    }
   ],
   "source": [
    "for method in ['average', 'min', 'max', 'dense', 'first']:\n",
    "    aa[f'{method}_rank'] = aa.groupby('city')['temperature'].rank(method)\n",
    "aa"
   ]
  },
  {
   "cell_type": "code",
   "execution_count": null,
   "metadata": {
    "colab": {
     "base_uri": "https://localhost:8080/",
     "height": 237
    },
    "executionInfo": {
     "elapsed": 520,
     "status": "ok",
     "timestamp": 1643676231281,
     "user": {
      "displayName": "Rajat Agarwal",
      "photoUrl": "https://lh3.googleusercontent.com/a-/AOh14GiqdQRoEJhWWghCgSMgU0X4si-AEXaiDC_NkfBOEw=s64",
      "userId": "15404319687387405045"
     },
     "user_tz": -330
    },
    "id": "ewsuJutQvHE7",
    "outputId": "46001691-73fc-4048-fc1e-4298326ecbb1"
   },
   "outputs": [
    {
     "data": {
      "text/html": [
       "\n",
       "  <div id=\"df-f033d234-8265-419b-aaf4-6d636e28118f\">\n",
       "    <div class=\"colab-df-container\">\n",
       "      <div>\n",
       "<style scoped>\n",
       "    .dataframe tbody tr th:only-of-type {\n",
       "        vertical-align: middle;\n",
       "    }\n",
       "\n",
       "    .dataframe tbody tr th {\n",
       "        vertical-align: top;\n",
       "    }\n",
       "\n",
       "    .dataframe thead th {\n",
       "        text-align: right;\n",
       "    }\n",
       "</style>\n",
       "<table border=\"1\" class=\"dataframe\">\n",
       "  <thead>\n",
       "    <tr style=\"text-align: right;\">\n",
       "      <th></th>\n",
       "      <th>day</th>\n",
       "      <th>city</th>\n",
       "      <th>temperature</th>\n",
       "      <th>windspeed</th>\n",
       "      <th>event</th>\n",
       "      <th>mean_value</th>\n",
       "      <th>rank</th>\n",
       "      <th>average_rank</th>\n",
       "      <th>min_rank</th>\n",
       "      <th>max_rank</th>\n",
       "      <th>dense_rank</th>\n",
       "      <th>first_rank</th>\n",
       "    </tr>\n",
       "  </thead>\n",
       "  <tbody>\n",
       "    <tr>\n",
       "      <th>0</th>\n",
       "      <td>01-03-2017</td>\n",
       "      <td>new york</td>\n",
       "      <td>28</td>\n",
       "      <td>12</td>\n",
       "      <td>Snow</td>\n",
       "      <td>20.0</td>\n",
       "      <td>1.0</td>\n",
       "      <td>1.0</td>\n",
       "      <td>1.0</td>\n",
       "      <td>1.0</td>\n",
       "      <td>1.0</td>\n",
       "      <td>1.0</td>\n",
       "    </tr>\n",
       "    <tr>\n",
       "      <th>1</th>\n",
       "      <td>01-01-2017</td>\n",
       "      <td>new york</td>\n",
       "      <td>32</td>\n",
       "      <td>6</td>\n",
       "      <td>Rain</td>\n",
       "      <td>19.0</td>\n",
       "      <td>2.0</td>\n",
       "      <td>2.0</td>\n",
       "      <td>2.0</td>\n",
       "      <td>2.0</td>\n",
       "      <td>2.0</td>\n",
       "      <td>2.0</td>\n",
       "    </tr>\n",
       "    <tr>\n",
       "      <th>4</th>\n",
       "      <td>01-04-2017</td>\n",
       "      <td>paris</td>\n",
       "      <td>42</td>\n",
       "      <td>10</td>\n",
       "      <td>Cloudy</td>\n",
       "      <td>26.0</td>\n",
       "      <td>1.0</td>\n",
       "      <td>1.0</td>\n",
       "      <td>1.0</td>\n",
       "      <td>1.0</td>\n",
       "      <td>1.0</td>\n",
       "      <td>1.0</td>\n",
       "    </tr>\n",
       "    <tr>\n",
       "      <th>5</th>\n",
       "      <td>01-01-2017</td>\n",
       "      <td>paris</td>\n",
       "      <td>45</td>\n",
       "      <td>20</td>\n",
       "      <td>Sunny</td>\n",
       "      <td>32.5</td>\n",
       "      <td>2.0</td>\n",
       "      <td>2.0</td>\n",
       "      <td>2.0</td>\n",
       "      <td>2.0</td>\n",
       "      <td>2.0</td>\n",
       "      <td>2.0</td>\n",
       "    </tr>\n",
       "    <tr>\n",
       "      <th>8</th>\n",
       "      <td>01-02-2017</td>\n",
       "      <td>mumbai</td>\n",
       "      <td>85</td>\n",
       "      <td>12</td>\n",
       "      <td>Fog</td>\n",
       "      <td>48.5</td>\n",
       "      <td>1.0</td>\n",
       "      <td>1.0</td>\n",
       "      <td>1.0</td>\n",
       "      <td>1.0</td>\n",
       "      <td>1.0</td>\n",
       "      <td>1.0</td>\n",
       "    </tr>\n",
       "    <tr>\n",
       "      <th>9</th>\n",
       "      <td>01-03-2017</td>\n",
       "      <td>mumbai</td>\n",
       "      <td>87</td>\n",
       "      <td>15</td>\n",
       "      <td>Fog</td>\n",
       "      <td>51.0</td>\n",
       "      <td>2.0</td>\n",
       "      <td>2.0</td>\n",
       "      <td>2.0</td>\n",
       "      <td>2.0</td>\n",
       "      <td>2.0</td>\n",
       "      <td>2.0</td>\n",
       "    </tr>\n",
       "  </tbody>\n",
       "</table>\n",
       "</div>\n",
       "      <button class=\"colab-df-convert\" onclick=\"convertToInteractive('df-f033d234-8265-419b-aaf4-6d636e28118f')\"\n",
       "              title=\"Convert this dataframe to an interactive table.\"\n",
       "              style=\"display:none;\">\n",
       "        \n",
       "  <svg xmlns=\"http://www.w3.org/2000/svg\" height=\"24px\"viewBox=\"0 0 24 24\"\n",
       "       width=\"24px\">\n",
       "    <path d=\"M0 0h24v24H0V0z\" fill=\"none\"/>\n",
       "    <path d=\"M18.56 5.44l.94 2.06.94-2.06 2.06-.94-2.06-.94-.94-2.06-.94 2.06-2.06.94zm-11 1L8.5 8.5l.94-2.06 2.06-.94-2.06-.94L8.5 2.5l-.94 2.06-2.06.94zm10 10l.94 2.06.94-2.06 2.06-.94-2.06-.94-.94-2.06-.94 2.06-2.06.94z\"/><path d=\"M17.41 7.96l-1.37-1.37c-.4-.4-.92-.59-1.43-.59-.52 0-1.04.2-1.43.59L10.3 9.45l-7.72 7.72c-.78.78-.78 2.05 0 2.83L4 21.41c.39.39.9.59 1.41.59.51 0 1.02-.2 1.41-.59l7.78-7.78 2.81-2.81c.8-.78.8-2.07 0-2.86zM5.41 20L4 18.59l7.72-7.72 1.47 1.35L5.41 20z\"/>\n",
       "  </svg>\n",
       "      </button>\n",
       "      \n",
       "  <style>\n",
       "    .colab-df-container {\n",
       "      display:flex;\n",
       "      flex-wrap:wrap;\n",
       "      gap: 12px;\n",
       "    }\n",
       "\n",
       "    .colab-df-convert {\n",
       "      background-color: #E8F0FE;\n",
       "      border: none;\n",
       "      border-radius: 50%;\n",
       "      cursor: pointer;\n",
       "      display: none;\n",
       "      fill: #1967D2;\n",
       "      height: 32px;\n",
       "      padding: 0 0 0 0;\n",
       "      width: 32px;\n",
       "    }\n",
       "\n",
       "    .colab-df-convert:hover {\n",
       "      background-color: #E2EBFA;\n",
       "      box-shadow: 0px 1px 2px rgba(60, 64, 67, 0.3), 0px 1px 3px 1px rgba(60, 64, 67, 0.15);\n",
       "      fill: #174EA6;\n",
       "    }\n",
       "\n",
       "    [theme=dark] .colab-df-convert {\n",
       "      background-color: #3B4455;\n",
       "      fill: #D2E3FC;\n",
       "    }\n",
       "\n",
       "    [theme=dark] .colab-df-convert:hover {\n",
       "      background-color: #434B5C;\n",
       "      box-shadow: 0px 1px 3px 1px rgba(0, 0, 0, 0.15);\n",
       "      filter: drop-shadow(0px 1px 2px rgba(0, 0, 0, 0.3));\n",
       "      fill: #FFFFFF;\n",
       "    }\n",
       "  </style>\n",
       "\n",
       "      <script>\n",
       "        const buttonEl =\n",
       "          document.querySelector('#df-f033d234-8265-419b-aaf4-6d636e28118f button.colab-df-convert');\n",
       "        buttonEl.style.display =\n",
       "          google.colab.kernel.accessAllowed ? 'block' : 'none';\n",
       "\n",
       "        async function convertToInteractive(key) {\n",
       "          const element = document.querySelector('#df-f033d234-8265-419b-aaf4-6d636e28118f');\n",
       "          const dataTable =\n",
       "            await google.colab.kernel.invokeFunction('convertToInteractive',\n",
       "                                                     [key], {});\n",
       "          if (!dataTable) return;\n",
       "\n",
       "          const docLinkHtml = 'Like what you see? Visit the ' +\n",
       "            '<a target=\"_blank\" href=https://colab.research.google.com/notebooks/data_table.ipynb>data table notebook</a>'\n",
       "            + ' to learn more about interactive tables.';\n",
       "          element.innerHTML = '';\n",
       "          dataTable['output_type'] = 'display_data';\n",
       "          await google.colab.output.renderOutput(dataTable, element);\n",
       "          const docLink = document.createElement('div');\n",
       "          docLink.innerHTML = docLinkHtml;\n",
       "          element.appendChild(docLink);\n",
       "        }\n",
       "      </script>\n",
       "    </div>\n",
       "  </div>\n",
       "  "
      ],
      "text/plain": [
       "          day      city  temperature  ...  max_rank dense_rank  first_rank\n",
       "0  01-03-2017  new york           28  ...       1.0        1.0         1.0\n",
       "1  01-01-2017  new york           32  ...       2.0        2.0         2.0\n",
       "4  01-04-2017     paris           42  ...       1.0        1.0         1.0\n",
       "5  01-01-2017     paris           45  ...       2.0        2.0         2.0\n",
       "8  01-02-2017    mumbai           85  ...       1.0        1.0         1.0\n",
       "9  01-03-2017    mumbai           87  ...       2.0        2.0         2.0\n",
       "\n",
       "[6 rows x 12 columns]"
      ]
     },
     "execution_count": 15,
     "metadata": {},
     "output_type": "execute_result"
    }
   ],
   "source": [
    "aa.groupby(by='city').head(2)"
   ]
  },
  {
   "cell_type": "code",
   "execution_count": null,
   "metadata": {
    "colab": {
     "base_uri": "https://localhost:8080/",
     "height": 425
    },
    "executionInfo": {
     "elapsed": 516,
     "status": "ok",
     "timestamp": 1643676118959,
     "user": {
      "displayName": "Rajat Agarwal",
      "photoUrl": "https://lh3.googleusercontent.com/a-/AOh14GiqdQRoEJhWWghCgSMgU0X4si-AEXaiDC_NkfBOEw=s64",
      "userId": "15404319687387405045"
     },
     "user_tz": -330
    },
    "id": "AXWy09oVujAM",
    "outputId": "59e3287a-3aec-4835-b5d1-3726e37aa560"
   },
   "outputs": [
    {
     "data": {
      "text/html": [
       "\n",
       "  <div id=\"df-43ce00df-3727-4f30-bb72-349ea5e65df2\">\n",
       "    <div class=\"colab-df-container\">\n",
       "      <div>\n",
       "<style scoped>\n",
       "    .dataframe tbody tr th:only-of-type {\n",
       "        vertical-align: middle;\n",
       "    }\n",
       "\n",
       "    .dataframe tbody tr th {\n",
       "        vertical-align: top;\n",
       "    }\n",
       "\n",
       "    .dataframe thead th {\n",
       "        text-align: right;\n",
       "    }\n",
       "</style>\n",
       "<table border=\"1\" class=\"dataframe\">\n",
       "  <thead>\n",
       "    <tr style=\"text-align: right;\">\n",
       "      <th></th>\n",
       "      <th>day</th>\n",
       "      <th>city</th>\n",
       "      <th>temperature</th>\n",
       "      <th>windspeed</th>\n",
       "      <th>event</th>\n",
       "      <th>mean_value</th>\n",
       "      <th>rank</th>\n",
       "    </tr>\n",
       "  </thead>\n",
       "  <tbody>\n",
       "    <tr>\n",
       "      <th>0</th>\n",
       "      <td>01-03-2017</td>\n",
       "      <td>new york</td>\n",
       "      <td>28</td>\n",
       "      <td>12</td>\n",
       "      <td>Snow</td>\n",
       "      <td>20.0</td>\n",
       "      <td>1.0</td>\n",
       "    </tr>\n",
       "    <tr>\n",
       "      <th>1</th>\n",
       "      <td>01-01-2017</td>\n",
       "      <td>new york</td>\n",
       "      <td>32</td>\n",
       "      <td>6</td>\n",
       "      <td>Rain</td>\n",
       "      <td>19.0</td>\n",
       "      <td>2.0</td>\n",
       "    </tr>\n",
       "    <tr>\n",
       "      <th>2</th>\n",
       "      <td>01-04-2017</td>\n",
       "      <td>new york</td>\n",
       "      <td>33</td>\n",
       "      <td>7</td>\n",
       "      <td>Sunny</td>\n",
       "      <td>20.0</td>\n",
       "      <td>3.0</td>\n",
       "    </tr>\n",
       "    <tr>\n",
       "      <th>3</th>\n",
       "      <td>01-02-2017</td>\n",
       "      <td>new york</td>\n",
       "      <td>36</td>\n",
       "      <td>7</td>\n",
       "      <td>Sunny</td>\n",
       "      <td>21.5</td>\n",
       "      <td>4.0</td>\n",
       "    </tr>\n",
       "    <tr>\n",
       "      <th>4</th>\n",
       "      <td>01-04-2017</td>\n",
       "      <td>paris</td>\n",
       "      <td>42</td>\n",
       "      <td>10</td>\n",
       "      <td>Cloudy</td>\n",
       "      <td>26.0</td>\n",
       "      <td>1.0</td>\n",
       "    </tr>\n",
       "    <tr>\n",
       "      <th>5</th>\n",
       "      <td>01-01-2017</td>\n",
       "      <td>paris</td>\n",
       "      <td>45</td>\n",
       "      <td>20</td>\n",
       "      <td>Sunny</td>\n",
       "      <td>32.5</td>\n",
       "      <td>2.0</td>\n",
       "    </tr>\n",
       "    <tr>\n",
       "      <th>6</th>\n",
       "      <td>01-02-2017</td>\n",
       "      <td>paris</td>\n",
       "      <td>50</td>\n",
       "      <td>13</td>\n",
       "      <td>Cloudy</td>\n",
       "      <td>31.5</td>\n",
       "      <td>3.0</td>\n",
       "    </tr>\n",
       "    <tr>\n",
       "      <th>7</th>\n",
       "      <td>01-03-2017</td>\n",
       "      <td>paris</td>\n",
       "      <td>54</td>\n",
       "      <td>8</td>\n",
       "      <td>Cloudy</td>\n",
       "      <td>31.0</td>\n",
       "      <td>4.0</td>\n",
       "    </tr>\n",
       "    <tr>\n",
       "      <th>8</th>\n",
       "      <td>01-02-2017</td>\n",
       "      <td>mumbai</td>\n",
       "      <td>85</td>\n",
       "      <td>12</td>\n",
       "      <td>Fog</td>\n",
       "      <td>48.5</td>\n",
       "      <td>1.0</td>\n",
       "    </tr>\n",
       "    <tr>\n",
       "      <th>9</th>\n",
       "      <td>01-03-2017</td>\n",
       "      <td>mumbai</td>\n",
       "      <td>87</td>\n",
       "      <td>15</td>\n",
       "      <td>Fog</td>\n",
       "      <td>51.0</td>\n",
       "      <td>2.0</td>\n",
       "    </tr>\n",
       "    <tr>\n",
       "      <th>10</th>\n",
       "      <td>01-01-2017</td>\n",
       "      <td>mumbai</td>\n",
       "      <td>90</td>\n",
       "      <td>5</td>\n",
       "      <td>Sunny</td>\n",
       "      <td>47.5</td>\n",
       "      <td>3.0</td>\n",
       "    </tr>\n",
       "    <tr>\n",
       "      <th>11</th>\n",
       "      <td>01-04-2017</td>\n",
       "      <td>mumbai</td>\n",
       "      <td>92</td>\n",
       "      <td>5</td>\n",
       "      <td>Rain</td>\n",
       "      <td>48.5</td>\n",
       "      <td>4.0</td>\n",
       "    </tr>\n",
       "  </tbody>\n",
       "</table>\n",
       "</div>\n",
       "      <button class=\"colab-df-convert\" onclick=\"convertToInteractive('df-43ce00df-3727-4f30-bb72-349ea5e65df2')\"\n",
       "              title=\"Convert this dataframe to an interactive table.\"\n",
       "              style=\"display:none;\">\n",
       "        \n",
       "  <svg xmlns=\"http://www.w3.org/2000/svg\" height=\"24px\"viewBox=\"0 0 24 24\"\n",
       "       width=\"24px\">\n",
       "    <path d=\"M0 0h24v24H0V0z\" fill=\"none\"/>\n",
       "    <path d=\"M18.56 5.44l.94 2.06.94-2.06 2.06-.94-2.06-.94-.94-2.06-.94 2.06-2.06.94zm-11 1L8.5 8.5l.94-2.06 2.06-.94-2.06-.94L8.5 2.5l-.94 2.06-2.06.94zm10 10l.94 2.06.94-2.06 2.06-.94-2.06-.94-.94-2.06-.94 2.06-2.06.94z\"/><path d=\"M17.41 7.96l-1.37-1.37c-.4-.4-.92-.59-1.43-.59-.52 0-1.04.2-1.43.59L10.3 9.45l-7.72 7.72c-.78.78-.78 2.05 0 2.83L4 21.41c.39.39.9.59 1.41.59.51 0 1.02-.2 1.41-.59l7.78-7.78 2.81-2.81c.8-.78.8-2.07 0-2.86zM5.41 20L4 18.59l7.72-7.72 1.47 1.35L5.41 20z\"/>\n",
       "  </svg>\n",
       "      </button>\n",
       "      \n",
       "  <style>\n",
       "    .colab-df-container {\n",
       "      display:flex;\n",
       "      flex-wrap:wrap;\n",
       "      gap: 12px;\n",
       "    }\n",
       "\n",
       "    .colab-df-convert {\n",
       "      background-color: #E8F0FE;\n",
       "      border: none;\n",
       "      border-radius: 50%;\n",
       "      cursor: pointer;\n",
       "      display: none;\n",
       "      fill: #1967D2;\n",
       "      height: 32px;\n",
       "      padding: 0 0 0 0;\n",
       "      width: 32px;\n",
       "    }\n",
       "\n",
       "    .colab-df-convert:hover {\n",
       "      background-color: #E2EBFA;\n",
       "      box-shadow: 0px 1px 2px rgba(60, 64, 67, 0.3), 0px 1px 3px 1px rgba(60, 64, 67, 0.15);\n",
       "      fill: #174EA6;\n",
       "    }\n",
       "\n",
       "    [theme=dark] .colab-df-convert {\n",
       "      background-color: #3B4455;\n",
       "      fill: #D2E3FC;\n",
       "    }\n",
       "\n",
       "    [theme=dark] .colab-df-convert:hover {\n",
       "      background-color: #434B5C;\n",
       "      box-shadow: 0px 1px 3px 1px rgba(0, 0, 0, 0.15);\n",
       "      filter: drop-shadow(0px 1px 2px rgba(0, 0, 0, 0.3));\n",
       "      fill: #FFFFFF;\n",
       "    }\n",
       "  </style>\n",
       "\n",
       "      <script>\n",
       "        const buttonEl =\n",
       "          document.querySelector('#df-43ce00df-3727-4f30-bb72-349ea5e65df2 button.colab-df-convert');\n",
       "        buttonEl.style.display =\n",
       "          google.colab.kernel.accessAllowed ? 'block' : 'none';\n",
       "\n",
       "        async function convertToInteractive(key) {\n",
       "          const element = document.querySelector('#df-43ce00df-3727-4f30-bb72-349ea5e65df2');\n",
       "          const dataTable =\n",
       "            await google.colab.kernel.invokeFunction('convertToInteractive',\n",
       "                                                     [key], {});\n",
       "          if (!dataTable) return;\n",
       "\n",
       "          const docLinkHtml = 'Like what you see? Visit the ' +\n",
       "            '<a target=\"_blank\" href=https://colab.research.google.com/notebooks/data_table.ipynb>data table notebook</a>'\n",
       "            + ' to learn more about interactive tables.';\n",
       "          element.innerHTML = '';\n",
       "          dataTable['output_type'] = 'display_data';\n",
       "          await google.colab.output.renderOutput(dataTable, element);\n",
       "          const docLink = document.createElement('div');\n",
       "          docLink.innerHTML = docLinkHtml;\n",
       "          element.appendChild(docLink);\n",
       "        }\n",
       "      </script>\n",
       "    </div>\n",
       "  </div>\n",
       "  "
      ],
      "text/plain": [
       "           day      city  temperature  windspeed   event  mean_value  rank\n",
       "0   01-03-2017  new york           28         12    Snow        20.0   1.0\n",
       "1   01-01-2017  new york           32          6    Rain        19.0   2.0\n",
       "2   01-04-2017  new york           33          7   Sunny        20.0   3.0\n",
       "3   01-02-2017  new york           36          7   Sunny        21.5   4.0\n",
       "4   01-04-2017     paris           42         10  Cloudy        26.0   1.0\n",
       "5   01-01-2017     paris           45         20   Sunny        32.5   2.0\n",
       "6   01-02-2017     paris           50         13  Cloudy        31.5   3.0\n",
       "7   01-03-2017     paris           54          8  Cloudy        31.0   4.0\n",
       "8   01-02-2017    mumbai           85         12     Fog        48.5   1.0\n",
       "9   01-03-2017    mumbai           87         15     Fog        51.0   2.0\n",
       "10  01-01-2017    mumbai           90          5   Sunny        47.5   3.0\n",
       "11  01-04-2017    mumbai           92          5    Rain        48.5   4.0"
      ]
     },
     "execution_count": 12,
     "metadata": {},
     "output_type": "execute_result"
    }
   ],
   "source": [
    "aa['rank']=aa.groupby(by=['city'])['temperature'].rank('first')\n",
    "aa"
   ]
  },
  {
   "cell_type": "code",
   "execution_count": null,
   "metadata": {
    "colab": {
     "base_uri": "https://localhost:8080/",
     "height": 237
    },
    "executionInfo": {
     "elapsed": 431,
     "status": "ok",
     "timestamp": 1643646266142,
     "user": {
      "displayName": "Rajat Agarwal",
      "photoUrl": "https://lh3.googleusercontent.com/a-/AOh14GiqdQRoEJhWWghCgSMgU0X4si-AEXaiDC_NkfBOEw=s64",
      "userId": "15404319687387405045"
     },
     "user_tz": -330
    },
    "id": "Ns13j8wB7-no",
    "outputId": "ae0e3881-8abb-42ea-9562-43b76b1d2dd8"
   },
   "outputs": [
    {
     "data": {
      "text/html": [
       "\n",
       "  <div id=\"df-c77f878d-6945-4b8a-8a2c-5dc78db03399\">\n",
       "    <div class=\"colab-df-container\">\n",
       "      <div>\n",
       "<style scoped>\n",
       "    .dataframe tbody tr th:only-of-type {\n",
       "        vertical-align: middle;\n",
       "    }\n",
       "\n",
       "    .dataframe tbody tr th {\n",
       "        vertical-align: top;\n",
       "    }\n",
       "\n",
       "    .dataframe thead th {\n",
       "        text-align: right;\n",
       "    }\n",
       "</style>\n",
       "<table border=\"1\" class=\"dataframe\">\n",
       "  <thead>\n",
       "    <tr style=\"text-align: right;\">\n",
       "      <th></th>\n",
       "      <th>day</th>\n",
       "      <th>city</th>\n",
       "      <th>temperature</th>\n",
       "      <th>windspeed</th>\n",
       "      <th>event</th>\n",
       "    </tr>\n",
       "  </thead>\n",
       "  <tbody>\n",
       "    <tr>\n",
       "      <th>2</th>\n",
       "      <td>01-03-2017</td>\n",
       "      <td>new york</td>\n",
       "      <td>28</td>\n",
       "      <td>12</td>\n",
       "      <td>Snow</td>\n",
       "    </tr>\n",
       "    <tr>\n",
       "      <th>0</th>\n",
       "      <td>01-01-2017</td>\n",
       "      <td>new york</td>\n",
       "      <td>32</td>\n",
       "      <td>6</td>\n",
       "      <td>Rain</td>\n",
       "    </tr>\n",
       "    <tr>\n",
       "      <th>11</th>\n",
       "      <td>01-04-2017</td>\n",
       "      <td>paris</td>\n",
       "      <td>42</td>\n",
       "      <td>10</td>\n",
       "      <td>Cloudy</td>\n",
       "    </tr>\n",
       "    <tr>\n",
       "      <th>8</th>\n",
       "      <td>01-01-2017</td>\n",
       "      <td>paris</td>\n",
       "      <td>45</td>\n",
       "      <td>20</td>\n",
       "      <td>Sunny</td>\n",
       "    </tr>\n",
       "    <tr>\n",
       "      <th>5</th>\n",
       "      <td>01-02-2017</td>\n",
       "      <td>mumbai</td>\n",
       "      <td>85</td>\n",
       "      <td>12</td>\n",
       "      <td>Fog</td>\n",
       "    </tr>\n",
       "    <tr>\n",
       "      <th>6</th>\n",
       "      <td>01-03-2017</td>\n",
       "      <td>mumbai</td>\n",
       "      <td>87</td>\n",
       "      <td>15</td>\n",
       "      <td>Fog</td>\n",
       "    </tr>\n",
       "  </tbody>\n",
       "</table>\n",
       "</div>\n",
       "      <button class=\"colab-df-convert\" onclick=\"convertToInteractive('df-c77f878d-6945-4b8a-8a2c-5dc78db03399')\"\n",
       "              title=\"Convert this dataframe to an interactive table.\"\n",
       "              style=\"display:none;\">\n",
       "        \n",
       "  <svg xmlns=\"http://www.w3.org/2000/svg\" height=\"24px\"viewBox=\"0 0 24 24\"\n",
       "       width=\"24px\">\n",
       "    <path d=\"M0 0h24v24H0V0z\" fill=\"none\"/>\n",
       "    <path d=\"M18.56 5.44l.94 2.06.94-2.06 2.06-.94-2.06-.94-.94-2.06-.94 2.06-2.06.94zm-11 1L8.5 8.5l.94-2.06 2.06-.94-2.06-.94L8.5 2.5l-.94 2.06-2.06.94zm10 10l.94 2.06.94-2.06 2.06-.94-2.06-.94-.94-2.06-.94 2.06-2.06.94z\"/><path d=\"M17.41 7.96l-1.37-1.37c-.4-.4-.92-.59-1.43-.59-.52 0-1.04.2-1.43.59L10.3 9.45l-7.72 7.72c-.78.78-.78 2.05 0 2.83L4 21.41c.39.39.9.59 1.41.59.51 0 1.02-.2 1.41-.59l7.78-7.78 2.81-2.81c.8-.78.8-2.07 0-2.86zM5.41 20L4 18.59l7.72-7.72 1.47 1.35L5.41 20z\"/>\n",
       "  </svg>\n",
       "      </button>\n",
       "      \n",
       "  <style>\n",
       "    .colab-df-container {\n",
       "      display:flex;\n",
       "      flex-wrap:wrap;\n",
       "      gap: 12px;\n",
       "    }\n",
       "\n",
       "    .colab-df-convert {\n",
       "      background-color: #E8F0FE;\n",
       "      border: none;\n",
       "      border-radius: 50%;\n",
       "      cursor: pointer;\n",
       "      display: none;\n",
       "      fill: #1967D2;\n",
       "      height: 32px;\n",
       "      padding: 0 0 0 0;\n",
       "      width: 32px;\n",
       "    }\n",
       "\n",
       "    .colab-df-convert:hover {\n",
       "      background-color: #E2EBFA;\n",
       "      box-shadow: 0px 1px 2px rgba(60, 64, 67, 0.3), 0px 1px 3px 1px rgba(60, 64, 67, 0.15);\n",
       "      fill: #174EA6;\n",
       "    }\n",
       "\n",
       "    [theme=dark] .colab-df-convert {\n",
       "      background-color: #3B4455;\n",
       "      fill: #D2E3FC;\n",
       "    }\n",
       "\n",
       "    [theme=dark] .colab-df-convert:hover {\n",
       "      background-color: #434B5C;\n",
       "      box-shadow: 0px 1px 3px 1px rgba(0, 0, 0, 0.15);\n",
       "      filter: drop-shadow(0px 1px 2px rgba(0, 0, 0, 0.3));\n",
       "      fill: #FFFFFF;\n",
       "    }\n",
       "  </style>\n",
       "\n",
       "      <script>\n",
       "        const buttonEl =\n",
       "          document.querySelector('#df-c77f878d-6945-4b8a-8a2c-5dc78db03399 button.colab-df-convert');\n",
       "        buttonEl.style.display =\n",
       "          google.colab.kernel.accessAllowed ? 'block' : 'none';\n",
       "\n",
       "        async function convertToInteractive(key) {\n",
       "          const element = document.querySelector('#df-c77f878d-6945-4b8a-8a2c-5dc78db03399');\n",
       "          const dataTable =\n",
       "            await google.colab.kernel.invokeFunction('convertToInteractive',\n",
       "                                                     [key], {});\n",
       "          if (!dataTable) return;\n",
       "\n",
       "          const docLinkHtml = 'Like what you see? Visit the ' +\n",
       "            '<a target=\"_blank\" href=https://colab.research.google.com/notebooks/data_table.ipynb>data table notebook</a>'\n",
       "            + ' to learn more about interactive tables.';\n",
       "          element.innerHTML = '';\n",
       "          dataTable['output_type'] = 'display_data';\n",
       "          await google.colab.output.renderOutput(dataTable, element);\n",
       "          const docLink = document.createElement('div');\n",
       "          docLink.innerHTML = docLinkHtml;\n",
       "          element.appendChild(docLink);\n",
       "        }\n",
       "      </script>\n",
       "    </div>\n",
       "  </div>\n",
       "  "
      ],
      "text/plain": [
       "           day      city  temperature  windspeed   event\n",
       "2   01-03-2017  new york           28         12    Snow\n",
       "0   01-01-2017  new york           32          6    Rain\n",
       "11  01-04-2017     paris           42         10  Cloudy\n",
       "8   01-01-2017     paris           45         20   Sunny\n",
       "5   01-02-2017    mumbai           85         12     Fog\n",
       "6   01-03-2017    mumbai           87         15     Fog"
      ]
     },
     "execution_count": 22,
     "metadata": {},
     "output_type": "execute_result"
    }
   ],
   "source": [
    "aa.groupby(by='city').head(2)"
   ]
  },
  {
   "cell_type": "code",
   "execution_count": null,
   "metadata": {
    "colab": {
     "base_uri": "https://localhost:8080/"
    },
    "executionInfo": {
     "elapsed": 700,
     "status": "ok",
     "timestamp": 1643646152689,
     "user": {
      "displayName": "Rajat Agarwal",
      "photoUrl": "https://lh3.googleusercontent.com/a-/AOh14GiqdQRoEJhWWghCgSMgU0X4si-AEXaiDC_NkfBOEw=s64",
      "userId": "15404319687387405045"
     },
     "user_tz": -330
    },
    "id": "zoyExCUm4Sb8",
    "outputId": "26d04387-86a5-4fb1-a7ae-dcd3a99bd6ae"
   },
   "outputs": [
    {
     "data": {
      "text/plain": [
       "city        \n",
       "mumbai    7     92\n",
       "          4     90\n",
       "new york  1     36\n",
       "          3     33\n",
       "paris     10    54\n",
       "          9     50\n",
       "Name: temperature, dtype: int64"
      ]
     },
     "execution_count": 16,
     "metadata": {},
     "output_type": "execute_result"
    }
   ],
   "source": [
    "aa = df.groupby(by=['city']).temperature.nlargest(2)\n",
    "aa"
   ]
  },
  {
   "cell_type": "code",
   "execution_count": null,
   "metadata": {
    "colab": {
     "base_uri": "https://localhost:8080/"
    },
    "executionInfo": {
     "elapsed": 395,
     "status": "ok",
     "timestamp": 1643646221312,
     "user": {
      "displayName": "Rajat Agarwal",
      "photoUrl": "https://lh3.googleusercontent.com/a-/AOh14GiqdQRoEJhWWghCgSMgU0X4si-AEXaiDC_NkfBOEw=s64",
      "userId": "15404319687387405045"
     },
     "user_tz": -330
    },
    "id": "OhtIHbKQ8fU0",
    "outputId": "39fea191-6063-4868-f9c9-7f169baf9375"
   },
   "outputs": [
    {
     "name": "stdout",
     "output_type": "stream",
     "text": [
      "Int64Index([7, 4], dtype='int64')\n",
      "Int64Index([10, 9], dtype='int64')\n"
     ]
    }
   ],
   "source": [
    "print(aa.mumbai.index)\n",
    "print(aa.paris.index)"
   ]
  },
  {
   "cell_type": "code",
   "execution_count": null,
   "metadata": {
    "colab": {
     "base_uri": "https://localhost:8080/",
     "height": 235
    },
    "executionInfo": {
     "elapsed": 499,
     "status": "ok",
     "timestamp": 1643645488200,
     "user": {
      "displayName": "Rajat Agarwal",
      "photoUrl": "https://lh3.googleusercontent.com/a-/AOh14GiqdQRoEJhWWghCgSMgU0X4si-AEXaiDC_NkfBOEw=s64",
      "userId": "15404319687387405045"
     },
     "user_tz": -330
    },
    "id": "-48h29W352WB",
    "outputId": "6e7b4d1e-6eb5-431e-ad8c-17d9538b4ce8"
   },
   "outputs": [
    {
     "data": {
      "text/html": [
       "\n",
       "  <div id=\"df-942d1941-e0bf-482a-abc9-c55a7931b38e\">\n",
       "    <div class=\"colab-df-container\">\n",
       "      <div>\n",
       "<style scoped>\n",
       "    .dataframe tbody tr th:only-of-type {\n",
       "        vertical-align: middle;\n",
       "    }\n",
       "\n",
       "    .dataframe tbody tr th {\n",
       "        vertical-align: top;\n",
       "    }\n",
       "\n",
       "    .dataframe thead th {\n",
       "        text-align: right;\n",
       "    }\n",
       "</style>\n",
       "<table border=\"1\" class=\"dataframe\">\n",
       "  <thead>\n",
       "    <tr style=\"text-align: right;\">\n",
       "      <th></th>\n",
       "      <th>day</th>\n",
       "      <th>city</th>\n",
       "      <th>temperature</th>\n",
       "      <th>windspeed</th>\n",
       "      <th>event</th>\n",
       "    </tr>\n",
       "  </thead>\n",
       "  <tbody>\n",
       "    <tr>\n",
       "      <th>0</th>\n",
       "      <td>01-01-2017</td>\n",
       "      <td>new york</td>\n",
       "      <td>32</td>\n",
       "      <td>6</td>\n",
       "      <td>Rain</td>\n",
       "    </tr>\n",
       "    <tr>\n",
       "      <th>1</th>\n",
       "      <td>01-02-2017</td>\n",
       "      <td>new york</td>\n",
       "      <td>36</td>\n",
       "      <td>7</td>\n",
       "      <td>Sunny</td>\n",
       "    </tr>\n",
       "    <tr>\n",
       "      <th>4</th>\n",
       "      <td>01-01-2017</td>\n",
       "      <td>mumbai</td>\n",
       "      <td>90</td>\n",
       "      <td>5</td>\n",
       "      <td>Sunny</td>\n",
       "    </tr>\n",
       "    <tr>\n",
       "      <th>5</th>\n",
       "      <td>01-02-2017</td>\n",
       "      <td>mumbai</td>\n",
       "      <td>85</td>\n",
       "      <td>12</td>\n",
       "      <td>Fog</td>\n",
       "    </tr>\n",
       "    <tr>\n",
       "      <th>8</th>\n",
       "      <td>01-01-2017</td>\n",
       "      <td>paris</td>\n",
       "      <td>45</td>\n",
       "      <td>20</td>\n",
       "      <td>Sunny</td>\n",
       "    </tr>\n",
       "    <tr>\n",
       "      <th>9</th>\n",
       "      <td>01-02-2017</td>\n",
       "      <td>paris</td>\n",
       "      <td>50</td>\n",
       "      <td>13</td>\n",
       "      <td>Cloudy</td>\n",
       "    </tr>\n",
       "  </tbody>\n",
       "</table>\n",
       "</div>\n",
       "      <button class=\"colab-df-convert\" onclick=\"convertToInteractive('df-942d1941-e0bf-482a-abc9-c55a7931b38e')\"\n",
       "              title=\"Convert this dataframe to an interactive table.\"\n",
       "              style=\"display:none;\">\n",
       "        \n",
       "  <svg xmlns=\"http://www.w3.org/2000/svg\" height=\"24px\"viewBox=\"0 0 24 24\"\n",
       "       width=\"24px\">\n",
       "    <path d=\"M0 0h24v24H0V0z\" fill=\"none\"/>\n",
       "    <path d=\"M18.56 5.44l.94 2.06.94-2.06 2.06-.94-2.06-.94-.94-2.06-.94 2.06-2.06.94zm-11 1L8.5 8.5l.94-2.06 2.06-.94-2.06-.94L8.5 2.5l-.94 2.06-2.06.94zm10 10l.94 2.06.94-2.06 2.06-.94-2.06-.94-.94-2.06-.94 2.06-2.06.94z\"/><path d=\"M17.41 7.96l-1.37-1.37c-.4-.4-.92-.59-1.43-.59-.52 0-1.04.2-1.43.59L10.3 9.45l-7.72 7.72c-.78.78-.78 2.05 0 2.83L4 21.41c.39.39.9.59 1.41.59.51 0 1.02-.2 1.41-.59l7.78-7.78 2.81-2.81c.8-.78.8-2.07 0-2.86zM5.41 20L4 18.59l7.72-7.72 1.47 1.35L5.41 20z\"/>\n",
       "  </svg>\n",
       "      </button>\n",
       "      \n",
       "  <style>\n",
       "    .colab-df-container {\n",
       "      display:flex;\n",
       "      flex-wrap:wrap;\n",
       "      gap: 12px;\n",
       "    }\n",
       "\n",
       "    .colab-df-convert {\n",
       "      background-color: #E8F0FE;\n",
       "      border: none;\n",
       "      border-radius: 50%;\n",
       "      cursor: pointer;\n",
       "      display: none;\n",
       "      fill: #1967D2;\n",
       "      height: 32px;\n",
       "      padding: 0 0 0 0;\n",
       "      width: 32px;\n",
       "    }\n",
       "\n",
       "    .colab-df-convert:hover {\n",
       "      background-color: #E2EBFA;\n",
       "      box-shadow: 0px 1px 2px rgba(60, 64, 67, 0.3), 0px 1px 3px 1px rgba(60, 64, 67, 0.15);\n",
       "      fill: #174EA6;\n",
       "    }\n",
       "\n",
       "    [theme=dark] .colab-df-convert {\n",
       "      background-color: #3B4455;\n",
       "      fill: #D2E3FC;\n",
       "    }\n",
       "\n",
       "    [theme=dark] .colab-df-convert:hover {\n",
       "      background-color: #434B5C;\n",
       "      box-shadow: 0px 1px 3px 1px rgba(0, 0, 0, 0.15);\n",
       "      filter: drop-shadow(0px 1px 2px rgba(0, 0, 0, 0.3));\n",
       "      fill: #FFFFFF;\n",
       "    }\n",
       "  </style>\n",
       "\n",
       "      <script>\n",
       "        const buttonEl =\n",
       "          document.querySelector('#df-942d1941-e0bf-482a-abc9-c55a7931b38e button.colab-df-convert');\n",
       "        buttonEl.style.display =\n",
       "          google.colab.kernel.accessAllowed ? 'block' : 'none';\n",
       "\n",
       "        async function convertToInteractive(key) {\n",
       "          const element = document.querySelector('#df-942d1941-e0bf-482a-abc9-c55a7931b38e');\n",
       "          const dataTable =\n",
       "            await google.colab.kernel.invokeFunction('convertToInteractive',\n",
       "                                                     [key], {});\n",
       "          if (!dataTable) return;\n",
       "\n",
       "          const docLinkHtml = 'Like what you see? Visit the ' +\n",
       "            '<a target=\"_blank\" href=https://colab.research.google.com/notebooks/data_table.ipynb>data table notebook</a>'\n",
       "            + ' to learn more about interactive tables.';\n",
       "          element.innerHTML = '';\n",
       "          dataTable['output_type'] = 'display_data';\n",
       "          await google.colab.output.renderOutput(dataTable, element);\n",
       "          const docLink = document.createElement('div');\n",
       "          docLink.innerHTML = docLinkHtml;\n",
       "          element.appendChild(docLink);\n",
       "        }\n",
       "      </script>\n",
       "    </div>\n",
       "  </div>\n",
       "  "
      ],
      "text/plain": [
       "          day      city  temperature  windspeed   event\n",
       "0  01-01-2017  new york           32          6    Rain\n",
       "1  01-02-2017  new york           36          7   Sunny\n",
       "4  01-01-2017    mumbai           90          5   Sunny\n",
       "5  01-02-2017    mumbai           85         12     Fog\n",
       "8  01-01-2017     paris           45         20   Sunny\n",
       "9  01-02-2017     paris           50         13  Cloudy"
      ]
     },
     "execution_count": 11,
     "metadata": {},
     "output_type": "execute_result"
    }
   ],
   "source": [
    "df.groupby(by=['city']).head(2)"
   ]
  },
  {
   "cell_type": "code",
   "execution_count": null,
   "metadata": {
    "colab": {
     "base_uri": "https://localhost:8080/",
     "height": 173
    },
    "executionInfo": {
     "elapsed": 9,
     "status": "ok",
     "timestamp": 1634462765885,
     "user": {
      "displayName": "Rajat Agarwal",
      "photoUrl": "https://lh3.googleusercontent.com/a-/AOh14GiqdQRoEJhWWghCgSMgU0X4si-AEXaiDC_NkfBOEw=s64",
      "userId": "15404319687387405045"
     },
     "user_tz": -330
    },
    "id": "astx1qDr9cfK",
    "outputId": "4f2ddafa-e106-4bdd-be25-c7a0c2690de2"
   },
   "outputs": [
    {
     "data": {
      "text/html": [
       "<div>\n",
       "<style scoped>\n",
       "    .dataframe tbody tr th:only-of-type {\n",
       "        vertical-align: middle;\n",
       "    }\n",
       "\n",
       "    .dataframe tbody tr th {\n",
       "        vertical-align: top;\n",
       "    }\n",
       "\n",
       "    .dataframe thead th {\n",
       "        text-align: right;\n",
       "    }\n",
       "</style>\n",
       "<table border=\"1\" class=\"dataframe\">\n",
       "  <thead>\n",
       "    <tr style=\"text-align: right;\">\n",
       "      <th></th>\n",
       "      <th>day</th>\n",
       "      <th>temperature</th>\n",
       "      <th>windspeed</th>\n",
       "      <th>event</th>\n",
       "    </tr>\n",
       "    <tr>\n",
       "      <th>city</th>\n",
       "      <th></th>\n",
       "      <th></th>\n",
       "      <th></th>\n",
       "      <th></th>\n",
       "    </tr>\n",
       "  </thead>\n",
       "  <tbody>\n",
       "    <tr>\n",
       "      <th>mumbai</th>\n",
       "      <td>01-04-2017</td>\n",
       "      <td>92</td>\n",
       "      <td>15</td>\n",
       "      <td>Sunny</td>\n",
       "    </tr>\n",
       "    <tr>\n",
       "      <th>new york</th>\n",
       "      <td>01-04-2017</td>\n",
       "      <td>36</td>\n",
       "      <td>12</td>\n",
       "      <td>Sunny</td>\n",
       "    </tr>\n",
       "    <tr>\n",
       "      <th>paris</th>\n",
       "      <td>01-04-2017</td>\n",
       "      <td>54</td>\n",
       "      <td>20</td>\n",
       "      <td>Sunny</td>\n",
       "    </tr>\n",
       "  </tbody>\n",
       "</table>\n",
       "</div>"
      ],
      "text/plain": [
       "                 day  temperature  windspeed  event\n",
       "city                                               \n",
       "mumbai    01-04-2017           92         15  Sunny\n",
       "new york  01-04-2017           36         12  Sunny\n",
       "paris     01-04-2017           54         20  Sunny"
      ]
     },
     "execution_count": 12,
     "metadata": {},
     "output_type": "execute_result"
    }
   ],
   "source": [
    "g = df.groupby(by=\"city\")\n",
    "g.max()"
   ]
  },
  {
   "cell_type": "code",
   "execution_count": null,
   "metadata": {
    "colab": {
     "base_uri": "https://localhost:8080/",
     "height": 204
    },
    "executionInfo": {
     "elapsed": 10,
     "status": "ok",
     "timestamp": 1634462768466,
     "user": {
      "displayName": "Rajat Agarwal",
      "photoUrl": "https://lh3.googleusercontent.com/a-/AOh14GiqdQRoEJhWWghCgSMgU0X4si-AEXaiDC_NkfBOEw=s64",
      "userId": "15404319687387405045"
     },
     "user_tz": -330
    },
    "id": "w4GB1V5U-LsF",
    "outputId": "fc32050e-ef41-46bb-8def-44f68f67a161"
   },
   "outputs": [
    {
     "data": {
      "text/html": [
       "<div>\n",
       "<style scoped>\n",
       "    .dataframe tbody tr th:only-of-type {\n",
       "        vertical-align: middle;\n",
       "    }\n",
       "\n",
       "    .dataframe tbody tr th {\n",
       "        vertical-align: top;\n",
       "    }\n",
       "\n",
       "    .dataframe thead tr th {\n",
       "        text-align: left;\n",
       "    }\n",
       "\n",
       "    .dataframe thead tr:last-of-type th {\n",
       "        text-align: right;\n",
       "    }\n",
       "</style>\n",
       "<table border=\"1\" class=\"dataframe\">\n",
       "  <thead>\n",
       "    <tr>\n",
       "      <th></th>\n",
       "      <th colspan=\"8\" halign=\"left\">temperature</th>\n",
       "      <th colspan=\"8\" halign=\"left\">windspeed</th>\n",
       "    </tr>\n",
       "    <tr>\n",
       "      <th></th>\n",
       "      <th>count</th>\n",
       "      <th>mean</th>\n",
       "      <th>std</th>\n",
       "      <th>min</th>\n",
       "      <th>25%</th>\n",
       "      <th>50%</th>\n",
       "      <th>75%</th>\n",
       "      <th>max</th>\n",
       "      <th>count</th>\n",
       "      <th>mean</th>\n",
       "      <th>std</th>\n",
       "      <th>min</th>\n",
       "      <th>25%</th>\n",
       "      <th>50%</th>\n",
       "      <th>75%</th>\n",
       "      <th>max</th>\n",
       "    </tr>\n",
       "    <tr>\n",
       "      <th>city</th>\n",
       "      <th></th>\n",
       "      <th></th>\n",
       "      <th></th>\n",
       "      <th></th>\n",
       "      <th></th>\n",
       "      <th></th>\n",
       "      <th></th>\n",
       "      <th></th>\n",
       "      <th></th>\n",
       "      <th></th>\n",
       "      <th></th>\n",
       "      <th></th>\n",
       "      <th></th>\n",
       "      <th></th>\n",
       "      <th></th>\n",
       "      <th></th>\n",
       "    </tr>\n",
       "  </thead>\n",
       "  <tbody>\n",
       "    <tr>\n",
       "      <th>mumbai</th>\n",
       "      <td>4.0</td>\n",
       "      <td>88.50</td>\n",
       "      <td>3.109126</td>\n",
       "      <td>85.0</td>\n",
       "      <td>86.50</td>\n",
       "      <td>88.5</td>\n",
       "      <td>90.50</td>\n",
       "      <td>92.0</td>\n",
       "      <td>4.0</td>\n",
       "      <td>9.25</td>\n",
       "      <td>5.057997</td>\n",
       "      <td>5.0</td>\n",
       "      <td>5.00</td>\n",
       "      <td>8.5</td>\n",
       "      <td>12.75</td>\n",
       "      <td>15.0</td>\n",
       "    </tr>\n",
       "    <tr>\n",
       "      <th>new york</th>\n",
       "      <td>4.0</td>\n",
       "      <td>32.25</td>\n",
       "      <td>3.304038</td>\n",
       "      <td>28.0</td>\n",
       "      <td>31.00</td>\n",
       "      <td>32.5</td>\n",
       "      <td>33.75</td>\n",
       "      <td>36.0</td>\n",
       "      <td>4.0</td>\n",
       "      <td>8.00</td>\n",
       "      <td>2.708013</td>\n",
       "      <td>6.0</td>\n",
       "      <td>6.75</td>\n",
       "      <td>7.0</td>\n",
       "      <td>8.25</td>\n",
       "      <td>12.0</td>\n",
       "    </tr>\n",
       "    <tr>\n",
       "      <th>paris</th>\n",
       "      <td>4.0</td>\n",
       "      <td>47.75</td>\n",
       "      <td>5.315073</td>\n",
       "      <td>42.0</td>\n",
       "      <td>44.25</td>\n",
       "      <td>47.5</td>\n",
       "      <td>51.00</td>\n",
       "      <td>54.0</td>\n",
       "      <td>4.0</td>\n",
       "      <td>12.75</td>\n",
       "      <td>5.251984</td>\n",
       "      <td>8.0</td>\n",
       "      <td>9.50</td>\n",
       "      <td>11.5</td>\n",
       "      <td>14.75</td>\n",
       "      <td>20.0</td>\n",
       "    </tr>\n",
       "  </tbody>\n",
       "</table>\n",
       "</div>"
      ],
      "text/plain": [
       "         temperature                         ... windspeed                   \n",
       "               count   mean       std   min  ...       25%   50%    75%   max\n",
       "city                                         ...                             \n",
       "mumbai           4.0  88.50  3.109126  85.0  ...      5.00   8.5  12.75  15.0\n",
       "new york         4.0  32.25  3.304038  28.0  ...      6.75   7.0   8.25  12.0\n",
       "paris            4.0  47.75  5.315073  42.0  ...      9.50  11.5  14.75  20.0\n",
       "\n",
       "[3 rows x 16 columns]"
      ]
     },
     "execution_count": 13,
     "metadata": {},
     "output_type": "execute_result"
    }
   ],
   "source": [
    "g.describe()"
   ]
  },
  {
   "cell_type": "code",
   "execution_count": null,
   "metadata": {
    "colab": {
     "base_uri": "https://localhost:8080/",
     "height": 850
    },
    "executionInfo": {
     "elapsed": 1128,
     "status": "ok",
     "timestamp": 1634462784932,
     "user": {
      "displayName": "Rajat Agarwal",
      "photoUrl": "https://lh3.googleusercontent.com/a-/AOh14GiqdQRoEJhWWghCgSMgU0X4si-AEXaiDC_NkfBOEw=s64",
      "userId": "15404319687387405045"
     },
     "user_tz": -330
    },
    "id": "8X5TGuFmkq1g",
    "outputId": "9677b8b5-0e1f-4fdc-867d-c5aa954f3913"
   },
   "outputs": [
    {
     "data": {
      "text/plain": [
       "city\n",
       "mumbai      AxesSubplot(0.125,0.125;0.775x0.755)\n",
       "new york    AxesSubplot(0.125,0.125;0.775x0.755)\n",
       "paris       AxesSubplot(0.125,0.125;0.775x0.755)\n",
       "dtype: object"
      ]
     },
     "execution_count": 14,
     "metadata": {},
     "output_type": "execute_result"
    },
    {
     "data": {
      "image/png": "[encoded data removed]",
      "text/plain": [
       "<Figure size 432x288 with 1 Axes>"
      ]
     },
     "metadata": {
      "needs_background": "light"
     },
     "output_type": "display_data"
    },
    {
     "data": {
      "image/png": "[encoded data removed]",
      "text/plain": [
       "<Figure size 432x288 with 1 Axes>"
      ]
     },
     "metadata": {
      "needs_background": "light"
     },
     "output_type": "display_data"
    },
    {
     "data": {
      "image/png": "[encoded data removed]",
      "text/plain": [
       "<Figure size 432x288 with 1 Axes>"
      ]
     },
     "metadata": {
      "needs_background": "light"
     },
     "output_type": "display_data"
    }
   ],
   "source": [
    "g.plot()"
   ]
  },
  {
   "cell_type": "code",
   "execution_count": null,
   "metadata": {
    "colab": {
     "base_uri": "https://localhost:8080/",
     "height": 300
    },
    "executionInfo": {
     "elapsed": 428,
     "status": "ok",
     "timestamp": 1643634650298,
     "user": {
      "displayName": "Rajat Agarwal",
      "photoUrl": "https://lh3.googleusercontent.com/a-/AOh14GiqdQRoEJhWWghCgSMgU0X4si-AEXaiDC_NkfBOEw=s64",
      "userId": "15404319687387405045"
     },
     "user_tz": -330
    },
    "id": "HTPnLCxb9cjr",
    "outputId": "4c2d0c8c-4de3-4e63-f846-7c7339940fac"
   },
   "outputs": [
    {
     "data": {
      "text/html": [
       "\n",
       "  <div id=\"df-f2bb8902-0c0e-4b4f-9d9f-b899f504fe7f\">\n",
       "    <div class=\"colab-df-container\">\n",
       "      <div>\n",
       "<style scoped>\n",
       "    .dataframe tbody tr th:only-of-type {\n",
       "        vertical-align: middle;\n",
       "    }\n",
       "\n",
       "    .dataframe tbody tr th {\n",
       "        vertical-align: top;\n",
       "    }\n",
       "\n",
       "    .dataframe thead th {\n",
       "        text-align: right;\n",
       "    }\n",
       "</style>\n",
       "<table border=\"1\" class=\"dataframe\">\n",
       "  <thead>\n",
       "    <tr style=\"text-align: right;\">\n",
       "      <th></th>\n",
       "      <th>State</th>\n",
       "      <th>District</th>\n",
       "      <th>Num_of_covid_cases</th>\n",
       "    </tr>\n",
       "  </thead>\n",
       "  <tbody>\n",
       "    <tr>\n",
       "      <th>0</th>\n",
       "      <td>jhar</td>\n",
       "      <td>Dhn</td>\n",
       "      <td>67</td>\n",
       "    </tr>\n",
       "    <tr>\n",
       "      <th>1</th>\n",
       "      <td>jhar</td>\n",
       "      <td>Sindri</td>\n",
       "      <td>97</td>\n",
       "    </tr>\n",
       "    <tr>\n",
       "      <th>2</th>\n",
       "      <td>jhar</td>\n",
       "      <td>jharia</td>\n",
       "      <td>68</td>\n",
       "    </tr>\n",
       "    <tr>\n",
       "      <th>3</th>\n",
       "      <td>jhar</td>\n",
       "      <td>govin</td>\n",
       "      <td>89</td>\n",
       "    </tr>\n",
       "    <tr>\n",
       "      <th>4</th>\n",
       "      <td>del</td>\n",
       "      <td>shaktin</td>\n",
       "      <td>67</td>\n",
       "    </tr>\n",
       "    <tr>\n",
       "      <th>5</th>\n",
       "      <td>del</td>\n",
       "      <td>kamlan</td>\n",
       "      <td>68</td>\n",
       "    </tr>\n",
       "    <tr>\n",
       "      <th>6</th>\n",
       "      <td>del</td>\n",
       "      <td>indiag</td>\n",
       "      <td>45</td>\n",
       "    </tr>\n",
       "    <tr>\n",
       "      <th>7</th>\n",
       "      <td>del</td>\n",
       "      <td>rohini</td>\n",
       "      <td>98</td>\n",
       "    </tr>\n",
       "  </tbody>\n",
       "</table>\n",
       "</div>\n",
       "      <button class=\"colab-df-convert\" onclick=\"convertToInteractive('df-f2bb8902-0c0e-4b4f-9d9f-b899f504fe7f')\"\n",
       "              title=\"Convert this dataframe to an interactive table.\"\n",
       "              style=\"display:none;\">\n",
       "        \n",
       "  <svg xmlns=\"http://www.w3.org/2000/svg\" height=\"24px\"viewBox=\"0 0 24 24\"\n",
       "       width=\"24px\">\n",
       "    <path d=\"M0 0h24v24H0V0z\" fill=\"none\"/>\n",
       "    <path d=\"M18.56 5.44l.94 2.06.94-2.06 2.06-.94-2.06-.94-.94-2.06-.94 2.06-2.06.94zm-11 1L8.5 8.5l.94-2.06 2.06-.94-2.06-.94L8.5 2.5l-.94 2.06-2.06.94zm10 10l.94 2.06.94-2.06 2.06-.94-2.06-.94-.94-2.06-.94 2.06-2.06.94z\"/><path d=\"M17.41 7.96l-1.37-1.37c-.4-.4-.92-.59-1.43-.59-.52 0-1.04.2-1.43.59L10.3 9.45l-7.72 7.72c-.78.78-.78 2.05 0 2.83L4 21.41c.39.39.9.59 1.41.59.51 0 1.02-.2 1.41-.59l7.78-7.78 2.81-2.81c.8-.78.8-2.07 0-2.86zM5.41 20L4 18.59l7.72-7.72 1.47 1.35L5.41 20z\"/>\n",
       "  </svg>\n",
       "      </button>\n",
       "      \n",
       "  <style>\n",
       "    .colab-df-container {\n",
       "      display:flex;\n",
       "      flex-wrap:wrap;\n",
       "      gap: 12px;\n",
       "    }\n",
       "\n",
       "    .colab-df-convert {\n",
       "      background-color: #E8F0FE;\n",
       "      border: none;\n",
       "      border-radius: 50%;\n",
       "      cursor: pointer;\n",
       "      display: none;\n",
       "      fill: #1967D2;\n",
       "      height: 32px;\n",
       "      padding: 0 0 0 0;\n",
       "      width: 32px;\n",
       "    }\n",
       "\n",
       "    .colab-df-convert:hover {\n",
       "      background-color: #E2EBFA;\n",
       "      box-shadow: 0px 1px 2px rgba(60, 64, 67, 0.3), 0px 1px 3px 1px rgba(60, 64, 67, 0.15);\n",
       "      fill: #174EA6;\n",
       "    }\n",
       "\n",
       "    [theme=dark] .colab-df-convert {\n",
       "      background-color: #3B4455;\n",
       "      fill: #D2E3FC;\n",
       "    }\n",
       "\n",
       "    [theme=dark] .colab-df-convert:hover {\n",
       "      background-color: #434B5C;\n",
       "      box-shadow: 0px 1px 3px 1px rgba(0, 0, 0, 0.15);\n",
       "      filter: drop-shadow(0px 1px 2px rgba(0, 0, 0, 0.3));\n",
       "      fill: #FFFFFF;\n",
       "    }\n",
       "  </style>\n",
       "\n",
       "      <script>\n",
       "        const buttonEl =\n",
       "          document.querySelector('#df-f2bb8902-0c0e-4b4f-9d9f-b899f504fe7f button.colab-df-convert');\n",
       "        buttonEl.style.display =\n",
       "          google.colab.kernel.accessAllowed ? 'block' : 'none';\n",
       "\n",
       "        async function convertToInteractive(key) {\n",
       "          const element = document.querySelector('#df-f2bb8902-0c0e-4b4f-9d9f-b899f504fe7f');\n",
       "          const dataTable =\n",
       "            await google.colab.kernel.invokeFunction('convertToInteractive',\n",
       "                                                     [key], {});\n",
       "          if (!dataTable) return;\n",
       "\n",
       "          const docLinkHtml = 'Like what you see? Visit the ' +\n",
       "            '<a target=\"_blank\" href=https://colab.research.google.com/notebooks/data_table.ipynb>data table notebook</a>'\n",
       "            + ' to learn more about interactive tables.';\n",
       "          element.innerHTML = '';\n",
       "          dataTable['output_type'] = 'display_data';\n",
       "          await google.colab.output.renderOutput(dataTable, element);\n",
       "          const docLink = document.createElement('div');\n",
       "          docLink.innerHTML = docLinkHtml;\n",
       "          element.appendChild(docLink);\n",
       "        }\n",
       "      </script>\n",
       "    </div>\n",
       "  </div>\n",
       "  "
      ],
      "text/plain": [
       "  State District  Num_of_covid_cases\n",
       "0  jhar      Dhn                  67\n",
       "1  jhar   Sindri                  97\n",
       "2  jhar   jharia                  68\n",
       "3  jhar    govin                  89\n",
       "4   del  shaktin                  67\n",
       "5   del   kamlan                  68\n",
       "6   del   indiag                  45\n",
       "7   del   rohini                  98"
      ]
     },
     "execution_count": 4,
     "metadata": {},
     "output_type": "execute_result"
    }
   ],
   "source": [
    "import pandas as pd\n",
    "dff = pd.DataFrame({\"State\":['jhar','jhar','jhar','jhar','del' ,'del' ,'del' ,'del'] ,\n",
    "                    \"District\":['Dhn' ,'Sindri' ,'jharia','govin','shaktin' ,'kamlan','indiag','rohini'],\n",
    "                    \"Num_of_covid_cases\":[67,97,68,89,67,68,45,98]})\n",
    "dff"
   ]
  },
  {
   "cell_type": "code",
   "execution_count": null,
   "metadata": {
    "colab": {
     "base_uri": "https://localhost:8080/"
    },
    "executionInfo": {
     "elapsed": 429,
     "status": "ok",
     "timestamp": 1643635166244,
     "user": {
      "displayName": "Rajat Agarwal",
      "photoUrl": "https://lh3.googleusercontent.com/a-/AOh14GiqdQRoEJhWWghCgSMgU0X4si-AEXaiDC_NkfBOEw=s64",
      "userId": "15404319687387405045"
     },
     "user_tz": -330
    },
    "id": "N8hORVooQrDA",
    "outputId": "92f0189f-edef-4a29-b368-098e78539a95"
   },
   "outputs": [
    {
     "data": {
      "text/plain": [
       "State   \n",
       "del    7    98\n",
       "       5    68\n",
       "jhar   1    97\n",
       "       3    89\n",
       "Name: Num_of_covid_cases, dtype: int64"
      ]
     },
     "execution_count": 13,
     "metadata": {},
     "output_type": "execute_result"
    }
   ],
   "source": [
    "dff.groupby(by=\"State\").Num_of_covid_cases.nlargest(2)"
   ]
  },
  {
   "cell_type": "code",
   "execution_count": null,
   "metadata": {
    "colab": {
     "base_uri": "https://localhost:8080/"
    },
    "executionInfo": {
     "elapsed": 419,
     "status": "ok",
     "timestamp": 1643634697218,
     "user": {
      "displayName": "Rajat Agarwal",
      "photoUrl": "https://lh3.googleusercontent.com/a-/AOh14GiqdQRoEJhWWghCgSMgU0X4si-AEXaiDC_NkfBOEw=s64",
      "userId": "15404319687387405045"
     },
     "user_tz": -330
    },
    "id": "i74kz1IpQvgQ",
    "outputId": "4420a709-179a-4174-dc60-3a52e993b07a"
   },
   "outputs": [
    {
     "data": {
      "text/plain": [
       "State   \n",
       "del    6    45\n",
       "       4    67\n",
       "jhar   0    67\n",
       "       2    68\n",
       "Name: Num_of_covid_cases, dtype: int64"
      ]
     },
     "execution_count": 6,
     "metadata": {},
     "output_type": "execute_result"
    }
   ],
   "source": [
    "dff.groupby(by=\"State\").Num_of_covid_cases.nsmallest(2)"
   ]
  },
  {
   "cell_type": "code",
   "execution_count": null,
   "metadata": {
    "colab": {
     "base_uri": "https://localhost:8080/",
     "height": 305
    },
    "executionInfo": {
     "elapsed": 438,
     "status": "error",
     "timestamp": 1643634613103,
     "user": {
      "displayName": "Rajat Agarwal",
      "photoUrl": "https://lh3.googleusercontent.com/a-/AOh14GiqdQRoEJhWWghCgSMgU0X4si-AEXaiDC_NkfBOEw=s64",
      "userId": "15404319687387405045"
     },
     "user_tz": -330
    },
    "id": "rqLWQbAL9cnq",
    "outputId": "4b7e44a3-cc69-4972-a3cb-6bf48f8531c9"
   },
   "outputs": [
    {
     "ename": "AttributeError",
     "evalue": "ignored",
     "output_type": "error",
     "traceback": [
      "\u001b[0;31m---------------------------------------------------------------------------\u001b[0m",
      "\u001b[0;31mAttributeError\u001b[0m                            Traceback (most recent call last)",
      "\u001b[0;32m<ipython-input-3-90119cd6917e>\u001b[0m in \u001b[0;36m<module>\u001b[0;34m()\u001b[0m\n\u001b[1;32m      1\u001b[0m \u001b[0mgg\u001b[0m \u001b[0;34m=\u001b[0m \u001b[0mdff\u001b[0m\u001b[0;34m.\u001b[0m\u001b[0mgroupby\u001b[0m\u001b[0;34m(\u001b[0m\u001b[0mby\u001b[0m\u001b[0;34m=\u001b[0m\u001b[0;34m\"State\"\u001b[0m\u001b[0;34m)\u001b[0m\u001b[0;34m\u001b[0m\u001b[0;34m\u001b[0m\u001b[0m\n\u001b[0;32m----> 2\u001b[0;31m \u001b[0mgg\u001b[0m\u001b[0;34m.\u001b[0m\u001b[0mnlargest\u001b[0m\u001b[0;34m(\u001b[0m\u001b[0;36m2\u001b[0m\u001b[0;34m)\u001b[0m\u001b[0;34m\u001b[0m\u001b[0;34m\u001b[0m\u001b[0m\n\u001b[0m",
      "\u001b[0;32m/usr/local/lib/python3.7/dist-packages/pandas/core/groupby/groupby.py\u001b[0m in \u001b[0;36m__getattr__\u001b[0;34m(self, attr)\u001b[0m\n\u001b[1;32m    702\u001b[0m \u001b[0;34m\u001b[0m\u001b[0m\n\u001b[1;32m    703\u001b[0m         raise AttributeError(\n\u001b[0;32m--> 704\u001b[0;31m             \u001b[0;34mf\"'{type(self).__name__}' object has no attribute '{attr}'\"\u001b[0m\u001b[0;34m\u001b[0m\u001b[0;34m\u001b[0m\u001b[0m\n\u001b[0m\u001b[1;32m    705\u001b[0m         )\n\u001b[1;32m    706\u001b[0m \u001b[0;34m\u001b[0m\u001b[0m\n",
      "\u001b[0;31mAttributeError\u001b[0m: 'DataFrameGroupBy' object has no attribute 'nlargest'"
     ]
    }
   ],
   "source": [
    "gg = dff.groupby(by=\"State\")\n",
    "gg.nlargest(2)"
   ]
  },
  {
   "cell_type": "code",
   "execution_count": null,
   "metadata": {
    "id": "3_sYTSQQQYsD"
   },
   "outputs": [],
   "source": []
  },
  {
   "cell_type": "code",
   "execution_count": null,
   "metadata": {
    "colab": {
     "base_uri": "https://localhost:8080/",
     "height": 173
    },
    "executionInfo": {
     "elapsed": 689,
     "status": "ok",
     "timestamp": 1634462667390,
     "user": {
      "displayName": "Rajat Agarwal",
      "photoUrl": "https://lh3.googleusercontent.com/a-/AOh14GiqdQRoEJhWWghCgSMgU0X4si-AEXaiDC_NkfBOEw=s64",
      "userId": "15404319687387405045"
     },
     "user_tz": -330
    },
    "id": "lD0Ww7mC-CK8",
    "outputId": "a2f54c39-3821-4f12-a01c-e9ac78e68b6a"
   },
   "outputs": [
    {
     "data": {
      "text/html": [
       "<div>\n",
       "<style scoped>\n",
       "    .dataframe tbody tr th:only-of-type {\n",
       "        vertical-align: middle;\n",
       "    }\n",
       "\n",
       "    .dataframe tbody tr th {\n",
       "        vertical-align: top;\n",
       "    }\n",
       "\n",
       "    .dataframe thead tr th {\n",
       "        text-align: left;\n",
       "    }\n",
       "\n",
       "    .dataframe thead tr:last-of-type th {\n",
       "        text-align: right;\n",
       "    }\n",
       "</style>\n",
       "<table border=\"1\" class=\"dataframe\">\n",
       "  <thead>\n",
       "    <tr>\n",
       "      <th></th>\n",
       "      <th colspan=\"8\" halign=\"left\">Num of covid cases</th>\n",
       "    </tr>\n",
       "    <tr>\n",
       "      <th></th>\n",
       "      <th>count</th>\n",
       "      <th>mean</th>\n",
       "      <th>std</th>\n",
       "      <th>min</th>\n",
       "      <th>25%</th>\n",
       "      <th>50%</th>\n",
       "      <th>75%</th>\n",
       "      <th>max</th>\n",
       "    </tr>\n",
       "    <tr>\n",
       "      <th>State</th>\n",
       "      <th></th>\n",
       "      <th></th>\n",
       "      <th></th>\n",
       "      <th></th>\n",
       "      <th></th>\n",
       "      <th></th>\n",
       "      <th></th>\n",
       "      <th></th>\n",
       "    </tr>\n",
       "  </thead>\n",
       "  <tbody>\n",
       "    <tr>\n",
       "      <th>del</th>\n",
       "      <td>4.0</td>\n",
       "      <td>69.50</td>\n",
       "      <td>21.763884</td>\n",
       "      <td>45.0</td>\n",
       "      <td>61.50</td>\n",
       "      <td>67.5</td>\n",
       "      <td>75.5</td>\n",
       "      <td>98.0</td>\n",
       "    </tr>\n",
       "    <tr>\n",
       "      <th>jhar</th>\n",
       "      <td>4.0</td>\n",
       "      <td>80.25</td>\n",
       "      <td>15.085865</td>\n",
       "      <td>67.0</td>\n",
       "      <td>67.75</td>\n",
       "      <td>78.5</td>\n",
       "      <td>91.0</td>\n",
       "      <td>97.0</td>\n",
       "    </tr>\n",
       "  </tbody>\n",
       "</table>\n",
       "</div>"
      ],
      "text/plain": [
       "      Num of covid cases                                                 \n",
       "                   count   mean        std   min    25%   50%   75%   max\n",
       "State                                                                    \n",
       "del                  4.0  69.50  21.763884  45.0  61.50  67.5  75.5  98.0\n",
       "jhar                 4.0  80.25  15.085865  67.0  67.75  78.5  91.0  97.0"
      ]
     },
     "execution_count": 4,
     "metadata": {},
     "output_type": "execute_result"
    }
   ],
   "source": [
    "gg.describe()"
   ]
  },
  {
   "cell_type": "code",
   "execution_count": null,
   "metadata": {
    "colab": {
     "base_uri": "https://localhost:8080/",
     "height": 142
    },
    "executionInfo": {
     "elapsed": 718,
     "status": "ok",
     "timestamp": 1634462673056,
     "user": {
      "displayName": "Rajat Agarwal",
      "photoUrl": "https://lh3.googleusercontent.com/a-/AOh14GiqdQRoEJhWWghCgSMgU0X4si-AEXaiDC_NkfBOEw=s64",
      "userId": "15404319687387405045"
     },
     "user_tz": -330
    },
    "id": "e5P7VKtO9Kz8",
    "outputId": "2e500349-e212-4568-ac9c-d4fdf7c0d5cc"
   },
   "outputs": [
    {
     "data": {
      "text/html": [
       "<div>\n",
       "<style scoped>\n",
       "    .dataframe tbody tr th:only-of-type {\n",
       "        vertical-align: middle;\n",
       "    }\n",
       "\n",
       "    .dataframe tbody tr th {\n",
       "        vertical-align: top;\n",
       "    }\n",
       "\n",
       "    .dataframe thead th {\n",
       "        text-align: right;\n",
       "    }\n",
       "</style>\n",
       "<table border=\"1\" class=\"dataframe\">\n",
       "  <thead>\n",
       "    <tr style=\"text-align: right;\">\n",
       "      <th></th>\n",
       "      <th>District</th>\n",
       "      <th>Num of covid cases</th>\n",
       "    </tr>\n",
       "    <tr>\n",
       "      <th>State</th>\n",
       "      <th></th>\n",
       "      <th></th>\n",
       "    </tr>\n",
       "  </thead>\n",
       "  <tbody>\n",
       "    <tr>\n",
       "      <th>del</th>\n",
       "      <td>indiag</td>\n",
       "      <td>45</td>\n",
       "    </tr>\n",
       "    <tr>\n",
       "      <th>jhar</th>\n",
       "      <td>Dhn</td>\n",
       "      <td>67</td>\n",
       "    </tr>\n",
       "  </tbody>\n",
       "</table>\n",
       "</div>"
      ],
      "text/plain": [
       "      District  Num of covid cases\n",
       "State                             \n",
       "del     indiag                  45\n",
       "jhar       Dhn                  67"
      ]
     },
     "execution_count": 5,
     "metadata": {},
     "output_type": "execute_result"
    }
   ],
   "source": [
    "gg.min()"
   ]
  },
  {
   "cell_type": "code",
   "execution_count": null,
   "metadata": {
    "colab": {
     "base_uri": "https://localhost:8080/",
     "height": 142
    },
    "executionInfo": {
     "elapsed": 15,
     "status": "ok",
     "timestamp": 1634462675316,
     "user": {
      "displayName": "Rajat Agarwal",
      "photoUrl": "https://lh3.googleusercontent.com/a-/AOh14GiqdQRoEJhWWghCgSMgU0X4si-AEXaiDC_NkfBOEw=s64",
      "userId": "15404319687387405045"
     },
     "user_tz": -330
    },
    "id": "eopWVRcL9xx8",
    "outputId": "eff59ac9-4017-4e22-9e05-05b4e3afceda"
   },
   "outputs": [
    {
     "data": {
      "text/html": [
       "<div>\n",
       "<style scoped>\n",
       "    .dataframe tbody tr th:only-of-type {\n",
       "        vertical-align: middle;\n",
       "    }\n",
       "\n",
       "    .dataframe tbody tr th {\n",
       "        vertical-align: top;\n",
       "    }\n",
       "\n",
       "    .dataframe thead th {\n",
       "        text-align: right;\n",
       "    }\n",
       "</style>\n",
       "<table border=\"1\" class=\"dataframe\">\n",
       "  <thead>\n",
       "    <tr style=\"text-align: right;\">\n",
       "      <th></th>\n",
       "      <th>Num of covid cases</th>\n",
       "    </tr>\n",
       "    <tr>\n",
       "      <th>State</th>\n",
       "      <th></th>\n",
       "    </tr>\n",
       "  </thead>\n",
       "  <tbody>\n",
       "    <tr>\n",
       "      <th>del</th>\n",
       "      <td>69.50</td>\n",
       "    </tr>\n",
       "    <tr>\n",
       "      <th>jhar</th>\n",
       "      <td>80.25</td>\n",
       "    </tr>\n",
       "  </tbody>\n",
       "</table>\n",
       "</div>"
      ],
      "text/plain": [
       "       Num of covid cases\n",
       "State                    \n",
       "del                 69.50\n",
       "jhar                80.25"
      ]
     },
     "execution_count": 6,
     "metadata": {},
     "output_type": "execute_result"
    }
   ],
   "source": [
    "gg.mean()"
   ]
  },
  {
   "cell_type": "code",
   "execution_count": null,
   "metadata": {
    "colab": {
     "base_uri": "https://localhost:8080/",
     "height": 142
    },
    "executionInfo": {
     "elapsed": 22,
     "status": "ok",
     "timestamp": 1634462678577,
     "user": {
      "displayName": "Rajat Agarwal",
      "photoUrl": "https://lh3.googleusercontent.com/a-/AOh14GiqdQRoEJhWWghCgSMgU0X4si-AEXaiDC_NkfBOEw=s64",
      "userId": "15404319687387405045"
     },
     "user_tz": -330
    },
    "id": "xrqUVOy790gZ",
    "outputId": "c63b6b10-3aac-44b6-fe96-1b399104c83f"
   },
   "outputs": [
    {
     "data": {
      "text/html": [
       "<div>\n",
       "<style scoped>\n",
       "    .dataframe tbody tr th:only-of-type {\n",
       "        vertical-align: middle;\n",
       "    }\n",
       "\n",
       "    .dataframe tbody tr th {\n",
       "        vertical-align: top;\n",
       "    }\n",
       "\n",
       "    .dataframe thead th {\n",
       "        text-align: right;\n",
       "    }\n",
       "</style>\n",
       "<table border=\"1\" class=\"dataframe\">\n",
       "  <thead>\n",
       "    <tr style=\"text-align: right;\">\n",
       "      <th></th>\n",
       "      <th>Num of covid cases</th>\n",
       "    </tr>\n",
       "    <tr>\n",
       "      <th>State</th>\n",
       "      <th></th>\n",
       "    </tr>\n",
       "  </thead>\n",
       "  <tbody>\n",
       "    <tr>\n",
       "      <th>del</th>\n",
       "      <td>473.666667</td>\n",
       "    </tr>\n",
       "    <tr>\n",
       "      <th>jhar</th>\n",
       "      <td>227.583333</td>\n",
       "    </tr>\n",
       "  </tbody>\n",
       "</table>\n",
       "</div>"
      ],
      "text/plain": [
       "       Num of covid cases\n",
       "State                    \n",
       "del            473.666667\n",
       "jhar           227.583333"
      ]
     },
     "execution_count": 7,
     "metadata": {},
     "output_type": "execute_result"
    }
   ],
   "source": [
    "gg.var()"
   ]
  },
  {
   "cell_type": "code",
   "execution_count": null,
   "metadata": {
    "colab": {
     "base_uri": "https://localhost:8080/",
     "height": 173
    },
    "executionInfo": {
     "elapsed": 730,
     "status": "ok",
     "timestamp": 1634462690698,
     "user": {
      "displayName": "Rajat Agarwal",
      "photoUrl": "https://lh3.googleusercontent.com/a-/AOh14GiqdQRoEJhWWghCgSMgU0X4si-AEXaiDC_NkfBOEw=s64",
      "userId": "15404319687387405045"
     },
     "user_tz": -330
    },
    "id": "TmIAsYd79cqf",
    "outputId": "a18e9307-50d6-4a5a-a0ae-6836d3996a55"
   },
   "outputs": [
    {
     "data": {
      "text/html": [
       "<div>\n",
       "<style scoped>\n",
       "    .dataframe tbody tr th:only-of-type {\n",
       "        vertical-align: middle;\n",
       "    }\n",
       "\n",
       "    .dataframe tbody tr th {\n",
       "        vertical-align: top;\n",
       "    }\n",
       "\n",
       "    .dataframe thead th {\n",
       "        text-align: right;\n",
       "    }\n",
       "</style>\n",
       "<table border=\"1\" class=\"dataframe\">\n",
       "  <thead>\n",
       "    <tr style=\"text-align: right;\">\n",
       "      <th></th>\n",
       "      <th>District</th>\n",
       "      <th>Num of covid cases</th>\n",
       "    </tr>\n",
       "  </thead>\n",
       "  <tbody>\n",
       "    <tr>\n",
       "      <th>0</th>\n",
       "      <td>Dhn</td>\n",
       "      <td>67</td>\n",
       "    </tr>\n",
       "    <tr>\n",
       "      <th>1</th>\n",
       "      <td>Sindri</td>\n",
       "      <td>97</td>\n",
       "    </tr>\n",
       "    <tr>\n",
       "      <th>2</th>\n",
       "      <td>jharia</td>\n",
       "      <td>68</td>\n",
       "    </tr>\n",
       "    <tr>\n",
       "      <th>3</th>\n",
       "      <td>govin</td>\n",
       "      <td>89</td>\n",
       "    </tr>\n",
       "  </tbody>\n",
       "</table>\n",
       "</div>"
      ],
      "text/plain": [
       "  District  Num of covid cases\n",
       "0      Dhn                  67\n",
       "1   Sindri                  97\n",
       "2   jharia                  68\n",
       "3    govin                  89"
      ]
     },
     "execution_count": 8,
     "metadata": {},
     "output_type": "execute_result"
    }
   ],
   "source": [
    "gg.get_group('jhar')"
   ]
  },
  {
   "cell_type": "code",
   "execution_count": null,
   "metadata": {
    "colab": {
     "base_uri": "https://localhost:8080/",
     "height": 586
    },
    "executionInfo": {
     "elapsed": 880,
     "status": "ok",
     "timestamp": 1634462735166,
     "user": {
      "displayName": "Rajat Agarwal",
      "photoUrl": "https://lh3.googleusercontent.com/a-/AOh14GiqdQRoEJhWWghCgSMgU0X4si-AEXaiDC_NkfBOEw=s64",
      "userId": "15404319687387405045"
     },
     "user_tz": -330
    },
    "id": "aTL2cyxckEOu",
    "outputId": "81267a8f-bb1a-4709-cc7e-f81b034d8ec9"
   },
   "outputs": [
    {
     "data": {
      "text/plain": [
       "State\n",
       "del     AxesSubplot(0.125,0.125;0.775x0.755)\n",
       "jhar    AxesSubplot(0.125,0.125;0.775x0.755)\n",
       "dtype: object"
      ]
     },
     "execution_count": 10,
     "metadata": {},
     "output_type": "execute_result"
    },
    {
     "data": {
      "image/png": "[encoded data removed]",
      "text/plain": [
       "<Figure size 432x288 with 1 Axes>"
      ]
     },
     "metadata": {
      "needs_background": "light"
     },
     "output_type": "display_data"
    },
    {
     "data": {
      "image/png": "[encoded data removed]",
      "text/plain": [
       "<Figure size 432x288 with 1 Axes>"
      ]
     },
     "metadata": {
      "needs_background": "light"
     },
     "output_type": "display_data"
    }
   ],
   "source": [
    "gg.plot()"
   ]
  },
  {
   "cell_type": "markdown",
   "metadata": {
    "id": "9XkD79KfjyZB"
   },
   "source": [
    "<a name=\"dtj\"></a>\n",
    "# Different Types of Join in Python using pandas merge function\n",
    "\n",
    " \n",
    "\n",
    "*   Inner Join\n",
    "\n"
   ]
  },
  {
   "cell_type": "code",
   "execution_count": null,
   "metadata": {
    "colab": {
     "base_uri": "https://localhost:8080/",
     "height": 175
    },
    "executionInfo": {
     "elapsed": 503,
     "status": "ok",
     "timestamp": 1634532358893,
     "user": {
      "displayName": "Rajat Agarwal",
      "photoUrl": "https://lh3.googleusercontent.com/a-/AOh14GiqdQRoEJhWWghCgSMgU0X4si-AEXaiDC_NkfBOEw=s64",
      "userId": "15404319687387405045"
     },
     "user_tz": -330
    },
    "id": "87jAq2cijxPq",
    "outputId": "d41cf52b-88bc-43f1-9a31-037b453e4a17"
   },
   "outputs": [
    {
     "data": {
      "text/html": [
       "<div>\n",
       "<style scoped>\n",
       "    .dataframe tbody tr th:only-of-type {\n",
       "        vertical-align: middle;\n",
       "    }\n",
       "\n",
       "    .dataframe tbody tr th {\n",
       "        vertical-align: top;\n",
       "    }\n",
       "\n",
       "    .dataframe thead th {\n",
       "        text-align: right;\n",
       "    }\n",
       "</style>\n",
       "<table border=\"1\" class=\"dataframe\">\n",
       "  <thead>\n",
       "    <tr style=\"text-align: right;\">\n",
       "      <th></th>\n",
       "      <th>city</th>\n",
       "      <th>Temperature</th>\n",
       "    </tr>\n",
       "  </thead>\n",
       "  <tbody>\n",
       "    <tr>\n",
       "      <th>0</th>\n",
       "      <td>New york</td>\n",
       "      <td>21</td>\n",
       "    </tr>\n",
       "    <tr>\n",
       "      <th>1</th>\n",
       "      <td>Chicago</td>\n",
       "      <td>14</td>\n",
       "    </tr>\n",
       "    <tr>\n",
       "      <th>2</th>\n",
       "      <td>orlando</td>\n",
       "      <td>35</td>\n",
       "    </tr>\n",
       "    <tr>\n",
       "      <th>3</th>\n",
       "      <td>baltimore</td>\n",
       "      <td>32</td>\n",
       "    </tr>\n",
       "  </tbody>\n",
       "</table>\n",
       "</div>"
      ],
      "text/plain": [
       "        city  Temperature\n",
       "0   New york           21\n",
       "1    Chicago           14\n",
       "2    orlando           35\n",
       "3  baltimore           32"
      ]
     },
     "execution_count": 2,
     "metadata": {},
     "output_type": "execute_result"
    }
   ],
   "source": [
    "import pandas as pd\n",
    "df1 = pd.DataFrame({\n",
    "    \"city\":['New york' ,'Chicago' ,'orlando' ,'baltimore'],\n",
    "    \"Temperature\":[21,14,35,32]\n",
    "})\n",
    "df1"
   ]
  },
  {
   "cell_type": "code",
   "execution_count": null,
   "metadata": {
    "colab": {
     "base_uri": "https://localhost:8080/",
     "height": 143
    },
    "executionInfo": {
     "elapsed": 9,
     "status": "ok",
     "timestamp": 1634532509574,
     "user": {
      "displayName": "Rajat Agarwal",
      "photoUrl": "https://lh3.googleusercontent.com/a-/AOh14GiqdQRoEJhWWghCgSMgU0X4si-AEXaiDC_NkfBOEw=s64",
      "userId": "15404319687387405045"
     },
     "user_tz": -330
    },
    "id": "A7DuSB5mjxS1",
    "outputId": "98cbc93b-e326-48e3-80fa-e23a8b8d4469"
   },
   "outputs": [
    {
     "data": {
      "text/html": [
       "<div>\n",
       "<style scoped>\n",
       "    .dataframe tbody tr th:only-of-type {\n",
       "        vertical-align: middle;\n",
       "    }\n",
       "\n",
       "    .dataframe tbody tr th {\n",
       "        vertical-align: top;\n",
       "    }\n",
       "\n",
       "    .dataframe thead th {\n",
       "        text-align: right;\n",
       "    }\n",
       "</style>\n",
       "<table border=\"1\" class=\"dataframe\">\n",
       "  <thead>\n",
       "    <tr style=\"text-align: right;\">\n",
       "      <th></th>\n",
       "      <th>city</th>\n",
       "      <th>humidity</th>\n",
       "    </tr>\n",
       "  </thead>\n",
       "  <tbody>\n",
       "    <tr>\n",
       "      <th>0</th>\n",
       "      <td>Chicago</td>\n",
       "      <td>65</td>\n",
       "    </tr>\n",
       "    <tr>\n",
       "      <th>1</th>\n",
       "      <td>New york</td>\n",
       "      <td>68</td>\n",
       "    </tr>\n",
       "    <tr>\n",
       "      <th>2</th>\n",
       "      <td>san francisco</td>\n",
       "      <td>71</td>\n",
       "    </tr>\n",
       "  </tbody>\n",
       "</table>\n",
       "</div>"
      ],
      "text/plain": [
       "            city  humidity\n",
       "0        Chicago        65\n",
       "1       New york        68\n",
       "2  san francisco        71"
      ]
     },
     "execution_count": 6,
     "metadata": {},
     "output_type": "execute_result"
    }
   ],
   "source": [
    "df2 = pd.DataFrame({\n",
    "    \"city\":['Chicago' ,'New york' ,'san francisco'],\n",
    "    \"humidity\":[65,68,71]\n",
    "})\n",
    "df2"
   ]
  },
  {
   "cell_type": "code",
   "execution_count": null,
   "metadata": {
    "colab": {
     "base_uri": "https://localhost:8080/",
     "height": 112
    },
    "executionInfo": {
     "elapsed": 508,
     "status": "ok",
     "timestamp": 1634532517039,
     "user": {
      "displayName": "Rajat Agarwal",
      "photoUrl": "https://lh3.googleusercontent.com/a-/AOh14GiqdQRoEJhWWghCgSMgU0X4si-AEXaiDC_NkfBOEw=s64",
      "userId": "15404319687387405045"
     },
     "user_tz": -330
    },
    "id": "UqjEYpS3ujAD",
    "outputId": "d04de1bc-9770-49dd-fbd8-00303166497a"
   },
   "outputs": [
    {
     "data": {
      "text/html": [
       "<div>\n",
       "<style scoped>\n",
       "    .dataframe tbody tr th:only-of-type {\n",
       "        vertical-align: middle;\n",
       "    }\n",
       "\n",
       "    .dataframe tbody tr th {\n",
       "        vertical-align: top;\n",
       "    }\n",
       "\n",
       "    .dataframe thead th {\n",
       "        text-align: right;\n",
       "    }\n",
       "</style>\n",
       "<table border=\"1\" class=\"dataframe\">\n",
       "  <thead>\n",
       "    <tr style=\"text-align: right;\">\n",
       "      <th></th>\n",
       "      <th>city</th>\n",
       "      <th>Temperature</th>\n",
       "      <th>humidity</th>\n",
       "    </tr>\n",
       "  </thead>\n",
       "  <tbody>\n",
       "    <tr>\n",
       "      <th>0</th>\n",
       "      <td>New york</td>\n",
       "      <td>21</td>\n",
       "      <td>68</td>\n",
       "    </tr>\n",
       "    <tr>\n",
       "      <th>1</th>\n",
       "      <td>Chicago</td>\n",
       "      <td>14</td>\n",
       "      <td>65</td>\n",
       "    </tr>\n",
       "  </tbody>\n",
       "</table>\n",
       "</div>"
      ],
      "text/plain": [
       "       city  Temperature  humidity\n",
       "0  New york           21        68\n",
       "1   Chicago           14        65"
      ]
     },
     "execution_count": 7,
     "metadata": {},
     "output_type": "execute_result"
    }
   ],
   "source": [
    "pd.merge(df1,df2)\n",
    "# Here if we are not defining how to merge then the defualt \n",
    "# merge will be inner join\n",
    "# Also I have not defined on which column to merge two dataframe\n",
    "# and the function itself is merging with city column"
   ]
  },
  {
   "cell_type": "code",
   "execution_count": null,
   "metadata": {
    "colab": {
     "base_uri": "https://localhost:8080/",
     "height": 112
    },
    "executionInfo": {
     "elapsed": 548,
     "status": "ok",
     "timestamp": 1634532744566,
     "user": {
      "displayName": "Rajat Agarwal",
      "photoUrl": "https://lh3.googleusercontent.com/a-/AOh14GiqdQRoEJhWWghCgSMgU0X4si-AEXaiDC_NkfBOEw=s64",
      "userId": "15404319687387405045"
     },
     "user_tz": -330
    },
    "id": "_Ff5Owvdvgod",
    "outputId": "d0b99d37-5ecf-45b5-8414-3d2d91c6d618"
   },
   "outputs": [
    {
     "data": {
      "text/html": [
       "<div>\n",
       "<style scoped>\n",
       "    .dataframe tbody tr th:only-of-type {\n",
       "        vertical-align: middle;\n",
       "    }\n",
       "\n",
       "    .dataframe tbody tr th {\n",
       "        vertical-align: top;\n",
       "    }\n",
       "\n",
       "    .dataframe thead th {\n",
       "        text-align: right;\n",
       "    }\n",
       "</style>\n",
       "<table border=\"1\" class=\"dataframe\">\n",
       "  <thead>\n",
       "    <tr style=\"text-align: right;\">\n",
       "      <th></th>\n",
       "      <th>city</th>\n",
       "      <th>Temperature</th>\n",
       "      <th>humidity</th>\n",
       "    </tr>\n",
       "  </thead>\n",
       "  <tbody>\n",
       "    <tr>\n",
       "      <th>0</th>\n",
       "      <td>New york</td>\n",
       "      <td>21</td>\n",
       "      <td>68</td>\n",
       "    </tr>\n",
       "    <tr>\n",
       "      <th>1</th>\n",
       "      <td>Chicago</td>\n",
       "      <td>14</td>\n",
       "      <td>65</td>\n",
       "    </tr>\n",
       "  </tbody>\n",
       "</table>\n",
       "</div>"
      ],
      "text/plain": [
       "       city  Temperature  humidity\n",
       "0  New york           21        68\n",
       "1   Chicago           14        65"
      ]
     },
     "execution_count": 8,
     "metadata": {},
     "output_type": "execute_result"
    }
   ],
   "source": [
    "pd.merge(df1,df2,on='city')"
   ]
  },
  {
   "cell_type": "markdown",
   "metadata": {
    "id": "l9Jik68PnCL3"
   },
   "source": [
    "\n",
    "\n",
    "*   Right Join\n",
    "\n"
   ]
  },
  {
   "cell_type": "code",
   "execution_count": null,
   "metadata": {
    "colab": {
     "base_uri": "https://localhost:8080/",
     "height": 143
    },
    "executionInfo": {
     "elapsed": 578,
     "status": "ok",
     "timestamp": 1634533071865,
     "user": {
      "displayName": "Rajat Agarwal",
      "photoUrl": "https://lh3.googleusercontent.com/a-/AOh14GiqdQRoEJhWWghCgSMgU0X4si-AEXaiDC_NkfBOEw=s64",
      "userId": "15404319687387405045"
     },
     "user_tz": -330
    },
    "id": "ejKIKLlFjxV6",
    "outputId": "8443e0f5-9b00-47cc-9aa7-781d0b2fc439"
   },
   "outputs": [
    {
     "data": {
      "text/html": [
       "<div>\n",
       "<style scoped>\n",
       "    .dataframe tbody tr th:only-of-type {\n",
       "        vertical-align: middle;\n",
       "    }\n",
       "\n",
       "    .dataframe tbody tr th {\n",
       "        vertical-align: top;\n",
       "    }\n",
       "\n",
       "    .dataframe thead th {\n",
       "        text-align: right;\n",
       "    }\n",
       "</style>\n",
       "<table border=\"1\" class=\"dataframe\">\n",
       "  <thead>\n",
       "    <tr style=\"text-align: right;\">\n",
       "      <th></th>\n",
       "      <th>city</th>\n",
       "      <th>Temperature</th>\n",
       "      <th>humidity</th>\n",
       "    </tr>\n",
       "  </thead>\n",
       "  <tbody>\n",
       "    <tr>\n",
       "      <th>0</th>\n",
       "      <td>Chicago</td>\n",
       "      <td>14.0</td>\n",
       "      <td>65</td>\n",
       "    </tr>\n",
       "    <tr>\n",
       "      <th>1</th>\n",
       "      <td>New york</td>\n",
       "      <td>21.0</td>\n",
       "      <td>68</td>\n",
       "    </tr>\n",
       "    <tr>\n",
       "      <th>2</th>\n",
       "      <td>san francisco</td>\n",
       "      <td>NaN</td>\n",
       "      <td>71</td>\n",
       "    </tr>\n",
       "  </tbody>\n",
       "</table>\n",
       "</div>"
      ],
      "text/plain": [
       "            city  Temperature  humidity\n",
       "0        Chicago         14.0        65\n",
       "1       New york         21.0        68\n",
       "2  san francisco          NaN        71"
      ]
     },
     "execution_count": 11,
     "metadata": {},
     "output_type": "execute_result"
    }
   ],
   "source": [
    "pd.merge(df1,df2,on='city',how='right')"
   ]
  },
  {
   "cell_type": "markdown",
   "metadata": {
    "id": "A_vEbY7DnJhU"
   },
   "source": [
    "*    Left Join\n"
   ]
  },
  {
   "cell_type": "code",
   "execution_count": null,
   "metadata": {
    "colab": {
     "base_uri": "https://localhost:8080/",
     "height": 175
    },
    "executionInfo": {
     "elapsed": 545,
     "status": "ok",
     "timestamp": 1634533054370,
     "user": {
      "displayName": "Rajat Agarwal",
      "photoUrl": "https://lh3.googleusercontent.com/a-/AOh14GiqdQRoEJhWWghCgSMgU0X4si-AEXaiDC_NkfBOEw=s64",
      "userId": "15404319687387405045"
     },
     "user_tz": -330
    },
    "id": "28lu6u5_jxed",
    "outputId": "2d688360-700a-4665-bc64-4b1b7dba7ccc"
   },
   "outputs": [
    {
     "data": {
      "text/html": [
       "<div>\n",
       "<style scoped>\n",
       "    .dataframe tbody tr th:only-of-type {\n",
       "        vertical-align: middle;\n",
       "    }\n",
       "\n",
       "    .dataframe tbody tr th {\n",
       "        vertical-align: top;\n",
       "    }\n",
       "\n",
       "    .dataframe thead th {\n",
       "        text-align: right;\n",
       "    }\n",
       "</style>\n",
       "<table border=\"1\" class=\"dataframe\">\n",
       "  <thead>\n",
       "    <tr style=\"text-align: right;\">\n",
       "      <th></th>\n",
       "      <th>city</th>\n",
       "      <th>Temperature</th>\n",
       "      <th>humidity</th>\n",
       "    </tr>\n",
       "  </thead>\n",
       "  <tbody>\n",
       "    <tr>\n",
       "      <th>0</th>\n",
       "      <td>New york</td>\n",
       "      <td>21</td>\n",
       "      <td>68.0</td>\n",
       "    </tr>\n",
       "    <tr>\n",
       "      <th>1</th>\n",
       "      <td>Chicago</td>\n",
       "      <td>14</td>\n",
       "      <td>65.0</td>\n",
       "    </tr>\n",
       "    <tr>\n",
       "      <th>2</th>\n",
       "      <td>orlando</td>\n",
       "      <td>35</td>\n",
       "      <td>NaN</td>\n",
       "    </tr>\n",
       "    <tr>\n",
       "      <th>3</th>\n",
       "      <td>baltimore</td>\n",
       "      <td>32</td>\n",
       "      <td>NaN</td>\n",
       "    </tr>\n",
       "  </tbody>\n",
       "</table>\n",
       "</div>"
      ],
      "text/plain": [
       "        city  Temperature  humidity\n",
       "0   New york           21      68.0\n",
       "1    Chicago           14      65.0\n",
       "2    orlando           35       NaN\n",
       "3  baltimore           32       NaN"
      ]
     },
     "execution_count": 10,
     "metadata": {},
     "output_type": "execute_result"
    }
   ],
   "source": [
    "pd.merge(df1,df2,on='city',how='left')"
   ]
  },
  {
   "cell_type": "markdown",
   "metadata": {
    "id": "5q9ooumFnNPx"
   },
   "source": [
    "*     Full Join "
   ]
  },
  {
   "cell_type": "code",
   "execution_count": null,
   "metadata": {
    "colab": {
     "base_uri": "https://localhost:8080/",
     "height": 206
    },
    "executionInfo": {
     "elapsed": 584,
     "status": "ok",
     "timestamp": 1634533143522,
     "user": {
      "displayName": "Rajat Agarwal",
      "photoUrl": "https://lh3.googleusercontent.com/a-/AOh14GiqdQRoEJhWWghCgSMgU0X4si-AEXaiDC_NkfBOEw=s64",
      "userId": "15404319687387405045"
     },
     "user_tz": -330
    },
    "id": "HDixjNDRjxkQ",
    "outputId": "d558e3f5-979b-452d-c9c5-38f959f9684b"
   },
   "outputs": [
    {
     "data": {
      "text/html": [
       "<div>\n",
       "<style scoped>\n",
       "    .dataframe tbody tr th:only-of-type {\n",
       "        vertical-align: middle;\n",
       "    }\n",
       "\n",
       "    .dataframe tbody tr th {\n",
       "        vertical-align: top;\n",
       "    }\n",
       "\n",
       "    .dataframe thead th {\n",
       "        text-align: right;\n",
       "    }\n",
       "</style>\n",
       "<table border=\"1\" class=\"dataframe\">\n",
       "  <thead>\n",
       "    <tr style=\"text-align: right;\">\n",
       "      <th></th>\n",
       "      <th>city</th>\n",
       "      <th>Temperature</th>\n",
       "      <th>humidity</th>\n",
       "      <th>_merge</th>\n",
       "    </tr>\n",
       "  </thead>\n",
       "  <tbody>\n",
       "    <tr>\n",
       "      <th>0</th>\n",
       "      <td>New york</td>\n",
       "      <td>21.0</td>\n",
       "      <td>68.0</td>\n",
       "      <td>both</td>\n",
       "    </tr>\n",
       "    <tr>\n",
       "      <th>1</th>\n",
       "      <td>Chicago</td>\n",
       "      <td>14.0</td>\n",
       "      <td>65.0</td>\n",
       "      <td>both</td>\n",
       "    </tr>\n",
       "    <tr>\n",
       "      <th>2</th>\n",
       "      <td>orlando</td>\n",
       "      <td>35.0</td>\n",
       "      <td>NaN</td>\n",
       "      <td>left_only</td>\n",
       "    </tr>\n",
       "    <tr>\n",
       "      <th>3</th>\n",
       "      <td>baltimore</td>\n",
       "      <td>32.0</td>\n",
       "      <td>NaN</td>\n",
       "      <td>left_only</td>\n",
       "    </tr>\n",
       "    <tr>\n",
       "      <th>4</th>\n",
       "      <td>san francisco</td>\n",
       "      <td>NaN</td>\n",
       "      <td>71.0</td>\n",
       "      <td>right_only</td>\n",
       "    </tr>\n",
       "  </tbody>\n",
       "</table>\n",
       "</div>"
      ],
      "text/plain": [
       "            city  Temperature  humidity      _merge\n",
       "0       New york         21.0      68.0        both\n",
       "1        Chicago         14.0      65.0        both\n",
       "2        orlando         35.0       NaN   left_only\n",
       "3      baltimore         32.0       NaN   left_only\n",
       "4  san francisco          NaN      71.0  right_only"
      ]
     },
     "execution_count": 12,
     "metadata": {},
     "output_type": "execute_result"
    }
   ],
   "source": [
    "pd.merge(df1,df2,on='city',how='outer',indicator=True)"
   ]
  },
  {
   "cell_type": "code",
   "execution_count": null,
   "metadata": {
    "colab": {
     "base_uri": "https://localhost:8080/",
     "height": 175
    },
    "executionInfo": {
     "elapsed": 536,
     "status": "ok",
     "timestamp": 1634534916639,
     "user": {
      "displayName": "Rajat Agarwal",
      "photoUrl": "https://lh3.googleusercontent.com/a-/AOh14GiqdQRoEJhWWghCgSMgU0X4si-AEXaiDC_NkfBOEw=s64",
      "userId": "15404319687387405045"
     },
     "user_tz": -330
    },
    "id": "OOFBj2KVxoe9",
    "outputId": "6c641b66-9ece-46fd-9ddb-6298a382c98d"
   },
   "outputs": [
    {
     "data": {
      "text/html": [
       "<div>\n",
       "<style scoped>\n",
       "    .dataframe tbody tr th:only-of-type {\n",
       "        vertical-align: middle;\n",
       "    }\n",
       "\n",
       "    .dataframe tbody tr th {\n",
       "        vertical-align: top;\n",
       "    }\n",
       "\n",
       "    .dataframe thead th {\n",
       "        text-align: right;\n",
       "    }\n",
       "</style>\n",
       "<table border=\"1\" class=\"dataframe\">\n",
       "  <thead>\n",
       "    <tr style=\"text-align: right;\">\n",
       "      <th></th>\n",
       "      <th>city</th>\n",
       "      <th>Temperature</th>\n",
       "      <th>humidity</th>\n",
       "    </tr>\n",
       "  </thead>\n",
       "  <tbody>\n",
       "    <tr>\n",
       "      <th>0</th>\n",
       "      <td>New york</td>\n",
       "      <td>21</td>\n",
       "      <td>65</td>\n",
       "    </tr>\n",
       "    <tr>\n",
       "      <th>1</th>\n",
       "      <td>Chicago</td>\n",
       "      <td>14</td>\n",
       "      <td>68</td>\n",
       "    </tr>\n",
       "    <tr>\n",
       "      <th>2</th>\n",
       "      <td>orlando</td>\n",
       "      <td>35</td>\n",
       "      <td>71</td>\n",
       "    </tr>\n",
       "    <tr>\n",
       "      <th>3</th>\n",
       "      <td>baltimore</td>\n",
       "      <td>38</td>\n",
       "      <td>75</td>\n",
       "    </tr>\n",
       "  </tbody>\n",
       "</table>\n",
       "</div>"
      ],
      "text/plain": [
       "        city  Temperature  humidity\n",
       "0   New york           21        65\n",
       "1    Chicago           14        68\n",
       "2    orlando           35        71\n",
       "3  baltimore           38        75"
      ]
     },
     "execution_count": 18,
     "metadata": {},
     "output_type": "execute_result"
    }
   ],
   "source": [
    "import pandas as pd\n",
    "df1 = pd.DataFrame({\n",
    "    \"city\":['New york' ,'Chicago' ,'orlando' ,'baltimore'],\n",
    "    \"Temperature\":[21,14,35,38],\n",
    "    \"humidity\":[65,68,71,75]\n",
    "})\n",
    "df1"
   ]
  },
  {
   "cell_type": "code",
   "execution_count": null,
   "metadata": {
    "colab": {
     "base_uri": "https://localhost:8080/",
     "height": 143
    },
    "executionInfo": {
     "elapsed": 4,
     "status": "ok",
     "timestamp": 1634534917369,
     "user": {
      "displayName": "Rajat Agarwal",
      "photoUrl": "https://lh3.googleusercontent.com/a-/AOh14GiqdQRoEJhWWghCgSMgU0X4si-AEXaiDC_NkfBOEw=s64",
      "userId": "15404319687387405045"
     },
     "user_tz": -330
    },
    "id": "2R3kvtx-xorI",
    "outputId": "2521b33c-9cdb-4531-e011-1cfd735edcab"
   },
   "outputs": [
    {
     "data": {
      "text/html": [
       "<div>\n",
       "<style scoped>\n",
       "    .dataframe tbody tr th:only-of-type {\n",
       "        vertical-align: middle;\n",
       "    }\n",
       "\n",
       "    .dataframe tbody tr th {\n",
       "        vertical-align: top;\n",
       "    }\n",
       "\n",
       "    .dataframe thead th {\n",
       "        text-align: right;\n",
       "    }\n",
       "</style>\n",
       "<table border=\"1\" class=\"dataframe\">\n",
       "  <thead>\n",
       "    <tr style=\"text-align: right;\">\n",
       "      <th></th>\n",
       "      <th>city</th>\n",
       "      <th>Temperature</th>\n",
       "      <th>humidity</th>\n",
       "    </tr>\n",
       "  </thead>\n",
       "  <tbody>\n",
       "    <tr>\n",
       "      <th>0</th>\n",
       "      <td>Chicago</td>\n",
       "      <td>21</td>\n",
       "      <td>65</td>\n",
       "    </tr>\n",
       "    <tr>\n",
       "      <th>1</th>\n",
       "      <td>New york</td>\n",
       "      <td>11</td>\n",
       "      <td>68</td>\n",
       "    </tr>\n",
       "    <tr>\n",
       "      <th>2</th>\n",
       "      <td>san diego</td>\n",
       "      <td>35</td>\n",
       "      <td>71</td>\n",
       "    </tr>\n",
       "  </tbody>\n",
       "</table>\n",
       "</div>"
      ],
      "text/plain": [
       "        city  Temperature  humidity\n",
       "0    Chicago           21        65\n",
       "1   New york           11        68\n",
       "2  san diego           35        71"
      ]
     },
     "execution_count": 19,
     "metadata": {},
     "output_type": "execute_result"
    }
   ],
   "source": [
    "df2 = pd.DataFrame({\n",
    "    \"city\":['Chicago' ,'New york' ,'san diego'],\n",
    "    \"Temperature\":[21,11,35],\n",
    "    \"humidity\":[65,68,71]\n",
    "})\n",
    "df2"
   ]
  },
  {
   "cell_type": "code",
   "execution_count": null,
   "metadata": {
    "colab": {
     "base_uri": "https://localhost:8080/",
     "height": 112
    },
    "executionInfo": {
     "elapsed": 7,
     "status": "ok",
     "timestamp": 1634534917859,
     "user": {
      "displayName": "Rajat Agarwal",
      "photoUrl": "https://lh3.googleusercontent.com/a-/AOh14GiqdQRoEJhWWghCgSMgU0X4si-AEXaiDC_NkfBOEw=s64",
      "userId": "15404319687387405045"
     },
     "user_tz": -330
    },
    "id": "NnRSYwsfxozL",
    "outputId": "4bc82a7f-5068-4c82-a08c-8e67aa92c6c9"
   },
   "outputs": [
    {
     "data": {
      "text/html": [
       "<div>\n",
       "<style scoped>\n",
       "    .dataframe tbody tr th:only-of-type {\n",
       "        vertical-align: middle;\n",
       "    }\n",
       "\n",
       "    .dataframe tbody tr th {\n",
       "        vertical-align: top;\n",
       "    }\n",
       "\n",
       "    .dataframe thead th {\n",
       "        text-align: right;\n",
       "    }\n",
       "</style>\n",
       "<table border=\"1\" class=\"dataframe\">\n",
       "  <thead>\n",
       "    <tr style=\"text-align: right;\">\n",
       "      <th></th>\n",
       "      <th>city</th>\n",
       "      <th>Temperature_x</th>\n",
       "      <th>humidity_x</th>\n",
       "      <th>Temperature_y</th>\n",
       "      <th>humidity_y</th>\n",
       "    </tr>\n",
       "  </thead>\n",
       "  <tbody>\n",
       "    <tr>\n",
       "      <th>0</th>\n",
       "      <td>New york</td>\n",
       "      <td>21</td>\n",
       "      <td>65</td>\n",
       "      <td>11</td>\n",
       "      <td>68</td>\n",
       "    </tr>\n",
       "    <tr>\n",
       "      <th>1</th>\n",
       "      <td>Chicago</td>\n",
       "      <td>14</td>\n",
       "      <td>68</td>\n",
       "      <td>21</td>\n",
       "      <td>65</td>\n",
       "    </tr>\n",
       "  </tbody>\n",
       "</table>\n",
       "</div>"
      ],
      "text/plain": [
       "       city  Temperature_x  humidity_x  Temperature_y  humidity_y\n",
       "0  New york             21          65             11          68\n",
       "1   Chicago             14          68             21          65"
      ]
     },
     "execution_count": 20,
     "metadata": {},
     "output_type": "execute_result"
    }
   ],
   "source": [
    "pd.merge(df1,df2,on='city')"
   ]
  },
  {
   "cell_type": "code",
   "execution_count": null,
   "metadata": {
    "colab": {
     "base_uri": "https://localhost:8080/",
     "height": 112
    },
    "executionInfo": {
     "elapsed": 534,
     "status": "ok",
     "timestamp": 1634534967639,
     "user": {
      "displayName": "Rajat Agarwal",
      "photoUrl": "https://lh3.googleusercontent.com/a-/AOh14GiqdQRoEJhWWghCgSMgU0X4si-AEXaiDC_NkfBOEw=s64",
      "userId": "15404319687387405045"
     },
     "user_tz": -330
    },
    "id": "Jl60yXcNxo8b",
    "outputId": "40b78f1e-9f65-41f5-9cc3-3ae92791980b"
   },
   "outputs": [
    {
     "data": {
      "text/html": [
       "<div>\n",
       "<style scoped>\n",
       "    .dataframe tbody tr th:only-of-type {\n",
       "        vertical-align: middle;\n",
       "    }\n",
       "\n",
       "    .dataframe tbody tr th {\n",
       "        vertical-align: top;\n",
       "    }\n",
       "\n",
       "    .dataframe thead th {\n",
       "        text-align: right;\n",
       "    }\n",
       "</style>\n",
       "<table border=\"1\" class=\"dataframe\">\n",
       "  <thead>\n",
       "    <tr style=\"text-align: right;\">\n",
       "      <th></th>\n",
       "      <th>city</th>\n",
       "      <th>Temperature_left</th>\n",
       "      <th>humidity_left</th>\n",
       "      <th>Temperature_right</th>\n",
       "      <th>humidity_right</th>\n",
       "    </tr>\n",
       "  </thead>\n",
       "  <tbody>\n",
       "    <tr>\n",
       "      <th>0</th>\n",
       "      <td>New york</td>\n",
       "      <td>21</td>\n",
       "      <td>65</td>\n",
       "      <td>11</td>\n",
       "      <td>68</td>\n",
       "    </tr>\n",
       "    <tr>\n",
       "      <th>1</th>\n",
       "      <td>Chicago</td>\n",
       "      <td>14</td>\n",
       "      <td>68</td>\n",
       "      <td>21</td>\n",
       "      <td>65</td>\n",
       "    </tr>\n",
       "  </tbody>\n",
       "</table>\n",
       "</div>"
      ],
      "text/plain": [
       "       city  Temperature_left  humidity_left  Temperature_right  humidity_right\n",
       "0  New york                21             65                 11              68\n",
       "1   Chicago                14             68                 21              65"
      ]
     },
     "execution_count": 21,
     "metadata": {},
     "output_type": "execute_result"
    }
   ],
   "source": [
    "pd.merge(df1,df2,on='city',suffixes=('_left','_right'))"
   ]
  },
  {
   "cell_type": "markdown",
   "metadata": {
    "id": "ws094GBQ5gnz"
   },
   "source": [
    "<a name='ctp'></a>\n",
    "# Cross tab or Contigency table in python \n",
    "Basically it tells the frequency distribution of variable\n",
    "# crosstab function is in pandas "
   ]
  },
  {
   "cell_type": "code",
   "execution_count": null,
   "metadata": {
    "colab": {
     "base_uri": "https://localhost:8080/"
    },
    "executionInfo": {
     "elapsed": 1249,
     "status": "error",
     "timestamp": 1643629967573,
     "user": {
      "displayName": "Rajat Agarwal",
      "photoUrl": "https://lh3.googleusercontent.com/a-/AOh14GiqdQRoEJhWWghCgSMgU0X4si-AEXaiDC_NkfBOEw=s64",
      "userId": "15404319687387405045"
     },
     "user_tz": -330
    },
    "id": "OQB1gZzz5vTB",
    "outputId": "1b8dce14-3128-4730-ef1a-a361cc27a017"
   },
   "outputs": [
    {
     "ename": "NameError",
     "evalue": "ignored",
     "output_type": "error",
     "traceback": [
      "\u001b[0;31m---------------------------------------------------------------------------\u001b[0m",
      "\u001b[0;31mNameError\u001b[0m                                 Traceback (most recent call last)",
      "\u001b[0;32m<ipython-input-1-7d60214bb639>\u001b[0m in \u001b[0;36m<module>\u001b[0;34m()\u001b[0m\n\u001b[0;32m----> 1\u001b[0;31m df = pd.DataFrame({\n\u001b[0m\u001b[1;32m      2\u001b[0m     \u001b[0;34m\"Name\"\u001b[0m\u001b[0;34m:\u001b[0m\u001b[0;34m[\u001b[0m\u001b[0;34m'Kathy'\u001b[0m\u001b[0;34m,\u001b[0m\u001b[0;34m'Linda'\u001b[0m\u001b[0;34m,\u001b[0m\u001b[0;34m'Peter'\u001b[0m\u001b[0;34m,\u001b[0m\u001b[0;34m'John'\u001b[0m\u001b[0;34m,\u001b[0m\u001b[0;34m'Fatime'\u001b[0m\u001b[0;34m]\u001b[0m\u001b[0;34m,\u001b[0m\u001b[0;34m\u001b[0m\u001b[0;34m\u001b[0m\u001b[0m\n\u001b[1;32m      3\u001b[0m     \u001b[0;34m\"Nationality\"\u001b[0m\u001b[0;34m:\u001b[0m\u001b[0;34m[\u001b[0m\u001b[0;34m'USA'\u001b[0m\u001b[0;34m,\u001b[0m\u001b[0;34m'Bangladesh'\u001b[0m\u001b[0;34m,\u001b[0m\u001b[0;34m'India'\u001b[0m\u001b[0;34m,\u001b[0m\u001b[0;34m'India'\u001b[0m\u001b[0;34m,\u001b[0m\u001b[0;34m'Japan'\u001b[0m\u001b[0;34m]\u001b[0m\u001b[0;34m,\u001b[0m\u001b[0;34m\u001b[0m\u001b[0;34m\u001b[0m\u001b[0m\n\u001b[1;32m      4\u001b[0m     \u001b[0;34m\"Sex\"\u001b[0m\u001b[0;34m:\u001b[0m\u001b[0;34m[\u001b[0m\u001b[0;34m'F'\u001b[0m\u001b[0;34m,\u001b[0m\u001b[0;34m'F'\u001b[0m\u001b[0;34m,\u001b[0m\u001b[0;34m'M'\u001b[0m\u001b[0;34m,\u001b[0m\u001b[0;34m'F'\u001b[0m\u001b[0;34m,\u001b[0m\u001b[0;34m\"F\"\u001b[0m\u001b[0;34m]\u001b[0m\u001b[0;34m,\u001b[0m\u001b[0;34m\u001b[0m\u001b[0;34m\u001b[0m\u001b[0m\n\u001b[1;32m      5\u001b[0m     \u001b[0;34m\"Age\"\u001b[0m\u001b[0;34m:\u001b[0m\u001b[0;34m[\u001b[0m\u001b[0;36m23\u001b[0m\u001b[0;34m,\u001b[0m\u001b[0;36m18\u001b[0m\u001b[0;34m,\u001b[0m\u001b[0;36m19\u001b[0m\u001b[0;34m,\u001b[0m\u001b[0;36m21\u001b[0m\u001b[0;34m,\u001b[0m\u001b[0;36m22\u001b[0m\u001b[0;34m]\u001b[0m\u001b[0;34m,\u001b[0m\u001b[0;34m\u001b[0m\u001b[0;34m\u001b[0m\u001b[0m\n",
      "\u001b[0;31mNameError\u001b[0m: name 'pd' is not defined"
     ]
    }
   ],
   "source": [
    "df = pd.DataFrame({\n",
    "    \"Name\":['Kathy','Linda','Peter','John','Fatime'],\n",
    "    \"Nationality\":['USA','Bangladesh','India','India','Japan'],\n",
    "    \"Sex\":['F','F','M','F',\"F\"],\n",
    "    \"Age\":[23,18,19,21,22],\n",
    "    \"Handedness\":['left','right','left','left','right']\n",
    "})\n",
    "df"
   ]
  },
  {
   "cell_type": "code",
   "execution_count": null,
   "metadata": {
    "colab": {
     "base_uri": "https://localhost:8080/",
     "height": 206
    },
    "executionInfo": {
     "elapsed": 620,
     "status": "ok",
     "timestamp": 1634537530681,
     "user": {
      "displayName": "Rajat Agarwal",
      "photoUrl": "https://lh3.googleusercontent.com/a-/AOh14GiqdQRoEJhWWghCgSMgU0X4si-AEXaiDC_NkfBOEw=s64",
      "userId": "15404319687387405045"
     },
     "user_tz": -330
    },
    "id": "H0yNviHYAGTC",
    "outputId": "0bf72f10-e767-47a4-fc93-708e387ebcd7"
   },
   "outputs": [
    {
     "data": {
      "text/html": [
       "<div>\n",
       "<style scoped>\n",
       "    .dataframe tbody tr th:only-of-type {\n",
       "        vertical-align: middle;\n",
       "    }\n",
       "\n",
       "    .dataframe tbody tr th {\n",
       "        vertical-align: top;\n",
       "    }\n",
       "\n",
       "    .dataframe thead th {\n",
       "        text-align: right;\n",
       "    }\n",
       "</style>\n",
       "<table border=\"1\" class=\"dataframe\">\n",
       "  <thead>\n",
       "    <tr style=\"text-align: right;\">\n",
       "      <th>Handedness</th>\n",
       "      <th>left</th>\n",
       "      <th>right</th>\n",
       "    </tr>\n",
       "    <tr>\n",
       "      <th>Nationality</th>\n",
       "      <th></th>\n",
       "      <th></th>\n",
       "    </tr>\n",
       "  </thead>\n",
       "  <tbody>\n",
       "    <tr>\n",
       "      <th>Bangladesh</th>\n",
       "      <td>0</td>\n",
       "      <td>1</td>\n",
       "    </tr>\n",
       "    <tr>\n",
       "      <th>India</th>\n",
       "      <td>2</td>\n",
       "      <td>0</td>\n",
       "    </tr>\n",
       "    <tr>\n",
       "      <th>Japan</th>\n",
       "      <td>0</td>\n",
       "      <td>1</td>\n",
       "    </tr>\n",
       "    <tr>\n",
       "      <th>USA</th>\n",
       "      <td>1</td>\n",
       "      <td>0</td>\n",
       "    </tr>\n",
       "  </tbody>\n",
       "</table>\n",
       "</div>"
      ],
      "text/plain": [
       "Handedness   left  right\n",
       "Nationality             \n",
       "Bangladesh      0      1\n",
       "India           2      0\n",
       "Japan           0      1\n",
       "USA             1      0"
      ]
     },
     "execution_count": 31,
     "metadata": {},
     "output_type": "execute_result"
    }
   ],
   "source": [
    "pd.crosstab(df.Nationality,df.Handedness)"
   ]
  },
  {
   "cell_type": "code",
   "execution_count": null,
   "metadata": {
    "colab": {
     "base_uri": "https://localhost:8080/",
     "height": 269
    },
    "executionInfo": {
     "elapsed": 606,
     "status": "ok",
     "timestamp": 1634537658877,
     "user": {
      "displayName": "Rajat Agarwal",
      "photoUrl": "https://lh3.googleusercontent.com/a-/AOh14GiqdQRoEJhWWghCgSMgU0X4si-AEXaiDC_NkfBOEw=s64",
      "userId": "15404319687387405045"
     },
     "user_tz": -330
    },
    "id": "kHQclp6D5vfa",
    "outputId": "2b5687b6-3216-4fe9-a6fd-ba74ffcaf7fd"
   },
   "outputs": [
    {
     "data": {
      "text/html": [
       "<div>\n",
       "<style scoped>\n",
       "    .dataframe tbody tr th:only-of-type {\n",
       "        vertical-align: middle;\n",
       "    }\n",
       "\n",
       "    .dataframe tbody tr th {\n",
       "        vertical-align: top;\n",
       "    }\n",
       "\n",
       "    .dataframe thead th {\n",
       "        text-align: right;\n",
       "    }\n",
       "</style>\n",
       "<table border=\"1\" class=\"dataframe\">\n",
       "  <thead>\n",
       "    <tr style=\"text-align: right;\">\n",
       "      <th></th>\n",
       "      <th>Handedness</th>\n",
       "      <th>left</th>\n",
       "      <th>right</th>\n",
       "      <th>All</th>\n",
       "    </tr>\n",
       "    <tr>\n",
       "      <th>Nationality</th>\n",
       "      <th>Sex</th>\n",
       "      <th></th>\n",
       "      <th></th>\n",
       "      <th></th>\n",
       "    </tr>\n",
       "  </thead>\n",
       "  <tbody>\n",
       "    <tr>\n",
       "      <th>Bangladesh</th>\n",
       "      <th>F</th>\n",
       "      <td>0</td>\n",
       "      <td>1</td>\n",
       "      <td>1</td>\n",
       "    </tr>\n",
       "    <tr>\n",
       "      <th rowspan=\"2\" valign=\"top\">India</th>\n",
       "      <th>F</th>\n",
       "      <td>1</td>\n",
       "      <td>0</td>\n",
       "      <td>1</td>\n",
       "    </tr>\n",
       "    <tr>\n",
       "      <th>M</th>\n",
       "      <td>1</td>\n",
       "      <td>0</td>\n",
       "      <td>1</td>\n",
       "    </tr>\n",
       "    <tr>\n",
       "      <th>Japan</th>\n",
       "      <th>F</th>\n",
       "      <td>0</td>\n",
       "      <td>1</td>\n",
       "      <td>1</td>\n",
       "    </tr>\n",
       "    <tr>\n",
       "      <th>USA</th>\n",
       "      <th>F</th>\n",
       "      <td>1</td>\n",
       "      <td>0</td>\n",
       "      <td>1</td>\n",
       "    </tr>\n",
       "    <tr>\n",
       "      <th>All</th>\n",
       "      <th></th>\n",
       "      <td>3</td>\n",
       "      <td>2</td>\n",
       "      <td>5</td>\n",
       "    </tr>\n",
       "  </tbody>\n",
       "</table>\n",
       "</div>"
      ],
      "text/plain": [
       "Handedness       left  right  All\n",
       "Nationality Sex                  \n",
       "Bangladesh  F       0      1    1\n",
       "India       F       1      0    1\n",
       "            M       1      0    1\n",
       "Japan       F       0      1    1\n",
       "USA         F       1      0    1\n",
       "All                 3      2    5"
      ]
     },
     "execution_count": 33,
     "metadata": {},
     "output_type": "execute_result"
    }
   ],
   "source": [
    "# Here we are putting Nationality ,Sex on Rows \n",
    "# Here we are putting Handedness on columns\n",
    "# margins equal to true will show the total\n",
    "pd.crosstab([df.Nationality,df.Sex],[df.Handedness],margins=True)"
   ]
  },
  {
   "cell_type": "code",
   "execution_count": null,
   "metadata": {
    "colab": {
     "base_uri": "https://localhost:8080/",
     "height": 143
    },
    "executionInfo": {
     "elapsed": 629,
     "status": "ok",
     "timestamp": 1634537864969,
     "user": {
      "displayName": "Rajat Agarwal",
      "photoUrl": "https://lh3.googleusercontent.com/a-/AOh14GiqdQRoEJhWWghCgSMgU0X4si-AEXaiDC_NkfBOEw=s64",
      "userId": "15404319687387405045"
     },
     "user_tz": -330
    },
    "id": "tCU2PSXY5wCj",
    "outputId": "b2ec8157-2954-4b5e-f4b8-e2296c4e64da"
   },
   "outputs": [
    {
     "data": {
      "text/html": [
       "<div>\n",
       "<style scoped>\n",
       "    .dataframe tbody tr th:only-of-type {\n",
       "        vertical-align: middle;\n",
       "    }\n",
       "\n",
       "    .dataframe tbody tr th {\n",
       "        vertical-align: top;\n",
       "    }\n",
       "\n",
       "    .dataframe thead th {\n",
       "        text-align: right;\n",
       "    }\n",
       "</style>\n",
       "<table border=\"1\" class=\"dataframe\">\n",
       "  <thead>\n",
       "    <tr style=\"text-align: right;\">\n",
       "      <th>Handedness</th>\n",
       "      <th>left</th>\n",
       "      <th>right</th>\n",
       "    </tr>\n",
       "    <tr>\n",
       "      <th>Sex</th>\n",
       "      <th></th>\n",
       "      <th></th>\n",
       "    </tr>\n",
       "  </thead>\n",
       "  <tbody>\n",
       "    <tr>\n",
       "      <th>F</th>\n",
       "      <td>0.5</td>\n",
       "      <td>0.5</td>\n",
       "    </tr>\n",
       "    <tr>\n",
       "      <th>M</th>\n",
       "      <td>1.0</td>\n",
       "      <td>0.0</td>\n",
       "    </tr>\n",
       "  </tbody>\n",
       "</table>\n",
       "</div>"
      ],
      "text/plain": [
       "Handedness  left  right\n",
       "Sex                    \n",
       "F            0.5    0.5\n",
       "M            1.0    0.0"
      ]
     },
     "execution_count": 36,
     "metadata": {},
     "output_type": "execute_result"
    }
   ],
   "source": [
    "  # Here we are putting Nationality ,Sex on Rows \n",
    "# Here we are putting Handedness on columns\n",
    "# margins equal to true will show the total\n",
    "pd.crosstab([df.Sex],[df.Handedness],normalize='index')"
   ]
  },
  {
   "cell_type": "markdown",
   "metadata": {
    "id": "wzNIS2bcDMId"
   },
   "source": [
    "#### aggregate function in crosstab"
   ]
  },
  {
   "cell_type": "code",
   "execution_count": null,
   "metadata": {
    "colab": {
     "base_uri": "https://localhost:8080/",
     "height": 143
    },
    "executionInfo": {
     "elapsed": 666,
     "status": "ok",
     "timestamp": 1634537972123,
     "user": {
      "displayName": "Rajat Agarwal",
      "photoUrl": "https://lh3.googleusercontent.com/a-/AOh14GiqdQRoEJhWWghCgSMgU0X4si-AEXaiDC_NkfBOEw=s64",
      "userId": "15404319687387405045"
     },
     "user_tz": -330
    },
    "id": "W00rZiwWDLag",
    "outputId": "c62d99c8-febf-4ccd-be87-79c25eaacf7e"
   },
   "outputs": [
    {
     "data": {
      "text/html": [
       "<div>\n",
       "<style scoped>\n",
       "    .dataframe tbody tr th:only-of-type {\n",
       "        vertical-align: middle;\n",
       "    }\n",
       "\n",
       "    .dataframe tbody tr th {\n",
       "        vertical-align: top;\n",
       "    }\n",
       "\n",
       "    .dataframe thead th {\n",
       "        text-align: right;\n",
       "    }\n",
       "</style>\n",
       "<table border=\"1\" class=\"dataframe\">\n",
       "  <thead>\n",
       "    <tr style=\"text-align: right;\">\n",
       "      <th>Handedness</th>\n",
       "      <th>left</th>\n",
       "      <th>right</th>\n",
       "    </tr>\n",
       "    <tr>\n",
       "      <th>Sex</th>\n",
       "      <th></th>\n",
       "      <th></th>\n",
       "    </tr>\n",
       "  </thead>\n",
       "  <tbody>\n",
       "    <tr>\n",
       "      <th>F</th>\n",
       "      <td>22.0</td>\n",
       "      <td>20.0</td>\n",
       "    </tr>\n",
       "    <tr>\n",
       "      <th>M</th>\n",
       "      <td>19.0</td>\n",
       "      <td>NaN</td>\n",
       "    </tr>\n",
       "  </tbody>\n",
       "</table>\n",
       "</div>"
      ],
      "text/plain": [
       "Handedness  left  right\n",
       "Sex                    \n",
       "F           22.0   20.0\n",
       "M           19.0    NaN"
      ]
     },
     "execution_count": 38,
     "metadata": {},
     "output_type": "execute_result"
    }
   ],
   "source": [
    "import numpy as np\n",
    "pd.crosstab([df.Sex],[df.Handedness],values=df.Age,aggfunc=np.average)"
   ]
  },
  {
   "cell_type": "code",
   "execution_count": null,
   "metadata": {
    "colab": {
     "base_uri": "https://localhost:8080/",
     "height": 339
    },
    "executionInfo": {
     "elapsed": 513,
     "status": "error",
     "timestamp": 1634538484259,
     "user": {
      "displayName": "Rajat Agarwal",
      "photoUrl": "https://lh3.googleusercontent.com/a-/AOh14GiqdQRoEJhWWghCgSMgU0X4si-AEXaiDC_NkfBOEw=s64",
      "userId": "15404319687387405045"
     },
     "user_tz": -330
    },
    "id": "ORM83Kx5CacA",
    "outputId": "cfde7c76-16da-40bb-be19-c4bde9e0c60a"
   },
   "outputs": [
    {
     "ename": "ValueError",
     "evalue": "ignored",
     "output_type": "error",
     "traceback": [
      "\u001b[0;31m---------------------------------------------------------------------------\u001b[0m",
      "\u001b[0;31mValueError\u001b[0m                                Traceback (most recent call last)",
      "\u001b[0;32m<ipython-input-41-38b7cb7d61a4>\u001b[0m in \u001b[0;36m<module>\u001b[0;34m()\u001b[0m\n\u001b[1;32m      1\u001b[0m \u001b[0;32mimport\u001b[0m \u001b[0mnumpy\u001b[0m \u001b[0;32mas\u001b[0m \u001b[0mnp\u001b[0m\u001b[0;34m\u001b[0m\u001b[0;34m\u001b[0m\u001b[0m\n\u001b[0;32m----> 2\u001b[0;31m \u001b[0mpd\u001b[0m\u001b[0;34m.\u001b[0m\u001b[0mcrosstab\u001b[0m\u001b[0;34m(\u001b[0m\u001b[0;34m[\u001b[0m\u001b[0mdf\u001b[0m\u001b[0;34m.\u001b[0m\u001b[0mSex\u001b[0m\u001b[0;34m]\u001b[0m\u001b[0;34m,\u001b[0m\u001b[0;34m[\u001b[0m\u001b[0mdf\u001b[0m\u001b[0;34m.\u001b[0m\u001b[0mHandedness\u001b[0m\u001b[0;34m]\u001b[0m\u001b[0;34m,\u001b[0m\u001b[0mvalues\u001b[0m\u001b[0;34m=\u001b[0m\u001b[0mdf\u001b[0m\u001b[0;34m.\u001b[0m\u001b[0mAge\u001b[0m\u001b[0;34m)\u001b[0m\u001b[0;34m\u001b[0m\u001b[0;34m\u001b[0m\u001b[0m\n\u001b[0m",
      "\u001b[0;32m/usr/local/lib/python3.7/dist-packages/pandas/core/reshape/pivot.py\u001b[0m in \u001b[0;36mcrosstab\u001b[0;34m(index, columns, values, rownames, colnames, aggfunc, margins, margins_name, dropna, normalize)\u001b[0m\n\u001b[1;32m    600\u001b[0m \u001b[0;34m\u001b[0m\u001b[0m\n\u001b[1;32m    601\u001b[0m     \u001b[0;32mif\u001b[0m \u001b[0mvalues\u001b[0m \u001b[0;32mis\u001b[0m \u001b[0;32mnot\u001b[0m \u001b[0;32mNone\u001b[0m \u001b[0;32mand\u001b[0m \u001b[0maggfunc\u001b[0m \u001b[0;32mis\u001b[0m \u001b[0;32mNone\u001b[0m\u001b[0;34m:\u001b[0m\u001b[0;34m\u001b[0m\u001b[0;34m\u001b[0m\u001b[0m\n\u001b[0;32m--> 602\u001b[0;31m         \u001b[0;32mraise\u001b[0m \u001b[0mValueError\u001b[0m\u001b[0;34m(\u001b[0m\u001b[0;34m\"values cannot be used without an aggfunc.\"\u001b[0m\u001b[0;34m)\u001b[0m\u001b[0;34m\u001b[0m\u001b[0;34m\u001b[0m\u001b[0m\n\u001b[0m\u001b[1;32m    603\u001b[0m \u001b[0;34m\u001b[0m\u001b[0m\n\u001b[1;32m    604\u001b[0m     \u001b[0;32mfrom\u001b[0m \u001b[0mpandas\u001b[0m \u001b[0;32mimport\u001b[0m \u001b[0mDataFrame\u001b[0m\u001b[0;34m\u001b[0m\u001b[0;34m\u001b[0m\u001b[0m\n",
      "\u001b[0;31mValueError\u001b[0m: values cannot be used without an aggfunc."
     ]
    }
   ],
   "source": [
    "import numpy as np\n",
    "pd.crosstab([df.Sex],[df.Handedness],values=df.Age)"
   ]
  },
  {
   "cell_type": "code",
   "execution_count": null,
   "metadata": {
    "id": "1duAk1Zb5wFn"
   },
   "outputs": [],
   "source": [
    " "
   ]
  },
  {
   "cell_type": "markdown",
   "metadata": {
    "id": "CPlc95ykxTCx"
   },
   "source": [
    "<a name=\"03\"></a>\n",
    "# NUMPY"
   ]
  },
  {
   "cell_type": "markdown",
   "metadata": {
    "id": "ayhBAh-oNzGp"
   },
   "source": [
    "<a name=\"iqrnp\"></a>\n",
    "# IQR using numpy percentile method"
   ]
  },
  {
   "cell_type": "code",
   "execution_count": null,
   "metadata": {
    "id": "tmiwnQoKSGMt"
   },
   "outputs": [],
   "source": [
    "#calculate interquartile range \n",
    "q3, q1 = np.percentile(a, [75 ,25])\n",
    "iqr = q3 - q1\n",
    "print('the iqr of a is {}'.format(iqr))"
   ]
  },
  {
   "cell_type": "code",
   "execution_count": null,
   "metadata": {
    "id": "ZoOGzaUIycmm"
   },
   "outputs": [],
   "source": []
  },
  {
   "cell_type": "markdown",
   "metadata": {
    "id": "Hi3OoE7wxSmC"
   },
   "source": [
    "# PANDAS"
   ]
  },
  {
   "cell_type": "code",
   "execution_count": null,
   "metadata": {
    "id": "7mTvM_XASEgw"
   },
   "outputs": [],
   "source": []
  },
  {
   "cell_type": "markdown",
   "metadata": {
    "id": "gFHrL0YBxSWd"
   },
   "source": [
    "<a name=\"05\"></a>\n",
    "# MATPLOTLIB"
   ]
  },
  {
   "cell_type": "code",
   "execution_count": null,
   "metadata": {
    "id": "lm0pATqCSFQ3"
   },
   "outputs": [],
   "source": []
  },
  {
   "cell_type": "markdown",
   "metadata": {
    "id": "QQPy7wLMxSLV"
   },
   "source": [
    "<a name=\"06\"></a>\n",
    "# SEABORN"
   ]
  },
  {
   "cell_type": "code",
   "execution_count": null,
   "metadata": {
    "id": "_vY2bajZSHDP"
   },
   "outputs": [],
   "source": []
  },
  {
   "cell_type": "code",
   "execution_count": null,
   "metadata": {
    "id": "2dpYCfCBSHGO"
   },
   "outputs": [],
   "source": []
  },
  {
   "cell_type": "markdown",
   "metadata": {
    "id": "VsJcWf-ixRvD"
   },
   "source": [
    "<a name=\"07\"></a>\n",
    "# SCIKIT LEARN"
   ]
  },
  {
   "cell_type": "code",
   "execution_count": null,
   "metadata": {
    "id": "o3Dywdn3SI4c"
   },
   "outputs": [],
   "source": []
  },
  {
   "cell_type": "code",
   "execution_count": null,
   "metadata": {
    "id": "-2vdSRWdSI7R"
   },
   "outputs": [],
   "source": []
  },
  {
   "cell_type": "markdown",
   "metadata": {
    "id": "TMgBIJ38EfvX"
   },
   "source": [
    "<a name=\"08\"></a>\n",
    "# SCIPY"
   ]
  },
  {
   "cell_type": "markdown",
   "metadata": {
    "id": "7pZLYAhQOR7K"
   },
   "source": [
    "<a name=\"iqrss\"></a>\n",
    "# IQR using scipy.stats method"
   ]
  },
  {
   "cell_type": "code",
   "execution_count": null,
   "metadata": {
    "id": "Vs75XkgxEnqZ"
   },
   "outputs": [],
   "source": [
    "# Import stats from scipy library\n",
    "from scipy import stats\n",
    "  \n",
    "data = [32, 36, 46, 47, 56, 69, 75, 79, 79, 88, 89, 91, 92, 93, 96, 97, \n",
    "        101, 105, 112, 116]\n",
    "  \n",
    "# Interquartile range (IQR)\n",
    "IQR = stats.iqr(data, interpolation = 'midpoint')\n",
    "  \n",
    "print(IQR)"
   ]
  },
  {
   "cell_type": "code",
   "execution_count": null,
   "metadata": {
    "id": "9Vv9CGygEn5U"
   },
   "outputs": [],
   "source": []
  },
  {
   "cell_type": "markdown",
   "metadata": {
    "id": "nTnaboKVxl12"
   },
   "source": [
    "<a name=\"09\"></a>\n",
    "# TENSORFLOW"
   ]
  },
  {
   "cell_type": "code",
   "execution_count": null,
   "metadata": {
    "colab": {
     "base_uri": "https://localhost:8080/"
    },
    "executionInfo": {
     "elapsed": 1641,
     "status": "ok",
     "timestamp": 1642842105846,
     "user": {
      "displayName": "Rajat Agarwal",
      "photoUrl": "https://lh3.googleusercontent.com/a-/AOh14GiqdQRoEJhWWghCgSMgU0X4si-AEXaiDC_NkfBOEw=s64",
      "userId": "15404319687387405045"
     },
     "user_tz": -330
    },
    "id": "g5eiRwWtSKDH",
    "outputId": "51512088-e19f-475e-e550-0bddf28b26fb"
   },
   "outputs": [
    {
     "name": "stdout",
     "output_type": "stream",
     "text": [
      "Hello World\n",
      "unsupported operand type(s) for +: 'int' and 'str'\n",
      "Program finished here\n"
     ]
    }
   ],
   "source": []
  },
  {
   "cell_type": "code",
   "execution_count": null,
   "metadata": {
    "id": "BrhEp9g2SKAB"
   },
   "outputs": [],
   "source": []
  },
  {
   "cell_type": "markdown",
   "metadata": {
    "id": "eMMEiTu9xld4"
   },
   "source": [
    "<a name=\"10\"></a>\n",
    "# KERAS"
   ]
  },
  {
   "cell_type": "code",
   "execution_count": null,
   "metadata": {
    "id": "YC-Hw6gySK3v"
   },
   "outputs": [],
   "source": []
  },
  {
   "cell_type": "markdown",
   "metadata": {
    "id": "WELhEz9iFT6C"
   },
   "source": [
    "#gensim ,\n",
    "#nltk(Natural Language toolkit)(To perform various NLP task) ,\n",
    "#wordcloud(to perform really powerfull visualization for words)"
   ]
  },
  {
   "cell_type": "markdown",
   "metadata": {
    "id": "OKTy4n2xFTxb"
   },
   "source": []
  },
  {
   "cell_type": "code",
   "execution_count": null,
   "metadata": {
    "id": "5kz2y8JDSK6n"
   },
   "outputs": [],
   "source": []
  },
  {
   "cell_type": "markdown",
   "metadata": {
    "id": "DVfMmanox2RD"
   },
   "source": [
    "<a name=\"11\"></a>\n",
    "# OOPs IN PYTHON"
   ]
  },
  {
   "cell_type": "markdown",
   "metadata": {
    "id": "CewrgdX9NH10"
   },
   "source": [
    "<a name='dbee'></a>\n",
    "Ques:- What is the difference between error and exception?\n",
    "\n",
    "Ans: Error are the problems in a program due to which the program will stop the execution.\n",
    "\n",
    "On other hand , Exceptions are raised when some intenal events occur which changes the normal flow of program\n",
    "\n",
    "There are two types of errors:-\n",
    "\n",
    "1. Syntax Errors(When Proper syntax of language is not followed then syntax error)\n",
    "\n",
    "2. Logical Errors (Exceptions) (When in the runtime an error occurs after passing the syntax test is called exception or logical type errors )(for e.g when you divide a number by zero then zerodivisionerror exception is raised )"
   ]
  },
  {
   "cell_type": "markdown",
   "metadata": {
    "id": "CNwxdLvyZ_fp"
   },
   "source": [
    "<a name=\"i\"></a>\n",
    "# Exception Handling\n",
    "*   Index Error (When the wrong index of list is retrieved)\n",
    "*   Attribute Error (It occur when an attribute assignment is failed)\n",
    "*   Assertion Error (It occur when assert statement is failed)\n",
    "*   Import Error (It occur when an imported module is not found)\n",
    "*   Name Error (It occur when the variable is not defined)\n",
    "*   Memory Error (It occur when program run out of memory)\n",
    "*   Type Error (It occur when a function and operation is applied in an incorrect type)\n",
    "*   Parameter Error\n",
    " "
   ]
  },
  {
   "cell_type": "code",
   "execution_count": null,
   "metadata": {
    "colab": {
     "base_uri": "https://localhost:8080/",
     "height": 167
    },
    "executionInfo": {
     "elapsed": 473,
     "status": "error",
     "timestamp": 1634309544080,
     "user": {
      "displayName": "Rajat Agarwal",
      "photoUrl": "https://lh3.googleusercontent.com/a-/AOh14GiqdQRoEJhWWghCgSMgU0X4si-AEXaiDC_NkfBOEw=s64",
      "userId": "15404319687387405045"
     },
     "user_tz": -330
    },
    "id": "TLaOC1Nrx1Ls",
    "outputId": "c05d1ac8-3647-4bdd-c97a-c1cf26f8e9a3"
   },
   "outputs": [
    {
     "ename": "NameError",
     "evalue": "ignored",
     "output_type": "error",
     "traceback": [
      "\u001b[0;31m---------------------------------------------------------------------------\u001b[0m",
      "\u001b[0;31mNameError\u001b[0m                                 Traceback (most recent call last)",
      "\u001b[0;32m<ipython-input-1-488068fe1e94>\u001b[0m in \u001b[0;36m<module>\u001b[0;34m()\u001b[0m\n\u001b[0;32m----> 1\u001b[0;31m \u001b[0ma\u001b[0m\u001b[0;34m=\u001b[0m\u001b[0mb\u001b[0m\u001b[0;34m\u001b[0m\u001b[0;34m\u001b[0m\u001b[0m\n\u001b[0m",
      "\u001b[0;31mNameError\u001b[0m: name 'b' is not defined"
     ]
    }
   ],
   "source": [
    "a=b"
   ]
  },
  {
   "cell_type": "markdown",
   "metadata": {
    "id": "nDZahfTLTCWa"
   },
   "source": [
    "<a name='hete'></a>\n",
    "# Handling exception using try except"
   ]
  },
  {
   "cell_type": "code",
   "execution_count": null,
   "metadata": {
    "colab": {
     "base_uri": "https://localhost:8080/"
    },
    "executionInfo": {
     "elapsed": 393,
     "status": "ok",
     "timestamp": 1634309709912,
     "user": {
      "displayName": "Rajat Agarwal",
      "photoUrl": "https://lh3.googleusercontent.com/a-/AOh14GiqdQRoEJhWWghCgSMgU0X4si-AEXaiDC_NkfBOEw=s64",
      "userId": "15404319687387405045"
     },
     "user_tz": -330
    },
    "id": "C-hc1q05xQhH",
    "outputId": "8edd89fe-49e4-4fb3-de79-66c5ebae8e46"
   },
   "outputs": [
    {
     "name": "stdout",
     "output_type": "stream",
     "text": [
      "some problem may have occured \n"
     ]
    }
   ],
   "source": [
    "# We can handle the above error using try , except method\n",
    "try:\n",
    "  # code block where exception can occur\n",
    "  a=b\n",
    "except:\n",
    "  print(\"some problem may have occured \")\n",
    "\n",
    "# Thus below we have output which is saying that there is a problem in try block\n",
    "# This is a type of exception handling"
   ]
  },
  {
   "cell_type": "code",
   "execution_count": null,
   "metadata": {
    "colab": {
     "base_uri": "https://localhost:8080/"
    },
    "executionInfo": {
     "elapsed": 606,
     "status": "ok",
     "timestamp": 1634310185074,
     "user": {
      "displayName": "Rajat Agarwal",
      "photoUrl": "https://lh3.googleusercontent.com/a-/AOh14GiqdQRoEJhWWghCgSMgU0X4si-AEXaiDC_NkfBOEw=s64",
      "userId": "15404319687387405045"
     },
     "user_tz": -330
    },
    "id": "jn3VPorLeA4m",
    "outputId": "12c1e176-d4b3-4838-c175-53d6497a22ce"
   },
   "outputs": [
    {
     "name": "stdout",
     "output_type": "stream",
     "text": [
      "<built-in method with_traceback of NameError object at 0x7fb34f087f50>\n"
     ]
    }
   ],
   "source": [
    "try:\n",
    "  # code block where exception can occur\n",
    "  a=b\n",
    "except Exception as e:\n",
    "  print(e.with_traceback)"
   ]
  },
  {
   "cell_type": "code",
   "execution_count": null,
   "metadata": {
    "colab": {
     "base_uri": "https://localhost:8080/"
    },
    "executionInfo": {
     "elapsed": 689,
     "status": "ok",
     "timestamp": 1634310226784,
     "user": {
      "displayName": "Rajat Agarwal",
      "photoUrl": "https://lh3.googleusercontent.com/a-/AOh14GiqdQRoEJhWWghCgSMgU0X4si-AEXaiDC_NkfBOEw=s64",
      "userId": "15404319687387405045"
     },
     "user_tz": -330
    },
    "id": "cx_1j3MdeA7v",
    "outputId": "9e4b5e03-3af4-41c2-afc2-8c79d4536ae7"
   },
   "outputs": [
    {
     "name": "stdout",
     "output_type": "stream",
     "text": [
      "(\"name 'b' is not defined\",)\n"
     ]
    }
   ],
   "source": [
    "try:\n",
    "  # code block where exception can occur\n",
    "  a=b\n",
    "except Exception as e:\n",
    "  print(e.args)"
   ]
  },
  {
   "cell_type": "markdown",
   "metadata": {
    "id": "0Q6sV2dLe1V8"
   },
   "source": [
    "## Thus from above output we can see that an exception has two value one is traceback and other is args "
   ]
  },
  {
   "cell_type": "code",
   "execution_count": null,
   "metadata": {
    "colab": {
     "base_uri": "https://localhost:8080/"
    },
    "executionInfo": {
     "elapsed": 5573,
     "status": "ok",
     "timestamp": 1634541651821,
     "user": {
      "displayName": "Rajat Agarwal",
      "photoUrl": "https://lh3.googleusercontent.com/a-/AOh14GiqdQRoEJhWWghCgSMgU0X4si-AEXaiDC_NkfBOEw=s64",
      "userId": "15404319687387405045"
     },
     "user_tz": -330
    },
    "id": "Yp-XPLU6eA_4",
    "outputId": "b0129ba9-33fb-497d-f3c5-7633e58d4c55"
   },
   "outputs": [
    {
     "name": "stdout",
     "output_type": "stream",
     "text": [
      "Enter number 1  3636\n",
      "Enter number 2  5353\n",
      "The sum of the two number is 8989\n",
      "the command is executed\n"
     ]
    }
   ],
   "source": [
    "## try else finally\n",
    "\n",
    "try:\n",
    "    #code block where exception can occur \n",
    "    a=int(input('Enter number 1  '))\n",
    "    b=int(input('Enter number 2  '))\n",
    "    c=a+b\n",
    "except NameError as e1:\n",
    "    print(\"The user have not defined the variable\")\n",
    "except Exception as e:\n",
    "    print(e)\n",
    "else:  #for printing the ouput if command is not captured by exception\n",
    "    print(\"The sum of the two number is {}\".format(c))\n",
    "finally: # printing the final command in both case when the command is stuck in exception & command is not stuck in exception\n",
    "    print('the command is executed')\n",
    "# Here Exception is not a name error so name error exception is not printed "
   ]
  },
  {
   "cell_type": "markdown",
   "metadata": {
    "id": "LynhFFrTUkCg"
   },
   "source": [
    "<a name='rep'></a>\n",
    "# Raising Exception in Python\n",
    "* raise keyword helps us to raise an exception in python\n",
    "* need to provide the name of exception class"
   ]
  },
  {
   "cell_type": "code",
   "execution_count": null,
   "metadata": {
    "colab": {
     "base_uri": "https://localhost:8080/"
    },
    "executionInfo": {
     "elapsed": 10,
     "status": "ok",
     "timestamp": 1639924546613,
     "user": {
      "displayName": "Rajat Agarwal",
      "photoUrl": "https://lh3.googleusercontent.com/a-/AOh14GiqdQRoEJhWWghCgSMgU0X4si-AEXaiDC_NkfBOEw=s64",
      "userId": "15404319687387405045"
     },
     "user_tz": -330
    },
    "id": "CEKuc-J0UjRd",
    "outputId": "2f3d32b9-b09f-455b-971f-721443d3bcb4"
   },
   "outputs": [
    {
     "name": "stdout",
     "output_type": "stream",
     "text": [
      "Raising an exception\n",
      "division by zero is performed\n"
     ]
    }
   ],
   "source": [
    "try:\n",
    "   print('Raising an exception')\n",
    "   raise ZeroDivisionError # these code take it to except block\n",
    "except ZeroDivisionError:\n",
    "  print(\"division by zero is performed\")\n"
   ]
  },
  {
   "cell_type": "markdown",
   "metadata": {
    "id": "qQVCfudcRmOX"
   },
   "source": [
    "<a name='ceh'></a>\n",
    "# Custom Exception Handling and Raising exception in python\n"
   ]
  },
  {
   "cell_type": "code",
   "execution_count": null,
   "metadata": {
    "id": "M-yytLeEeBC8"
   },
   "outputs": [],
   "source": [
    "class Error(Exception):\n",
    "    pass\n",
    "class dobException(Error):\n",
    "    pass\n",
    "class customgeneric(Error):\n",
    "    pass"
   ]
  },
  {
   "cell_type": "code",
   "execution_count": null,
   "metadata": {
    "id": "xmP7N5xqeBHY"
   },
   "outputs": [],
   "source": [
    "year = int(input('Enter the year of birth'))\n",
    "age = 2021-year\n",
    "\n",
    "try:\n",
    "    if age<=30 and age>20:\n",
    "        print('the age is within range and you can apply for the exam')\n",
    "    else:\n",
    "        raise dobException\n",
    "except dobException:\n",
    "    print('the age is not within the range and you cannot apply for the exam')"
   ]
  },
  {
   "cell_type": "markdown",
   "metadata": {
    "id": "J8eEz_94Wb0b"
   },
   "source": [
    "<a name='pi'></a>\n",
    "# Inheritance in Python"
   ]
  },
  {
   "cell_type": "code",
   "execution_count": null,
   "metadata": {
    "id": "IO4omxNCeBLM"
   },
   "outputs": [],
   "source": [
    "class Car():\n",
    "    def __init__(self,windows,doors,enginetype):\n",
    "        self.windows = windows\n",
    "        self.doors = doors\n",
    "        self.enginetype = enginetype\n",
    "    def drive(self):\n",
    "        print('The person drives the car')\n",
    "    def show(self):\n",
    "        print(self.windows,self.doors,self.enginetype)\n",
    "        "
   ]
  },
  {
   "cell_type": "code",
   "execution_count": null,
   "metadata": {
    "colab": {
     "base_uri": "https://localhost:8080/"
    },
    "executionInfo": {
     "elapsed": 15,
     "status": "ok",
     "timestamp": 1640135894060,
     "user": {
      "displayName": "Rajat Agarwal",
      "photoUrl": "https://lh3.googleusercontent.com/a-/AOh14GiqdQRoEJhWWghCgSMgU0X4si-AEXaiDC_NkfBOEw=s64",
      "userId": "15404319687387405045"
     },
     "user_tz": -330
    },
    "id": "IBiofHGDeBSA",
    "outputId": "021e6f60-074c-4304-cdee-62497f58c22d"
   },
   "outputs": [
    {
     "name": "stdout",
     "output_type": "stream",
     "text": [
      "4\n",
      "5\n",
      "diesel\n",
      "The person drives the car\n",
      "None\n",
      "['__class__', '__delattr__', '__dict__', '__dir__', '__doc__', '__eq__', '__format__', '__ge__', '__getattribute__', '__gt__', '__hash__', '__init__', '__init_subclass__', '__le__', '__lt__', '__module__', '__ne__', '__new__', '__reduce__', '__reduce_ex__', '__repr__', '__setattr__', '__sizeof__', '__str__', '__subclasshook__', '__weakref__', 'doors', 'drive', 'enginetype', 'show', 'windows']\n"
     ]
    }
   ],
   "source": [
    "car = Car(4,5,\"diesel\")\n",
    "print( car.windows )\n",
    "print( car.doors )\n",
    "print( car.enginetype)\n",
    "print( car.drive())\n",
    "print(dir(car))"
   ]
  },
  {
   "cell_type": "code",
   "execution_count": null,
   "metadata": {
    "colab": {
     "base_uri": "https://localhost:8080/"
    },
    "executionInfo": {
     "elapsed": 12,
     "status": "ok",
     "timestamp": 1640135894061,
     "user": {
      "displayName": "Rajat Agarwal",
      "photoUrl": "https://lh3.googleusercontent.com/a-/AOh14GiqdQRoEJhWWghCgSMgU0X4si-AEXaiDC_NkfBOEw=s64",
      "userId": "15404319687387405045"
     },
     "user_tz": -330
    },
    "id": "CeGA3cDbZgEz",
    "outputId": "a516bd0d-bf36-467c-db78-4fe571690e39"
   },
   "outputs": [
    {
     "name": "stdout",
     "output_type": "stream",
     "text": [
      "4 5 diesel\n"
     ]
    }
   ],
   "source": [
    "car.show() # Created a method that will show all the variable inside that class"
   ]
  },
  {
   "cell_type": "code",
   "execution_count": null,
   "metadata": {
    "id": "gGhyGaQbZjCF"
   },
   "outputs": [],
   "source": [
    "class audi(Car):  # Here we are inherting the car information ; audi is chil inherting feature from parent car\n",
    "    def __init__(self,windows,doors,enginetype,enableai):\n",
    "        super().__init__(windows,doors,enginetype)\n",
    "        self.enableai= enableai\n",
    "    def selfdriving(self):\n",
    "        print(\"Audi supports self driving\")"
   ]
  },
  {
   "cell_type": "code",
   "execution_count": null,
   "metadata": {
    "colab": {
     "base_uri": "https://localhost:8080/"
    },
    "executionInfo": {
     "elapsed": 5,
     "status": "ok",
     "timestamp": 1640135899236,
     "user": {
      "displayName": "Rajat Agarwal",
      "photoUrl": "https://lh3.googleusercontent.com/a-/AOh14GiqdQRoEJhWWghCgSMgU0X4si-AEXaiDC_NkfBOEw=s64",
      "userId": "15404319687387405045"
     },
     "user_tz": -330
    },
    "id": "r6SFTk2AZjRo",
    "outputId": "cae55c33-60e4-464c-b65d-5476c92513b0"
   },
   "outputs": [
    {
     "name": "stdout",
     "output_type": "stream",
     "text": [
      "5\n",
      "5\n",
      "diesel\n",
      "The person drives the car\n",
      "None\n",
      "True\n",
      "['__class__', '__delattr__', '__dict__', '__dir__', '__doc__', '__eq__', '__format__', '__ge__', '__getattribute__', '__gt__', '__hash__', '__init__', '__init_subclass__', '__le__', '__lt__', '__module__', '__ne__', '__new__', '__reduce__', '__reduce_ex__', '__repr__', '__setattr__', '__sizeof__', '__str__', '__subclasshook__', '__weakref__', 'doors', 'drive', 'enableai', 'enginetype', 'selfdriving', 'show', 'windows']\n"
     ]
    }
   ],
   "source": [
    "audicar = audi(5,5,\"diesel\",True)\n",
    "print( audicar.windows )\n",
    "print( audicar.doors )\n",
    "print( audicar.enginetype )\n",
    "print( audicar.drive())\n",
    "print( audicar.enableai )\n",
    "print(dir(audicar))"
   ]
  },
  {
   "cell_type": "code",
   "execution_count": null,
   "metadata": {
    "colab": {
     "base_uri": "https://localhost:8080/",
     "height": 183
    },
    "executionInfo": {
     "elapsed": 1623,
     "status": "error",
     "timestamp": 1634550204612,
     "user": {
      "displayName": "Rajat Agarwal",
      "photoUrl": "https://lh3.googleusercontent.com/a-/AOh14GiqdQRoEJhWWghCgSMgU0X4si-AEXaiDC_NkfBOEw=s64",
      "userId": "15404319687387405045"
     },
     "user_tz": -330
    },
    "id": "YcaQh4PNZje2",
    "outputId": "941f1a09-9f0e-4cd7-8416-d8c2e52bde34"
   },
   "outputs": [
    {
     "ename": "ValueError",
     "evalue": "ignored",
     "output_type": "error",
     "traceback": [
      "\u001b[0;31m---------------------------------------------------------------------------\u001b[0m",
      "\u001b[0;31mValueError\u001b[0m                                Traceback (most recent call last)",
      "\u001b[0;32m<ipython-input-61-100c0f9018bb>\u001b[0m in \u001b[0;36m<module>\u001b[0;34m()\u001b[0m\n\u001b[1;32m      1\u001b[0m \u001b[0mmydata\u001b[0m \u001b[0;34m=\u001b[0m \u001b[0;34m[\u001b[0m\u001b[0;34m\"Liquid\"\u001b[0m\u001b[0;34m,\u001b[0m\u001b[0;34m\"Cool\"\u001b[0m \u001b[0;34m,\u001b[0m\u001b[0;34m\"Hot\"\u001b[0m \u001b[0;34m,\u001b[0m\u001b[0;34m\"Solid\"\u001b[0m \u001b[0;34m,\u001b[0m\u001b[0;34m\"Gas\"\u001b[0m\u001b[0;34m]\u001b[0m\u001b[0;34m\u001b[0m\u001b[0;34m\u001b[0m\u001b[0m\n\u001b[0;32m----> 2\u001b[0;31m \u001b[0mmydata\u001b[0m\u001b[0;34m.\u001b[0m\u001b[0mremove\u001b[0m\u001b[0;34m(\u001b[0m\u001b[0;34m'd'\u001b[0m\u001b[0;34m)\u001b[0m\u001b[0;34m\u001b[0m\u001b[0;34m\u001b[0m\u001b[0m\n\u001b[0m",
      "\u001b[0;31mValueError\u001b[0m: list.remove(x): x not in list"
     ]
    }
   ],
   "source": [
    "mydata = [\"Liquid\",\"Cool\" ,\"Hot\" ,\"Solid\" ,\"Gas\"]\n",
    "mydata.remove('d')"
   ]
  },
  {
   "cell_type": "code",
   "execution_count": null,
   "metadata": {
    "id": "Uezc3NEOZjsQ"
   },
   "outputs": [],
   "source": []
  },
  {
   "cell_type": "markdown",
   "metadata": {
    "id": "b1rMuReVXCfy"
   },
   "source": [
    "<a name='sli'></a>\n",
    "# Single level Inheritance"
   ]
  },
  {
   "cell_type": "code",
   "execution_count": null,
   "metadata": {
    "id": "w_cdRU8RXUY9"
   },
   "outputs": [],
   "source": [
    "class A:\n",
    "    def feature1(self):\n",
    "        print('feature1 is successful executed')\n",
    "    def feature2(self):\n",
    "        print('feature2 is successful executed')\n",
    "\n",
    "class B(A):\n",
    "    def feature3(self):\n",
    "        print('feature3 is successful executed')\n",
    "    def feature4(self):\n",
    "        print('feature4 is successful executed')\n",
    "\n",
    "o1 = B()\n",
    "o1.feature1()"
   ]
  },
  {
   "cell_type": "markdown",
   "metadata": {
    "id": "-m-0SFEmXCcj"
   },
   "source": [
    "<a name='mli'></a>\n",
    "# Multi level Inheritance"
   ]
  },
  {
   "cell_type": "code",
   "execution_count": null,
   "metadata": {
    "id": "XMi0Vr70XVBv"
   },
   "outputs": [],
   "source": [
    "class A:\n",
    "    def feature1(self):\n",
    "        print('feature1 is successful executed')\n",
    "    def feature2(self):\n",
    "        print('feature2 is successful executed')\n",
    "\n",
    "class B(A):\n",
    "    def feature3(self):\n",
    "        print('feature3 is successful executed')\n",
    "    def feature4(self):\n",
    "        print('feature4 is successful executed')\n",
    "\n",
    "o1 = B()\n",
    "o1.feature1()"
   ]
  },
  {
   "cell_type": "markdown",
   "metadata": {
    "id": "08APakQyXCZp"
   },
   "source": [
    "<a name='mpi'></a>\n",
    "# Multiple Inheritance"
   ]
  },
  {
   "cell_type": "code",
   "execution_count": null,
   "metadata": {
    "id": "wU8-3u6-eBUR"
   },
   "outputs": [],
   "source": [
    "class A:\n",
    "    def feature1(self):\n",
    "        print('feature1 is successful executed')\n",
    "    def feature2(self):\n",
    "        print('feature2 is successful executed')\n",
    "\n",
    "class B():\n",
    "    def feature3(self):\n",
    "        print('feature3 is successful executed')\n",
    "    def feature4(self):\n",
    "        print('feature4 is successful executed')\n",
    "\n",
    "class C(A,B):\n",
    "    def feature5(self):\n",
    "        print('feature5 is successful executed')\n",
    "\n",
    "o1 = C()\n",
    "o1.feature1()\n",
    "o1.feature3()\n",
    "o1.feature5()"
   ]
  },
  {
   "cell_type": "markdown",
   "metadata": {
    "id": "9ufP0dQkdvl4"
   },
   "source": [
    "## Building a class inside a class\n",
    "\n",
    "We use class inside a  class when that class which is defined inside the class is unique to the outer class has \n",
    "no utility anywhere"
   ]
  },
  {
   "cell_type": "code",
   "execution_count": null,
   "metadata": {
    "id": "2qfroQ2MeBWn"
   },
   "outputs": [],
   "source": [
    "class Student:\n",
    "    def __init__(self ,name ,rollno):\n",
    "        self.name = name\n",
    "        self.rollno = rollno\n",
    "        self.lap = self.Laptop()\n",
    "    \n",
    "    def show(self):\n",
    "        print(self.name ,self.rollno)\n",
    "        print(self.lap.show())\n",
    "        \n",
    "    class Laptop:\n",
    "        def __init__(self):\n",
    "            self.brand = \"HP\"\n",
    "            self.cpu = \"i5\"\n",
    "            self.ram = 8\n",
    "        def show(self):\n",
    "            print(self.brand ,self.cpu ,self.ram)"
   ]
  },
  {
   "cell_type": "code",
   "execution_count": null,
   "metadata": {
    "id": "JVnsgjr7d3Nf"
   },
   "outputs": [],
   "source": [
    "s1 = Student('Navin',2)\n",
    "s2 = Student('Jenny',3)\n",
    "s1.show()"
   ]
  },
  {
   "cell_type": "markdown",
   "metadata": {
    "id": "lRVgfuYBd_dA"
   },
   "source": [
    "## Constructor in Inheritance in Python"
   ]
  },
  {
   "cell_type": "code",
   "execution_count": null,
   "metadata": {
    "id": "Vw4w1AK5d_vW"
   },
   "outputs": [],
   "source": [
    "class A:\n",
    "    def __init__(self):\n",
    "        print(\"in A init\")\n",
    "    def feature1(self):\n",
    "        print('feature1A is successful executed')\n",
    "    def feature2(self):\n",
    "        print('feature2 is successful executed')\n",
    "\n",
    "class B: \n",
    "    def __init__(self):\n",
    "        print(\"in B init\")\n",
    "    def feature1(self):\n",
    "        print('feature1B is successful executed')\n",
    "    def feature4(self):\n",
    "        print('feature4 is successful executed')\n",
    "\n",
    "class C(A,B):    # MRO (Method resolution order) will always execute from left to right \n",
    "    def __init__(self):\n",
    "        super().__init__()\n",
    "        print('in C init')\n",
    "\n",
    "\n",
    "o1 = C()\n",
    "o1.feature1()  ## Always execute from left to right \n",
    "#o1.feature3()\n",
    "#o1.feature5()"
   ]
  },
  {
   "cell_type": "markdown",
   "metadata": {
    "id": "rcZRaKU1ex2-"
   },
   "source": [
    "<a name='pm'></a>\n",
    "## Polymorphism (simply mean one thing which has mulitple forms) in python\n",
    "(loose coupling ,dependency injection , interface)\n",
    "\n",
    "The four way of implementing polymorphism is :\n",
    "\n",
    "1. Duck Typing \n",
    "2. Operator overriding and Operator Overloading \n",
    "3. Method Overloading \n",
    "4. Method Overriding \n",
    "\n",
    "\n"
   ]
  },
  {
   "cell_type": "code",
   "execution_count": null,
   "metadata": {
    "id": "CV-uZ7SgeyoJ"
   },
   "outputs": [],
   "source": []
  },
  {
   "cell_type": "markdown",
   "metadata": {
    "id": "o9UaQax6fvf-"
   },
   "source": [
    "<a name='du'></a>\n",
    "# Duck Typing\n",
    "Concept of duck typing is that If a animal is walking like a duck ,swimming like a duck , eating like a duck e.t.c then it is duck\n",
    "\n",
    "Similarily , if any class has method execute and it doing all the thing of a ide then it is a ide"
   ]
  },
  {
   "cell_type": "code",
   "execution_count": null,
   "metadata": {
    "id": "CiLnchdMezAH"
   },
   "outputs": [],
   "source": [
    "class PyCharm:\n",
    "    def execute(self):\n",
    "        print(\"compiling\")\n",
    "        print(\"running\")\n",
    "        \n",
    "class Laptop:\n",
    "    def code(self,ide):\n",
    "        ide.execute()\n",
    "        \n",
    "#lap1 = Laptop()\n",
    "# We cannot pass directly pycharm inside . we have to first create object of pycharm then we can pass that object\n",
    "ide = PyCharm()\n",
    "lap1 = Laptop()\n",
    "lap1.code(ide)"
   ]
  },
  {
   "cell_type": "markdown",
   "metadata": {
    "id": "ylzVjMF7f6Rl"
   },
   "source": [
    "<a name='op'></a>\n",
    "# Operator Overriding and Operator Overloading"
   ]
  },
  {
   "cell_type": "markdown",
   "metadata": {
    "id": "aiYvciUdhqub"
   },
   "source": [
    "Operator Overloading in python (Here the operator will remain same but operand are different means type of operands are different )"
   ]
  },
  {
   "cell_type": "code",
   "execution_count": null,
   "metadata": {
    "id": "fNxSmZaiezCS"
   },
   "outputs": [],
   "source": [
    "print(5+6)# 5,6 are operands and '+' is a operator \n",
    "# here we are trying to add two integers\n",
    "# one can also add an integer and a float\n",
    "print(5+6.2)\n",
    "# We can also adds two strings\n",
    "print('Hello'+' World')\n",
    "\n",
    "# But we cannot add an integer to a string\n",
    "a=5\n",
    "b='World'\n",
    "print(a+b)\n",
    "## Thus all the operators we are performing on different operands are pre determined "
   ]
  },
  {
   "cell_type": "markdown",
   "metadata": {
    "id": "nSacCSefhyat"
   },
   "source": [
    "# Whatever happens in python is done with the help of an object\n",
    "\n",
    "### We have different method for different operators and operator use something called magic method \n",
    "\n",
    "## Even one do not specify __add__,__str__ e.t.c. method when one define a function . These are there in a class method as a inbuilt method "
   ]
  },
  {
   "cell_type": "code",
   "execution_count": null,
   "metadata": {
    "colab": {
     "base_uri": "https://localhost:8080/"
    },
    "executionInfo": {
     "elapsed": 1094,
     "status": "ok",
     "timestamp": 1634545976939,
     "user": {
      "displayName": "Rajat Agarwal",
      "photoUrl": "https://lh3.googleusercontent.com/a-/AOh14GiqdQRoEJhWWghCgSMgU0X4si-AEXaiDC_NkfBOEw=s64",
      "userId": "15404319687387405045"
     },
     "user_tz": -330
    },
    "id": "mVyd6vB1h7CY",
    "outputId": "6b94bccd-b163-429a-f15b-aee5e42be7c4"
   },
   "outputs": [
    {
     "name": "stdout",
     "output_type": "stream",
     "text": [
      "24 28\n",
      "s2 wins\n"
     ]
    }
   ],
   "source": [
    "\n",
    "class Student:\n",
    "    def __init__(self ,m1 ,m2):\n",
    "        self.m1 = m1\n",
    "        self.m2 = m2\n",
    "    \n",
    "    def __add__(self,other):  ## here we are overloading the __add__ method \n",
    "        m1 = self.m1 + other.m1\n",
    "        m2 = self.m2 + other.m2\n",
    "        s3 = Student(m1,m2)\n",
    "        return s3\n",
    "    \n",
    "    def __gt__(self,other):\n",
    "        r1 = self.m1+self.m2\n",
    "        r2 = other.m1+other.m2\n",
    "        if r1>r2:\n",
    "            return True\n",
    "        else:\n",
    "            return False\n",
    "        \n",
    "s1 = Student(10,12)\n",
    "s2 = Student(14,16)\n",
    "s3 = s1+s2\n",
    "print(s3.m1,s3.m2)\n",
    "if s1>s2:\n",
    "    print(\"s1 wins\")\n",
    "else:\n",
    "    print(\"s2 wins\")"
   ]
  },
  {
   "cell_type": "code",
   "execution_count": null,
   "metadata": {
    "id": "K6eqQUBgiGje"
   },
   "outputs": [],
   "source": [
    "dir(s1) # all other variable then m1 and m2 are inbuilt method that are there when you define a class as inbuilt method"
   ]
  },
  {
   "cell_type": "code",
   "execution_count": null,
   "metadata": {
    "id": "H5OsDDzLiIlp"
   },
   "outputs": [],
   "source": [
    "a=9\n",
    "print(a.__str__())\n",
    "print(s1.__str__()) # here it is printing the object address"
   ]
  },
  {
   "cell_type": "markdown",
   "metadata": {
    "id": "dmZV9VdYiJcy"
   },
   "source": [
    "# Operator Overriding"
   ]
  },
  {
   "cell_type": "code",
   "execution_count": null,
   "metadata": {
    "id": "zgXRbcnViNv7"
   },
   "outputs": [],
   "source": [
    "class Student:\n",
    "    def __init__(self ,m1 ,m2):\n",
    "        self.m1 = m1\n",
    "        self.m2 = m2\n",
    "    def __str__(self):   ### here we are overridding the __str__ method\n",
    "        return self.m1 ,self.m2\n",
    "s1 = Student(12,10)\n",
    "print(s1.__str__()) # Thus here it is not printing the address of object but printing the value"
   ]
  },
  {
   "cell_type": "code",
   "execution_count": null,
   "metadata": {
    "id": "fMnLySAaiNzS"
   },
   "outputs": [],
   "source": [
    "class Student:\n",
    "    def __init__(self ,m1 ,m2):\n",
    "        self.m1 = m1\n",
    "        self.m2 = m2\n",
    "    def __str__(self):\n",
    "        return self.m1 ,self.m2\n",
    "s1 = Student(12,10)\n",
    "print(s1)  \n",
    "## the error is thorwn as the str method is not output the string"
   ]
  },
  {
   "cell_type": "code",
   "execution_count": null,
   "metadata": {
    "id": "fDzypVM5iOMz"
   },
   "outputs": [],
   "source": [
    "class Student:\n",
    "    def __init__(self ,m1 ,m2):\n",
    "        self.m1 = m1\n",
    "        self.m2 = m2\n",
    "    def __str__(self):\n",
    "        return \"{} {}\".format(self.m1 ,self.m2)\n",
    "s1 = Student(12,10)\n",
    "print(s1) ## But here it is not giving the error as str method is overriden with \n",
    "          ##the help of format and now we are getting as string "
   ]
  },
  {
   "cell_type": "markdown",
   "metadata": {
    "id": "FhoNDGx_gG-z"
   },
   "source": [
    "<a name='ml'></a>\n",
    "# Method Overloading"
   ]
  },
  {
   "cell_type": "code",
   "execution_count": null,
   "metadata": {
    "id": "iWWJqYIwezD7"
   },
   "outputs": [],
   "source": [
    "class Student:\n",
    "    def __init__(self ,m1 ,m2):\n",
    "        self.m1 = m1\n",
    "        self.m2 = m2\n",
    "    def sum(self,a,b,c):\n",
    "        s = a+b+c\n",
    "        return s\n",
    "\n",
    "s1 = Student(10,12)\n",
    "print(s1.sum(2,3))\n",
    "print(s1.sum(2,3,1))"
   ]
  },
  {
   "cell_type": "code",
   "execution_count": null,
   "metadata": {
    "id": "-fLPOVpliZI-"
   },
   "outputs": [],
   "source": [
    "class Student:\n",
    "    def __init__(self ,m1 ,m2):\n",
    "        self.m1 = m1\n",
    "        self.m2 = m2\n",
    "    def sum(self,a=None,b=None,c=None): ## This is method overloading i.e. overloading defined sum method\n",
    "        s = 0\n",
    "        if a!=None and b!=None and c!=None:\n",
    "            s = a+b+c\n",
    "        elif a!=None and b!=None:\n",
    "            s = a+b\n",
    "        else:\n",
    "            s = a\n",
    "        return s\n",
    "\n",
    "s1 = Student(10,12)\n",
    "print(s1.sum(2,3))\n",
    "print(s1.sum(2,3,1))"
   ]
  },
  {
   "cell_type": "markdown",
   "metadata": {
    "id": "0hKBar9EgPvz"
   },
   "source": [
    "<a name='mo'></a>\n",
    "# Method Overriding"
   ]
  },
  {
   "cell_type": "code",
   "execution_count": null,
   "metadata": {
    "id": "zI9MXnF-ezHN"
   },
   "outputs": [],
   "source": [
    "#this method of overriding is very famous in software industry\n",
    "class A:\n",
    "    def show(self):\n",
    "        print(\"in A show\")\n",
    "class B(A):   # here we are overriding method of B with on method of A\n",
    "    def show(self):\n",
    "        print(\"in B show\")\n",
    "a1 = B() \n",
    "a1.show()"
   ]
  },
  {
   "cell_type": "markdown",
   "metadata": {
    "id": "Z69z9Vb1Yv6w"
   },
   "source": [
    "<a name='abs'></a>\n",
    "# Abstraction (hiding unimportant data and revealing the only important one)\n"
   ]
  },
  {
   "cell_type": "code",
   "execution_count": null,
   "metadata": {
    "id": "oPemduFsezLU"
   },
   "outputs": [],
   "source": []
  },
  {
   "cell_type": "markdown",
   "metadata": {
    "id": "lfOMfJCyaRjE"
   },
   "source": [
    "# Encapsulation (hiding data for purpose of protection i.e. data enscription)"
   ]
  },
  {
   "cell_type": "code",
   "execution_count": null,
   "metadata": {
    "colab": {
     "base_uri": "https://localhost:8080/"
    },
    "executionInfo": {
     "elapsed": 1581,
     "status": "ok",
     "timestamp": 1634798386840,
     "user": {
      "displayName": "Rajat Agarwal",
      "photoUrl": "https://lh3.googleusercontent.com/a-/AOh14GiqdQRoEJhWWghCgSMgU0X4si-AEXaiDC_NkfBOEw=s64",
      "userId": "15404319687387405045"
     },
     "user_tz": -330
    },
    "id": "NUiouTXbk6DG",
    "outputId": "8b2ac754-1f1b-4cae-ee26-0640592ac3f9"
   },
   "outputs": [
    {
     "data": {
      "text/plain": [
       "0"
      ]
     },
     "execution_count": 6,
     "metadata": {},
     "output_type": "execute_result"
    }
   ],
   "source": [
    "3//4\n"
   ]
  },
  {
   "cell_type": "code",
   "execution_count": null,
   "metadata": {
    "colab": {
     "base_uri": "https://localhost:8080/"
    },
    "executionInfo": {
     "elapsed": 397,
     "status": "ok",
     "timestamp": 1634798416321,
     "user": {
      "displayName": "Rajat Agarwal",
      "photoUrl": "https://lh3.googleusercontent.com/a-/AOh14GiqdQRoEJhWWghCgSMgU0X4si-AEXaiDC_NkfBOEw=s64",
      "userId": "15404319687387405045"
     },
     "user_tz": -330
    },
    "id": "RHGxKmuLk9jK",
    "outputId": "11d4700c-5df8-41d2-ed22-27479f07aa6e"
   },
   "outputs": [
    {
     "data": {
      "text/plain": [
       "3"
      ]
     },
     "execution_count": 8,
     "metadata": {},
     "output_type": "execute_result"
    }
   ],
   "source": [
    "3%4"
   ]
  },
  {
   "cell_type": "code",
   "execution_count": null,
   "metadata": {
    "colab": {
     "base_uri": "https://localhost:8080/"
    },
    "executionInfo": {
     "elapsed": 420,
     "status": "ok",
     "timestamp": 1634798650469,
     "user": {
      "displayName": "Rajat Agarwal",
      "photoUrl": "https://lh3.googleusercontent.com/a-/AOh14GiqdQRoEJhWWghCgSMgU0X4si-AEXaiDC_NkfBOEw=s64",
      "userId": "15404319687387405045"
     },
     "user_tz": -330
    },
    "id": "WwIaJhhuezMo",
    "outputId": "7e628227-a858-4bae-91a2-7629d53d1f1e"
   },
   "outputs": [
    {
     "data": {
      "text/plain": [
       "{1, 2}"
      ]
     },
     "execution_count": 11,
     "metadata": {},
     "output_type": "execute_result"
    }
   ],
   "source": [
    "\n",
    "set([1,1,1,2])"
   ]
  },
  {
   "cell_type": "code",
   "execution_count": null,
   "metadata": {
    "colab": {
     "base_uri": "https://localhost:8080/"
    },
    "executionInfo": {
     "elapsed": 627,
     "status": "ok",
     "timestamp": 1634797672561,
     "user": {
      "displayName": "Rajat Agarwal",
      "photoUrl": "https://lh3.googleusercontent.com/a-/AOh14GiqdQRoEJhWWghCgSMgU0X4si-AEXaiDC_NkfBOEw=s64",
      "userId": "15404319687387405045"
     },
     "user_tz": -330
    },
    "id": "WTTntErrezO3",
    "outputId": "37db4317-1663-4e15-ee4e-83bfad27283b"
   },
   "outputs": [
    {
     "data": {
      "text/plain": [
       "{'A1': 102}"
      ]
     },
     "execution_count": 5,
     "metadata": {},
     "output_type": "execute_result"
    }
   ],
   "source": [
    "{'A1':101,'A1':102}"
   ]
  },
  {
   "cell_type": "code",
   "execution_count": null,
   "metadata": {
    "id": "uewaGSdKqYPZ"
   },
   "outputs": [],
   "source": []
  },
  {
   "cell_type": "markdown",
   "metadata": {
    "id": "X43yimE8qY4K"
   },
   "source": [
    "# Below are the code to check reserved in python"
   ]
  },
  {
   "cell_type": "code",
   "execution_count": null,
   "metadata": {
    "colab": {
     "base_uri": "https://localhost:8080/"
    },
    "executionInfo": {
     "elapsed": 517,
     "status": "ok",
     "timestamp": 1634799802647,
     "user": {
      "displayName": "Rajat Agarwal",
      "photoUrl": "https://lh3.googleusercontent.com/a-/AOh14GiqdQRoEJhWWghCgSMgU0X4si-AEXaiDC_NkfBOEw=s64",
      "userId": "15404319687387405045"
     },
     "user_tz": -330
    },
    "id": "NiEkHlDWmQrh",
    "outputId": "b3fb765d-32ed-4c1d-e671-883ae3b839b6"
   },
   "outputs": [
    {
     "data": {
      "text/plain": [
       "['False',\n",
       " 'None',\n",
       " 'True',\n",
       " 'and',\n",
       " 'as',\n",
       " 'assert',\n",
       " 'async',\n",
       " 'await',\n",
       " 'break',\n",
       " 'class',\n",
       " 'continue',\n",
       " 'def',\n",
       " 'del',\n",
       " 'elif',\n",
       " 'else',\n",
       " 'except',\n",
       " 'finally',\n",
       " 'for',\n",
       " 'from',\n",
       " 'global',\n",
       " 'if',\n",
       " 'import',\n",
       " 'in',\n",
       " 'is',\n",
       " 'lambda',\n",
       " 'nonlocal',\n",
       " 'not',\n",
       " 'or',\n",
       " 'pass',\n",
       " 'raise',\n",
       " 'return',\n",
       " 'try',\n",
       " 'while',\n",
       " 'with',\n",
       " 'yield']"
      ]
     },
     "execution_count": 16,
     "metadata": {},
     "output_type": "execute_result"
    }
   ],
   "source": [
    "import keyword\n",
    "keyword.kwlist\n"
   ]
  },
  {
   "cell_type": "code",
   "execution_count": null,
   "metadata": {
    "id": "SJqFkMGxmQue"
   },
   "outputs": [],
   "source": []
  },
  {
   "cell_type": "code",
   "execution_count": null,
   "metadata": {
    "id": "YBFshjbtmQxt"
   },
   "outputs": [],
   "source": []
  },
  {
   "cell_type": "code",
   "execution_count": null,
   "metadata": {
    "id": "Cv_NqCoOmQ0S"
   },
   "outputs": [],
   "source": []
  },
  {
   "cell_type": "code",
   "execution_count": null,
   "metadata": {
    "id": "-xc4bDtrmQ3S"
   },
   "outputs": [],
   "source": []
  },
  {
   "cell_type": "code",
   "execution_count": null,
   "metadata": {
    "id": "er9W_uuLmQ67"
   },
   "outputs": [],
   "source": []
  },
  {
   "cell_type": "code",
   "execution_count": null,
   "metadata": {
    "id": "DxRLWenjmQ9v"
   },
   "outputs": [],
   "source": []
  },
  {
   "cell_type": "markdown",
   "metadata": {
    "id": "Lw0DeTOt5kAJ"
   },
   "source": [
    "<a name=\"12\"></a>\n",
    "# SQL in Python\n",
    "1. Difference between delete and truncate in python\n"
   ]
  },
  {
   "cell_type": "code",
   "execution_count": null,
   "metadata": {
    "id": "YMYkzH7NNgK_"
   },
   "outputs": [],
   "source": [
    "pip install mysql-connector-python"
   ]
  },
  {
   "cell_type": "markdown",
   "metadata": {
    "id": "4B8tKdnoFyZj"
   },
   "source": [
    "<a name='dbc'></a>\n",
    "# Connect to db2 database on cloud using  python"
   ]
  },
  {
   "cell_type": "markdown",
   "metadata": {
    "id": "qZcUo1hPG4wO"
   },
   "source": [
    "# Import the ibm_db Python library\n",
    "The ibm_db [API](https://pypi.org/project/ibm-db/) provides a variety of useful Python functions for accessing and manipulating data in an IBM® data server database, including functions for connecting to a database, preparing and issuing SQL statements, fetching rows from result sets, calling stored procedures, committing and rolling back transactions, handling errors, and retrieving metadata.\n",
    "\n",
    "We first import the ibm_db library into our Python Application\n",
    "\n",
    "Execute the following cell by clicking within it and then press Shift and Enter keys simultaneously"
   ]
  },
  {
   "cell_type": "code",
   "execution_count": null,
   "metadata": {
    "id": "awY7kV52IJiv"
   },
   "outputs": [],
   "source": [
    "import ibm_db"
   ]
  },
  {
   "cell_type": "markdown",
   "metadata": {
    "id": "4ENURAdCMHRJ"
   },
   "source": [
    "#Identify the database connection credentials\n",
    "Connecting to dashDB or DB2 database requires the following information:\n",
    "\n",
    "* Driver Name\n",
    "* Database name\n",
    "* Host DNS name or IP address\n",
    "* Host port\n",
    "* Connection protocol\n",
    "* User ID (or username)\n",
    "* User Password\n",
    "\n"
   ]
  },
  {
   "cell_type": "code",
   "execution_count": null,
   "metadata": {
    "id": "WfMIfMISMa78"
   },
   "outputs": [],
   "source": [
    "#Replace the placeholder values with your actual Db2 hostname, username, and password:\n",
    "dsn_hostname = \"YourDb2Hostname\" # e.g.: \"54a2f15b-5c0f-46df-8954-7e38e612c2bd.c1ogj3sd0tgtu0lqde00.databases.appdomain.cloud\"\n",
    "dsn_uid = \"YourDb2Username\"        # e.g. \"abc12345\"\n",
    "dsn_pwd = \"YoueDb2Password\"      # e.g. \"7dBZ3wWt9XN6$o0J\"\n",
    "\n",
    "dsn_driver = \"{IBM DB2 ODBC DRIVER}\"\n",
    "dsn_database = \"BLUDB\"            # e.g. \"BLUDB\"\n",
    "dsn_port = \"YourPort\"                # e.g. \"32733\" \n",
    "dsn_protocol = \"TCPIP\"            # i.e. \"TCPIP\"\n",
    "dsn_security = \"SSL\"              #i.e. \"SSL\""
   ]
  },
  {
   "cell_type": "markdown",
   "metadata": {
    "id": "OlCUIszbMerM"
   },
   "source": [
    "\n",
    "# Create the DB2 database connection\n",
    "Ibm_db API uses the IBM Data Server Driver for ODBC and CLI APIs to connect to IBM DB2 and Informix.\n",
    "\n",
    "Lets build the dsn connection string using the credentials you entered above"
   ]
  },
  {
   "cell_type": "code",
   "execution_count": null,
   "metadata": {
    "id": "UZiEVlmKMzlu"
   },
   "outputs": [],
   "source": [
    "#DO NOT MODIFY THIS CELL. Just RUN it with Shift + Enter\n",
    "#Create the dsn connection string\n",
    "dsn = (\n",
    "    \"DRIVER={0};\"\n",
    "    \"DATABASE={1};\"\n",
    "    \"HOSTNAME={2};\"\n",
    "    \"PORT={3};\"\n",
    "    \"PROTOCOL={4};\"\n",
    "    \"UID={5};\"\n",
    "    \"PWD={6};\"\n",
    "    \"SECURITY={7};\").format(dsn_driver, dsn_database, dsn_hostname, dsn_port, dsn_protocol, dsn_uid, dsn_pwd,dsn_security)\n",
    "\n",
    "#print the connection string to check correct values are specified\n",
    "print(dsn)"
   ]
  },
  {
   "cell_type": "markdown",
   "metadata": {
    "id": "3lDYcP46M9W7"
   },
   "source": [
    "\n",
    "Now establish the connection to the database"
   ]
  },
  {
   "cell_type": "code",
   "execution_count": null,
   "metadata": {
    "id": "WnIdlHH3M_Uo"
   },
   "outputs": [],
   "source": [
    "#DO NOT MODIFY THIS CELL. Just RUN it with Shift + Enter\n",
    "#Create database connection\n",
    "\n",
    "try:\n",
    "    conn = ibm_db.connect(dsn, \"\", \"\")\n",
    "    print (\"Connected to database: \", dsn_database, \"as user: \", dsn_uid, \"on host: \", dsn_hostname)\n",
    "\n",
    "except:\n",
    "    print (\"Unable to connect: \", ibm_db.conn_errormsg() )"
   ]
  },
  {
   "cell_type": "markdown",
   "metadata": {
    "id": "ANm6yOR1NDiJ"
   },
   "source": []
  },
  {
   "cell_type": "code",
   "execution_count": null,
   "metadata": {
    "id": "lZqfIkbGNJh7"
   },
   "outputs": [],
   "source": [
    "#Retrieve Metadata for the Database Server\n",
    "server = ibm_db.server_info(conn)\n",
    "\n",
    "print (\"DBMS_NAME: \", server.DBMS_NAME)\n",
    "print (\"DBMS_VER:  \", server.DBMS_VER)\n",
    "print (\"DB_NAME:   \", server.DB_NAME)"
   ]
  },
  {
   "cell_type": "code",
   "execution_count": null,
   "metadata": {
    "id": "LMBSxhanNKMW"
   },
   "outputs": [],
   "source": [
    "#Retrieve Metadata for the Database Client / Driver\n",
    "client = ibm_db.client_info(conn)\n",
    "\n",
    "print (\"DRIVER_NAME:          \", client.DRIVER_NAME) \n",
    "print (\"DRIVER_VER:           \", client.DRIVER_VER)\n",
    "print (\"DATA_SOURCE_NAME:     \", client.DATA_SOURCE_NAME)\n",
    "print (\"DRIVER_ODBC_VER:      \", client.DRIVER_ODBC_VER)\n",
    "print (\"ODBC_VER:             \", client.ODBC_VER)\n",
    "print (\"ODBC_SQL_CONFORMANCE: \", client.ODBC_SQL_CONFORMANCE)\n",
    "print (\"APPL_CODEPAGE:        \", client.APPL_CODEPAGE)\n",
    "print (\"CONN_CODEPAGE:        \", client.CONN_CODEPAGE)\n"
   ]
  },
  {
   "cell_type": "markdown",
   "metadata": {
    "id": "2IBubJp0NOJu"
   },
   "source": [
    "# Close the Connection\n",
    "\n",
    "We free all resources by closing the connection. Remember that it is always important to close connections so that we can avoid unused connections taking up resources"
   ]
  },
  {
   "cell_type": "code",
   "execution_count": null,
   "metadata": {
    "id": "flGoEUYBNXTf"
   },
   "outputs": [],
   "source": [
    "ibm_db.close(conn)"
   ]
  },
  {
   "cell_type": "code",
   "execution_count": null,
   "metadata": {
    "id": "MFsfW2XVcyik"
   },
   "outputs": [],
   "source": [
    " mydata = [\"Liquid\",\"Cool\" ,\"Hot\" ,\"Solid\" ,\"Gas\"]\n",
    "   # for entry in mydata:\n",
    "    #    if len(entry)>4:\n",
    "     #       mydata.remove(entry[5])"
   ]
  },
  {
   "cell_type": "code",
   "execution_count": null,
   "metadata": {
    "colab": {
     "base_uri": "https://localhost:8080/"
    },
    "executionInfo": {
     "elapsed": 8,
     "status": "ok",
     "timestamp": 1634547361430,
     "user": {
      "displayName": "Rajat Agarwal",
      "photoUrl": "https://lh3.googleusercontent.com/a-/AOh14GiqdQRoEJhWWghCgSMgU0X4si-AEXaiDC_NkfBOEw=s64",
      "userId": "15404319687387405045"
     },
     "user_tz": -330
    },
    "id": "WiPdd3Wdcyla",
    "outputId": "2e2aa761-af64-4095-ec2a-28a8dc0f18ab"
   },
   "outputs": [
    {
     "data": {
      "text/plain": [
       "['Liquid', 'Cool', 'Solid', 'Gas']"
      ]
     },
     "execution_count": 60,
     "metadata": {},
     "output_type": "execute_result"
    }
   ],
   "source": [
    "mydata.remove('Hot')\n",
    "mydata"
   ]
  },
  {
   "cell_type": "code",
   "execution_count": null,
   "metadata": {
    "id": "PfALpODqcyoB"
   },
   "outputs": [],
   "source": []
  },
  {
   "cell_type": "code",
   "execution_count": null,
   "metadata": {
    "id": "g15njz5JcyqJ"
   },
   "outputs": [],
   "source": []
  },
  {
   "cell_type": "code",
   "execution_count": null,
   "metadata": {
    "id": "YUzlZKl2cytp"
   },
   "outputs": [],
   "source": []
  },
  {
   "cell_type": "code",
   "execution_count": null,
   "metadata": {
    "colab": {
     "base_uri": "https://localhost:8080/",
     "height": 305
    },
    "executionInfo": {
     "elapsed": 37,
     "status": "error",
     "timestamp": 1643516810969,
     "user": {
      "displayName": "Rajat Agarwal",
      "photoUrl": "https://lh3.googleusercontent.com/a-/AOh14GiqdQRoEJhWWghCgSMgU0X4si-AEXaiDC_NkfBOEw=s64",
      "userId": "15404319687387405045"
     },
     "user_tz": -330
    },
    "id": "cAFxz7mq5jXM",
    "outputId": "5be50741-191f-423a-fb7b-32f48a9ca9ec"
   },
   "outputs": [
    {
     "ename": "ModuleNotFoundError",
     "evalue": "ignored",
     "output_type": "error",
     "traceback": [
      "\u001b[0;31m---------------------------------------------------------------------------\u001b[0m",
      "\u001b[0;31mModuleNotFoundError\u001b[0m                       Traceback (most recent call last)",
      "\u001b[0;32m<ipython-input-1-fe3bb08c8a05>\u001b[0m in \u001b[0;36m<module>\u001b[0;34m()\u001b[0m\n\u001b[0;32m----> 1\u001b[0;31m \u001b[0;32mimport\u001b[0m \u001b[0mibm_db\u001b[0m\u001b[0;34m\u001b[0m\u001b[0;34m\u001b[0m\u001b[0m\n\u001b[0m",
      "\u001b[0;31mModuleNotFoundError\u001b[0m: No module named 'ibm_db'",
      "",
      "\u001b[0;31m---------------------------------------------------------------------------\u001b[0;32m\nNOTE: If your import is failing due to a missing package, you can\nmanually install dependencies using either !pip or !apt.\n\nTo view examples of installing some common dependencies, click the\n\"Open Examples\" button below.\n\u001b[0;31m---------------------------------------------------------------------------\u001b[0m\n"
     ]
    }
   ],
   "source": [
    "import ibm_db"
   ]
  },
  {
   "cell_type": "code",
   "execution_count": null,
   "metadata": {
    "id": "ijtg9sRf82X3"
   },
   "outputs": [],
   "source": []
  },
  {
   "cell_type": "markdown",
   "metadata": {
    "id": "HOSj86_IozcM"
   },
   "source": [
    "<a name='ps'></a>\n",
    "# Pyspark"
   ]
  },
  {
   "cell_type": "code",
   "execution_count": null,
   "metadata": {
    "id": "MfHqqPRKowOg"
   },
   "outputs": [],
   "source": []
  },
  {
   "cell_type": "markdown",
   "metadata": {
    "id": "qXVw78psoxSR"
   },
   "source": [
    "<a name='hdfs'></a>\n",
    "# Hadoop Big Data Management"
   ]
  },
  {
   "cell_type": "code",
   "execution_count": null,
   "metadata": {
    "id": "hp1_jNGCowRY"
   },
   "outputs": [],
   "source": []
  },
  {
   "cell_type": "code",
   "execution_count": null,
   "metadata": {
    "id": "iDPPmQm5owbJ"
   },
   "outputs": [],
   "source": []
  },
  {
   "cell_type": "markdown",
   "metadata": {
    "id": "fJymImonD0E9"
   },
   "source": [
    "<a name='env'></a>\n",
    "# Steps to create environment in conda prompt"
   ]
  },
  {
   "cell_type": "markdown",
   "metadata": {
    "id": "5ib6IHQGD7R1"
   },
   "source": [
    "1. conda create -n environment_name\n",
    "2. conda activate environment_name\n",
    "3. conda install jupyter notebook \n",
    "4. pip list (To show all the installed packages )\n",
    "5. exit()\n",
    "\n",
    "\n",
    "\n"
   ]
  },
  {
   "cell_type": "markdown",
   "metadata": {
    "id": "gCu-O1I41-JF"
   },
   "source": [
    "* where python (this command is used to get the all location where we have python in our system )\n",
    "* conda update -n base -c defaults conda (To update to latest version of conda)"
   ]
  },
  {
   "cell_type": "code",
   "execution_count": null,
   "metadata": {
    "id": "TJfMO_9118_9"
   },
   "outputs": [],
   "source": []
  },
  {
   "cell_type": "markdown",
   "metadata": {
    "id": "m0crE3I5_KfS"
   },
   "source": [
    "<a name='git'></a>\n",
    "# GitBash command to import repo to local "
   ]
  },
  {
   "cell_type": "markdown",
   "metadata": {
    "id": "aIkMe-Fa_ZnF"
   },
   "source": [
    "# Commands in sequence are as follows :- \n",
    "1. git pull upstream Br_release_01(branch name)\n",
    "2. git add. (for adding all the changes done )\n",
    "3. git commit -m \"[TicketNo:] AR000J8D1D [Description:] copy to local issue resolved [Binary Source:]NA\"   (changes permanent add ho jaye local me )\n",
    "4. git status (To check after adding all changes now ,is the file updated or not )\n",
    "5. git push Br_release_01(branch name )(To import repo to local )\n",
    "6. git branch (To see in which branch you are)\n",
    "7. git checkout branch_name(To change from current branch to branch_name)\n",
    "8. git remote -v (To see from where you are cloning)\n",
    "9. git remote add upstream --ssh of parents branc (add parent repo as upstream)\n",
    "10. cd ../../.. (to go backward)\n",
    "11. cd folder_name(to go forward)\n",
    "12. press tab to get the folder automatically \n"
   ]
  },
  {
   "cell_type": "markdown",
   "metadata": {
    "id": "HGCh9Bdp2TJB"
   },
   "source": [
    "<a name='pycharm'></a>\n",
    "# Basic pycharm command \n",
    "\n",
    "1. Right mouse click at the left of code link to create break point\n",
    "2. F8 (after pressing these key all the code will execute line by line after the breakpoint)\n",
    "3. F9 (It will execute code from one break point to other break point )\n",
    "4. File -> Settings -> Editor -> Code Style -> hard wrap 79 press ok \n",
    "(above command is used to put a vertical line in editor to keep a check that our each line of code will not use greater than 79 words )\n",
    "5. File -> Settings -> Project -> Python Environment -> you can choose from list a python interpreter\n",
    "6. Ctrl +left moues key (To see the documentation of the  module )\n",
    "7. Alt+ left arrow (To go a back step sequentially )\n",
    "8. F3 to open the search bar in the program code\n",
    "\n"
   ]
  },
  {
   "cell_type": "markdown",
   "metadata": {
    "id": "XSybcrPJSnLP"
   },
   "source": [
    "<a name='inff'></a>\n",
    "# Use of if name  main is that suppose in a python you write several function and you want some function or part of code to run  in only that file not want that to be import to other file or working directory then in such case one can use if name main and write all the code inside to run it only on the same python file "
   ]
  },
  {
   "cell_type": "markdown",
   "metadata": {
    "id": "Hp-rdhZITf04"
   },
   "source": [
    "<a name='tryex'></a>\n",
    "# error handling and runnning the wole notebook \n"
   ]
  },
  {
   "cell_type": "markdown",
   "metadata": {
    "id": "IE3qkPUQSheh"
   },
   "source": [
    "Use of try and exept to run the whole code also if there is error \n",
    "in code](#tryex)\n"
   ]
  },
  {
   "cell_type": "code",
   "execution_count": null,
   "metadata": {
    "id": "lj_wjyAPSg47"
   },
   "outputs": [],
   "source": [
    "# Below I have learned how to handle any code error and also after error one can run the whole program \n",
    "\n",
    "print('Hello World')\n",
    "try:\n",
    "  s=4\n",
    "  d='a'\n",
    "  z = s+d\n",
    "except Exception as e :\n",
    "  print(e)\n",
    "print('Program finished here')"
   ]
  },
  {
   "cell_type": "markdown",
   "metadata": {
    "id": "hyJtsYznRLct"
   },
   "source": [
    "<a name='cmd'></a>\n",
    "# Command Prompt Basic Command "
   ]
  },
  {
   "cell_type": "markdown",
   "metadata": {
    "id": "SeZIeyF-RVRg"
   },
   "source": [
    "# Below are the command for the cmd :-\n",
    "1. dir(To show directory in the folder)\n",
    "2. cd ../../(to go 2 time back in the folder)\n",
    "3. cd path_name (To go the given path name in directory)"
   ]
  },
  {
   "cell_type": "code",
   "execution_count": null,
   "metadata": {
    "id": "tJ6zS9EGqQhW"
   },
   "outputs": [],
   "source": []
  },
  {
   "cell_type": "code",
   "execution_count": null,
   "metadata": {
    "id": "KBfv6sqCqQms"
   },
   "outputs": [],
   "source": []
  },
  {
   "cell_type": "code",
   "execution_count": null,
   "metadata": {
    "id": "QbKzwY-6qQqH"
   },
   "outputs": [],
   "source": []
  },
  {
   "cell_type": "code",
   "execution_count": null,
   "metadata": {
    "id": "Zl1HZIc0qQuX"
   },
   "outputs": [],
   "source": []
  },
  {
   "cell_type": "code",
   "execution_count": null,
   "metadata": {
    "id": "s4P8uq5NqQ0J"
   },
   "outputs": [],
   "source": []
  },
  {
   "cell_type": "code",
   "execution_count": null,
   "metadata": {
    "id": "QPNYmPKFqQ4o"
   },
   "outputs": [],
   "source": []
  },
  {
   "cell_type": "code",
   "execution_count": null,
   "metadata": {
    "id": "ei3W-I4IqQ7d"
   },
   "outputs": [],
   "source": []
  },
  {
   "cell_type": "code",
   "execution_count": null,
   "metadata": {
    "id": "DX_E8ypCqQ-w"
   },
   "outputs": [],
   "source": []
  },
  {
   "cell_type": "code",
   "execution_count": null,
   "metadata": {
    "id": "9k0gI1QsqRB_"
   },
   "outputs": [],
   "source": []
  },
  {
   "cell_type": "code",
   "execution_count": null,
   "metadata": {
    "id": "3LzteQTLqRE6"
   },
   "outputs": [],
   "source": []
  },
  {
   "cell_type": "code",
   "execution_count": null,
   "metadata": {
    "id": "c47kvNJuqRH4"
   },
   "outputs": [],
   "source": []
  },
  {
   "cell_type": "code",
   "execution_count": null,
   "metadata": {
    "id": "zJalV11bqRKp"
   },
   "outputs": [],
   "source": []
  },
  {
   "cell_type": "code",
   "execution_count": null,
   "metadata": {
    "id": "kEeGq7-kqROb"
   },
   "outputs": [],
   "source": []
  },
  {
   "cell_type": "code",
   "execution_count": null,
   "metadata": {
    "id": "fN2i4lqLqRRc"
   },
   "outputs": [],
   "source": []
  },
  {
   "cell_type": "code",
   "execution_count": null,
   "metadata": {
    "id": "3P8epSawqRUh"
   },
   "outputs": [],
   "source": []
  },
  {
   "cell_type": "code",
   "execution_count": null,
   "metadata": {
    "id": "YKvIUJb-qRYY"
   },
   "outputs": [],
   "source": []
  },
  {
   "cell_type": "code",
   "execution_count": null,
   "metadata": {
    "id": "zdG8oslnqRbn"
   },
   "outputs": [],
   "source": []
  },
  {
   "cell_type": "markdown",
   "metadata": {
    "id": "cjmCyux8xDvP"
   },
   "source": [
    "<a name=\"another_cell\"></a>\n",
    "# Data Visualization "
   ]
  },
  {
   "cell_type": "code",
   "execution_count": null,
   "metadata": {
    "colab": {
     "base_uri": "https://localhost:8080/",
     "height": 215
    },
    "executionInfo": {
     "elapsed": 789,
     "status": "ok",
     "timestamp": 1641795928183,
     "user": {
      "displayName": "Rajat Agarwal",
      "photoUrl": "https://lh3.googleusercontent.com/a-/AOh14GiqdQRoEJhWWghCgSMgU0X4si-AEXaiDC_NkfBOEw=s64",
      "userId": "15404319687387405045"
     },
     "user_tz": -330
    },
    "id": "cCbrKczQB9Fd",
    "outputId": "1a3e81b7-c806-4998-f41f-6412c2106c22"
   },
   "outputs": [
    {
     "data": {
      "text/html": [
       "\n",
       "  <div id=\"df-fdefb536-cab8-4b86-afb1-bf54cac6fa15\">\n",
       "    <div class=\"colab-df-container\">\n",
       "      <div>\n",
       "<style scoped>\n",
       "    .dataframe tbody tr th:only-of-type {\n",
       "        vertical-align: middle;\n",
       "    }\n",
       "\n",
       "    .dataframe tbody tr th {\n",
       "        vertical-align: top;\n",
       "    }\n",
       "\n",
       "    .dataframe thead th {\n",
       "        text-align: right;\n",
       "    }\n",
       "</style>\n",
       "<table border=\"1\" class=\"dataframe\">\n",
       "  <thead>\n",
       "    <tr style=\"text-align: right;\">\n",
       "      <th></th>\n",
       "      <th>country</th>\n",
       "      <th>child_mort</th>\n",
       "      <th>exports</th>\n",
       "      <th>health</th>\n",
       "      <th>imports</th>\n",
       "      <th>income</th>\n",
       "      <th>inflation</th>\n",
       "      <th>life_expec</th>\n",
       "      <th>total_fer</th>\n",
       "      <th>gdpp</th>\n",
       "    </tr>\n",
       "  </thead>\n",
       "  <tbody>\n",
       "    <tr>\n",
       "      <th>0</th>\n",
       "      <td>Afghanistan</td>\n",
       "      <td>90.2</td>\n",
       "      <td>10.0</td>\n",
       "      <td>7.58</td>\n",
       "      <td>44.9</td>\n",
       "      <td>1610</td>\n",
       "      <td>9.44</td>\n",
       "      <td>56.2</td>\n",
       "      <td>5.82</td>\n",
       "      <td>553</td>\n",
       "    </tr>\n",
       "    <tr>\n",
       "      <th>1</th>\n",
       "      <td>Albania</td>\n",
       "      <td>16.6</td>\n",
       "      <td>28.0</td>\n",
       "      <td>6.55</td>\n",
       "      <td>48.6</td>\n",
       "      <td>9930</td>\n",
       "      <td>4.49</td>\n",
       "      <td>76.3</td>\n",
       "      <td>1.65</td>\n",
       "      <td>4090</td>\n",
       "    </tr>\n",
       "    <tr>\n",
       "      <th>2</th>\n",
       "      <td>Algeria</td>\n",
       "      <td>27.3</td>\n",
       "      <td>38.4</td>\n",
       "      <td>4.17</td>\n",
       "      <td>31.4</td>\n",
       "      <td>12900</td>\n",
       "      <td>16.10</td>\n",
       "      <td>76.5</td>\n",
       "      <td>2.89</td>\n",
       "      <td>4460</td>\n",
       "    </tr>\n",
       "    <tr>\n",
       "      <th>3</th>\n",
       "      <td>Angola</td>\n",
       "      <td>119.0</td>\n",
       "      <td>62.3</td>\n",
       "      <td>2.85</td>\n",
       "      <td>42.9</td>\n",
       "      <td>5900</td>\n",
       "      <td>22.40</td>\n",
       "      <td>60.1</td>\n",
       "      <td>6.16</td>\n",
       "      <td>3530</td>\n",
       "    </tr>\n",
       "    <tr>\n",
       "      <th>4</th>\n",
       "      <td>Antigua and Barbuda</td>\n",
       "      <td>10.3</td>\n",
       "      <td>45.5</td>\n",
       "      <td>6.03</td>\n",
       "      <td>58.9</td>\n",
       "      <td>19100</td>\n",
       "      <td>1.44</td>\n",
       "      <td>76.8</td>\n",
       "      <td>2.13</td>\n",
       "      <td>12200</td>\n",
       "    </tr>\n",
       "  </tbody>\n",
       "</table>\n",
       "</div>\n",
       "      <button class=\"colab-df-convert\" onclick=\"convertToInteractive('df-fdefb536-cab8-4b86-afb1-bf54cac6fa15')\"\n",
       "              title=\"Convert this dataframe to an interactive table.\"\n",
       "              style=\"display:none;\">\n",
       "        \n",
       "  <svg xmlns=\"http://www.w3.org/2000/svg\" height=\"24px\"viewBox=\"0 0 24 24\"\n",
       "       width=\"24px\">\n",
       "    <path d=\"M0 0h24v24H0V0z\" fill=\"none\"/>\n",
       "    <path d=\"M18.56 5.44l.94 2.06.94-2.06 2.06-.94-2.06-.94-.94-2.06-.94 2.06-2.06.94zm-11 1L8.5 8.5l.94-2.06 2.06-.94-2.06-.94L8.5 2.5l-.94 2.06-2.06.94zm10 10l.94 2.06.94-2.06 2.06-.94-2.06-.94-.94-2.06-.94 2.06-2.06.94z\"/><path d=\"M17.41 7.96l-1.37-1.37c-.4-.4-.92-.59-1.43-.59-.52 0-1.04.2-1.43.59L10.3 9.45l-7.72 7.72c-.78.78-.78 2.05 0 2.83L4 21.41c.39.39.9.59 1.41.59.51 0 1.02-.2 1.41-.59l7.78-7.78 2.81-2.81c.8-.78.8-2.07 0-2.86zM5.41 20L4 18.59l7.72-7.72 1.47 1.35L5.41 20z\"/>\n",
       "  </svg>\n",
       "      </button>\n",
       "      \n",
       "  <style>\n",
       "    .colab-df-container {\n",
       "      display:flex;\n",
       "      flex-wrap:wrap;\n",
       "      gap: 12px;\n",
       "    }\n",
       "\n",
       "    .colab-df-convert {\n",
       "      background-color: #E8F0FE;\n",
       "      border: none;\n",
       "      border-radius: 50%;\n",
       "      cursor: pointer;\n",
       "      display: none;\n",
       "      fill: #1967D2;\n",
       "      height: 32px;\n",
       "      padding: 0 0 0 0;\n",
       "      width: 32px;\n",
       "    }\n",
       "\n",
       "    .colab-df-convert:hover {\n",
       "      background-color: #E2EBFA;\n",
       "      box-shadow: 0px 1px 2px rgba(60, 64, 67, 0.3), 0px 1px 3px 1px rgba(60, 64, 67, 0.15);\n",
       "      fill: #174EA6;\n",
       "    }\n",
       "\n",
       "    [theme=dark] .colab-df-convert {\n",
       "      background-color: #3B4455;\n",
       "      fill: #D2E3FC;\n",
       "    }\n",
       "\n",
       "    [theme=dark] .colab-df-convert:hover {\n",
       "      background-color: #434B5C;\n",
       "      box-shadow: 0px 1px 3px 1px rgba(0, 0, 0, 0.15);\n",
       "      filter: drop-shadow(0px 1px 2px rgba(0, 0, 0, 0.3));\n",
       "      fill: #FFFFFF;\n",
       "    }\n",
       "  </style>\n",
       "\n",
       "      <script>\n",
       "        const buttonEl =\n",
       "          document.querySelector('#df-fdefb536-cab8-4b86-afb1-bf54cac6fa15 button.colab-df-convert');\n",
       "        buttonEl.style.display =\n",
       "          google.colab.kernel.accessAllowed ? 'block' : 'none';\n",
       "\n",
       "        async function convertToInteractive(key) {\n",
       "          const element = document.querySelector('#df-fdefb536-cab8-4b86-afb1-bf54cac6fa15');\n",
       "          const dataTable =\n",
       "            await google.colab.kernel.invokeFunction('convertToInteractive',\n",
       "                                                     [key], {});\n",
       "          if (!dataTable) return;\n",
       "\n",
       "          const docLinkHtml = 'Like what you see? Visit the ' +\n",
       "            '<a target=\"_blank\" href=https://colab.research.google.com/notebooks/data_table.ipynb>data table notebook</a>'\n",
       "            + ' to learn more about interactive tables.';\n",
       "          element.innerHTML = '';\n",
       "          dataTable['output_type'] = 'display_data';\n",
       "          await google.colab.output.renderOutput(dataTable, element);\n",
       "          const docLink = document.createElement('div');\n",
       "          docLink.innerHTML = docLinkHtml;\n",
       "          element.appendChild(docLink);\n",
       "        }\n",
       "      </script>\n",
       "    </div>\n",
       "  </div>\n",
       "  "
      ],
      "text/plain": [
       "               country  child_mort  exports  ...  life_expec  total_fer   gdpp\n",
       "0          Afghanistan        90.2     10.0  ...        56.2       5.82    553\n",
       "1              Albania        16.6     28.0  ...        76.3       1.65   4090\n",
       "2              Algeria        27.3     38.4  ...        76.5       2.89   4460\n",
       "3               Angola       119.0     62.3  ...        60.1       6.16   3530\n",
       "4  Antigua and Barbuda        10.3     45.5  ...        76.8       2.13  12200\n",
       "\n",
       "[5 rows x 10 columns]"
      ]
     },
     "execution_count": 1,
     "metadata": {},
     "output_type": "execute_result"
    }
   ],
   "source": [
    "import pandas as pd \n",
    "import matplotlib.pyplot as plt\n",
    "\n",
    "data = pd.read_csv('/content/drive/MyDrive/Corporate/Python Colab Notebook /Copy of Country-data.csv')\n",
    "data.head()"
   ]
  },
  {
   "cell_type": "markdown",
   "metadata": {
    "id": "L95_BevWCFmn"
   },
   "source": [
    "#### Checking variable visually after and before transformation in one plot"
   ]
  },
  {
   "cell_type": "code",
   "execution_count": null,
   "metadata": {
    "colab": {
     "base_uri": "https://localhost:8080/",
     "height": 370
    },
    "executionInfo": {
     "elapsed": 1392,
     "status": "ok",
     "timestamp": 1634233681572,
     "user": {
      "displayName": "Rajat Agarwal",
      "photoUrl": "https://lh3.googleusercontent.com/a-/AOh14GiqdQRoEJhWWghCgSMgU0X4si-AEXaiDC_NkfBOEw=s64",
      "userId": "15404319687387405045"
     },
     "user_tz": -330
    },
    "id": "Cb8M6qrHB9TY",
    "outputId": "c36eca3d-2325-4d42-9164-113c4d1b5629"
   },
   "outputs": [
    {
     "data": {
      "image/png": "[encoded data removed]",
      "text/plain": [
       "<Figure size 720x360 with 2 Axes>"
      ]
     },
     "metadata": {
      "needs_background": "light"
     },
     "output_type": "display_data"
    }
   ],
   "source": [
    "#  try to create four individual histogram plots in a single figure, where each plot contains one feature.\n",
    "# Let's look at what happens to one of these features, when we apply np.log1p visually.\n",
    "\n",
    "# Choose a field\n",
    "field = \"child_mort\"\n",
    "\n",
    "# Create two \"subplots\" and a \"figure\" using matplotlib\n",
    "fig, (ax_before, ax_after) = plt.subplots(1, 2, figsize=(10, 5))\n",
    "\n",
    "# Create a histogram on the \"ax_before\" subplot\n",
    "data[field].hist(ax=ax_before)\n",
    "\n",
    "# Apply a log transformation (numpy syntax) to this column\n",
    "data[field].apply(np.log1p).hist(ax=ax_after)\n",
    "\n",
    "# Formatting of titles etc. for each subplot\n",
    "ax_before.set(title='before np.log1p', ylabel='frequency', xlabel='value')\n",
    "ax_after.set(title='after np.log1p', ylabel='frequency', xlabel='value')\n",
    "fig.suptitle('Field \"{}\"'.format(field));"
   ]
  },
  {
   "cell_type": "markdown",
   "metadata": {
    "id": "tznmVtqv9M9U"
   },
   "source": [
    "## HISTOGRAM"
   ]
  },
  {
   "cell_type": "markdown",
   "metadata": {
    "id": "sFJA6iYG9UOO"
   },
   "source": [
    "### Plotting multiple Histogram on same plot (USING PANDAS)"
   ]
  },
  {
   "cell_type": "code",
   "execution_count": null,
   "metadata": {
    "colab": {
     "base_uri": "https://localhost:8080/",
     "height": 285
    },
    "executionInfo": {
     "elapsed": 621,
     "status": "ok",
     "timestamp": 1631466846499,
     "user": {
      "displayName": "Rajat Agarwal",
      "photoUrl": "https://lh3.googleusercontent.com/a-/AOh14GiqdQRoEJhWWghCgSMgU0X4si-AEXaiDC_NkfBOEw=s64",
      "userId": "15404319687387405045"
     },
     "user_tz": -330
    },
    "id": "jO1RTWzl9m7g",
    "outputId": "e9be1892-e280-4a80-f017-6ec98eebedab"
   },
   "outputs": [
    {
     "data": {
      "image/png": "[encoded data removed]",
      "text/plain": [
       "<Figure size 432x288 with 1 Axes>"
      ]
     },
     "metadata": {
      "needs_background": "light"
     },
     "output_type": "display_data"
    }
   ],
   "source": [
    "num_col = data.columns[data.dtypes==np.float]\n",
    "\n",
    "#Now create a single plot with histograms for each feature\n",
    "import seaborn as sns\n",
    "sns.set_context('notebook')\n",
    "### BEGIN SOLUTION\n",
    "# This uses the `.plot.hist` method\n",
    "ax = data[num_col].plot.hist(bins=25, alpha=0.5)\n",
    "ax.set_xlabel('------');"
   ]
  },
  {
   "cell_type": "markdown",
   "metadata": {
    "id": "Q59nvqnTIb8e"
   },
   "source": [
    "### Creating Histogram subplot equal to number of column in dataframe (USING PANDAS) "
   ]
  },
  {
   "cell_type": "code",
   "execution_count": null,
   "metadata": {
    "colab": {
     "base_uri": "https://localhost:8080/",
     "height": 518
    },
    "executionInfo": {
     "elapsed": 2160,
     "status": "ok",
     "timestamp": 1631469119843,
     "user": {
      "displayName": "Rajat Agarwal",
      "photoUrl": "https://lh3.googleusercontent.com/a-/AOh14GiqdQRoEJhWWghCgSMgU0X4si-AEXaiDC_NkfBOEw=s64",
      "userId": "15404319687387405045"
     },
     "user_tz": -330
    },
    "id": "yzk0gDH7H1a7",
    "outputId": "73b4338b-24bd-4edd-aa98-8bc1732d27ae"
   },
   "outputs": [
    {
     "data": {
      "image/png": "[encoded data removed]",
      "text/plain": [
       "<Figure size 576x576 with 9 Axes>"
      ]
     },
     "metadata": {
      "needs_background": "light"
     },
     "output_type": "display_data"
    }
   ],
   "source": [
    "# To create  separate plots, use Pandas `.hist` method and all column histogram will \n",
    "# Created in a single plot  with number of column subplot \n",
    "axList = data.hist(bins=25 ,figsize=(8,8))\n",
    "\n",
    "# Add some x- and y- labels to first column and last row\n",
    "for ax in axList.flatten():\n",
    "    if ax.is_last_row():\n",
    "        ax.set_xlabel('Size (cm)')\n",
    "        \n",
    "    if ax.is_first_col():\n",
    "        ax.set_ylabel('Frequency')\n",
    "### END SOLUTION"
   ]
  },
  {
   "cell_type": "markdown",
   "metadata": {
    "id": "nknu35ypxMVC"
   },
   "source": [
    "### Plotting histogram for single variable (USING MATPLOTLIB) \n"
   ]
  },
  {
   "cell_type": "code",
   "execution_count": null,
   "metadata": {
    "colab": {
     "base_uri": "https://localhost:8080/",
     "height": 301
    },
    "executionInfo": {
     "elapsed": 592,
     "status": "ok",
     "timestamp": 1631469131199,
     "user": {
      "displayName": "Rajat Agarwal",
      "photoUrl": "https://lh3.googleusercontent.com/a-/AOh14GiqdQRoEJhWWghCgSMgU0X4si-AEXaiDC_NkfBOEw=s64",
      "userId": "15404319687387405045"
     },
     "user_tz": -330
    },
    "id": "sq6B1cYtxJi4",
    "outputId": "a8417560-c4df-4c70-9fa9-93f826cc1ffe"
   },
   "outputs": [
    {
     "data": {
      "image/png": "[encoded data removed]",
      "text/plain": [
       "<Figure size 432x288 with 1 Axes>"
      ]
     },
     "metadata": {
      "needs_background": "light"
     },
     "output_type": "display_data"
    }
   ],
   "source": [
    "# Using Matplotlib's plotting functionality\n",
    "ax = plt.axes()\n",
    "ax.hist(data.child_mort, bins=25);\n",
    "\n",
    "ax.set(xlabel='Child Mortality', \n",
    "       ylabel='Frequency',\n",
    "       title='Distribution of Child Mortatlity');"
   ]
  },
  {
   "cell_type": "code",
   "execution_count": null,
   "metadata": {
    "id": "I0rKJ-yEHycC"
   },
   "outputs": [],
   "source": []
  },
  {
   "cell_type": "markdown",
   "metadata": {
    "id": "F7ourHCxI8QN"
   },
   "source": [
    "## BOXPLOT"
   ]
  },
  {
   "cell_type": "markdown",
   "metadata": {
    "id": "3WhrxrIoJxHD"
   },
   "source": [
    "### (USING PANDAS), make a boxplot of each petal and sepal measurement"
   ]
  },
  {
   "cell_type": "code",
   "execution_count": null,
   "metadata": {
    "colab": {
     "base_uri": "https://localhost:8080/",
     "height": 426
    },
    "executionInfo": {
     "elapsed": 1414,
     "status": "ok",
     "timestamp": 1631469632339,
     "user": {
      "displayName": "Rajat Agarwal",
      "photoUrl": "https://lh3.googleusercontent.com/a-/AOh14GiqdQRoEJhWWghCgSMgU0X4si-AEXaiDC_NkfBOEw=s64",
      "userId": "15404319687387405045"
     },
     "user_tz": -330
    },
    "id": "2fUaoaUuJ8-5",
    "outputId": "4eeab7e7-bf9b-47fc-d9da-a777eb5ad261"
   },
   "outputs": [
    {
     "data": {
      "image/png": "[encoded data removed]",
      "text/plain": [
       "<Figure size 432x432 with 4 Axes>"
      ]
     },
     "metadata": {
      "needs_background": "light"
     },
     "output_type": "display_data"
    }
   ],
   "source": [
    "data =  pd.read_csv('/content/gdrive/MyDrive/Corporate/Practice_Data_set/iris_data.csv')\n",
    "# Here we have four separate plots\n",
    "data.boxplot(by='species',figsize=(6,6));"
   ]
  },
  {
   "cell_type": "code",
   "execution_count": null,
   "metadata": {
    "colab": {
     "base_uri": "https://localhost:8080/",
     "height": 419
    },
    "executionInfo": {
     "elapsed": 751,
     "status": "ok",
     "timestamp": 1631470708292,
     "user": {
      "displayName": "Rajat Agarwal",
      "photoUrl": "https://lh3.googleusercontent.com/a-/AOh14GiqdQRoEJhWWghCgSMgU0X4si-AEXaiDC_NkfBOEw=s64",
      "userId": "15404319687387405045"
     },
     "user_tz": -330
    },
    "id": "tgXttIgNOYiR",
    "outputId": "1f4f421c-1d2a-4bc2-b186-f64e6a13d949"
   },
   "outputs": [
    {
     "data": {
      "text/html": [
       "<div>\n",
       "<style scoped>\n",
       "    .dataframe tbody tr th:only-of-type {\n",
       "        vertical-align: middle;\n",
       "    }\n",
       "\n",
       "    .dataframe tbody tr th {\n",
       "        vertical-align: top;\n",
       "    }\n",
       "\n",
       "    .dataframe thead th {\n",
       "        text-align: right;\n",
       "    }\n",
       "</style>\n",
       "<table border=\"1\" class=\"dataframe\">\n",
       "  <thead>\n",
       "    <tr style=\"text-align: right;\">\n",
       "      <th></th>\n",
       "      <th>species</th>\n",
       "      <th>level_1</th>\n",
       "      <th>0</th>\n",
       "    </tr>\n",
       "  </thead>\n",
       "  <tbody>\n",
       "    <tr>\n",
       "      <th>0</th>\n",
       "      <td>setosa</td>\n",
       "      <td>sepal_length</td>\n",
       "      <td>5.1</td>\n",
       "    </tr>\n",
       "    <tr>\n",
       "      <th>1</th>\n",
       "      <td>setosa</td>\n",
       "      <td>sepal_width</td>\n",
       "      <td>3.5</td>\n",
       "    </tr>\n",
       "    <tr>\n",
       "      <th>2</th>\n",
       "      <td>setosa</td>\n",
       "      <td>petal_length</td>\n",
       "      <td>1.4</td>\n",
       "    </tr>\n",
       "    <tr>\n",
       "      <th>3</th>\n",
       "      <td>setosa</td>\n",
       "      <td>petal_width</td>\n",
       "      <td>0.2</td>\n",
       "    </tr>\n",
       "    <tr>\n",
       "      <th>4</th>\n",
       "      <td>setosa</td>\n",
       "      <td>sepal_length</td>\n",
       "      <td>4.9</td>\n",
       "    </tr>\n",
       "    <tr>\n",
       "      <th>...</th>\n",
       "      <td>...</td>\n",
       "      <td>...</td>\n",
       "      <td>...</td>\n",
       "    </tr>\n",
       "    <tr>\n",
       "      <th>595</th>\n",
       "      <td>virginica</td>\n",
       "      <td>petal_width</td>\n",
       "      <td>2.3</td>\n",
       "    </tr>\n",
       "    <tr>\n",
       "      <th>596</th>\n",
       "      <td>virginica</td>\n",
       "      <td>sepal_length</td>\n",
       "      <td>5.9</td>\n",
       "    </tr>\n",
       "    <tr>\n",
       "      <th>597</th>\n",
       "      <td>virginica</td>\n",
       "      <td>sepal_width</td>\n",
       "      <td>3.0</td>\n",
       "    </tr>\n",
       "    <tr>\n",
       "      <th>598</th>\n",
       "      <td>virginica</td>\n",
       "      <td>petal_length</td>\n",
       "      <td>5.1</td>\n",
       "    </tr>\n",
       "    <tr>\n",
       "      <th>599</th>\n",
       "      <td>virginica</td>\n",
       "      <td>petal_width</td>\n",
       "      <td>1.8</td>\n",
       "    </tr>\n",
       "  </tbody>\n",
       "</table>\n",
       "<p>600 rows × 3 columns</p>\n",
       "</div>"
      ],
      "text/plain": [
       "       species       level_1    0\n",
       "0       setosa  sepal_length  5.1\n",
       "1       setosa   sepal_width  3.5\n",
       "2       setosa  petal_length  1.4\n",
       "3       setosa   petal_width  0.2\n",
       "4       setosa  sepal_length  4.9\n",
       "..         ...           ...  ...\n",
       "595  virginica   petal_width  2.3\n",
       "596  virginica  sepal_length  5.9\n",
       "597  virginica   sepal_width  3.0\n",
       "598  virginica  petal_length  5.1\n",
       "599  virginica   petal_width  1.8\n",
       "\n",
       "[600 rows x 3 columns]"
      ]
     },
     "execution_count": 53,
     "metadata": {},
     "output_type": "execute_result"
    }
   ],
   "source": [
    "data.set_index('species').stack().to_frame().reset_index()"
   ]
  },
  {
   "cell_type": "code",
   "execution_count": null,
   "metadata": {
    "colab": {
     "base_uri": "https://localhost:8080/",
     "height": 204
    },
    "executionInfo": {
     "elapsed": 531,
     "status": "ok",
     "timestamp": 1631469786799,
     "user": {
      "displayName": "Rajat Agarwal",
      "photoUrl": "https://lh3.googleusercontent.com/a-/AOh14GiqdQRoEJhWWghCgSMgU0X4si-AEXaiDC_NkfBOEw=s64",
      "userId": "15404319687387405045"
     },
     "user_tz": -330
    },
    "id": "AiJluT6sLUXV",
    "outputId": "83036c56-0d82-49cc-ff4f-9d2fa8916c2c"
   },
   "outputs": [
    {
     "data": {
      "text/html": [
       "<div>\n",
       "<style scoped>\n",
       "    .dataframe tbody tr th:only-of-type {\n",
       "        vertical-align: middle;\n",
       "    }\n",
       "\n",
       "    .dataframe tbody tr th {\n",
       "        vertical-align: top;\n",
       "    }\n",
       "\n",
       "    .dataframe thead th {\n",
       "        text-align: right;\n",
       "    }\n",
       "</style>\n",
       "<table border=\"1\" class=\"dataframe\">\n",
       "  <thead>\n",
       "    <tr style=\"text-align: right;\">\n",
       "      <th></th>\n",
       "      <th>species</th>\n",
       "      <th>measurement</th>\n",
       "      <th>size</th>\n",
       "    </tr>\n",
       "  </thead>\n",
       "  <tbody>\n",
       "    <tr>\n",
       "      <th>0</th>\n",
       "      <td>setosa</td>\n",
       "      <td>sepal_length</td>\n",
       "      <td>5.1</td>\n",
       "    </tr>\n",
       "    <tr>\n",
       "      <th>1</th>\n",
       "      <td>setosa</td>\n",
       "      <td>sepal_width</td>\n",
       "      <td>3.5</td>\n",
       "    </tr>\n",
       "    <tr>\n",
       "      <th>2</th>\n",
       "      <td>setosa</td>\n",
       "      <td>petal_length</td>\n",
       "      <td>1.4</td>\n",
       "    </tr>\n",
       "    <tr>\n",
       "      <th>3</th>\n",
       "      <td>setosa</td>\n",
       "      <td>petal_width</td>\n",
       "      <td>0.2</td>\n",
       "    </tr>\n",
       "    <tr>\n",
       "      <th>4</th>\n",
       "      <td>setosa</td>\n",
       "      <td>sepal_length</td>\n",
       "      <td>4.9</td>\n",
       "    </tr>\n",
       "  </tbody>\n",
       "</table>\n",
       "</div>"
      ],
      "text/plain": [
       "  species   measurement  size\n",
       "0  setosa  sepal_length   5.1\n",
       "1  setosa   sepal_width   3.5\n",
       "2  setosa  petal_length   1.4\n",
       "3  setosa   petal_width   0.2\n",
       "4  setosa  sepal_length   4.9"
      ]
     },
     "execution_count": 41,
     "metadata": {},
     "output_type": "execute_result"
    }
   ],
   "source": [
    "# First we have to reshape the data so there is \n",
    "# only a single measurement in each column\n",
    "\n",
    "plot_data = (data\n",
    "             .set_index('species')\n",
    "             .stack()\n",
    "             .to_frame()\n",
    "             .reset_index()\n",
    "             .rename(columns={0:'size', 'level_1':'measurement'})\n",
    "            )\n",
    "\n",
    "plot_data.head()"
   ]
  },
  {
   "cell_type": "code",
   "execution_count": null,
   "metadata": {
    "id": "XJ8WFjC2Jvvx"
   },
   "outputs": [],
   "source": []
  },
  {
   "cell_type": "code",
   "execution_count": null,
   "metadata": {
    "colab": {
     "base_uri": "https://localhost:8080/",
     "height": 286
    },
    "executionInfo": {
     "elapsed": 725,
     "status": "ok",
     "timestamp": 1631469804605,
     "user": {
      "displayName": "Rajat Agarwal",
      "photoUrl": "https://lh3.googleusercontent.com/a-/AOh14GiqdQRoEJhWWghCgSMgU0X4si-AEXaiDC_NkfBOEw=s64",
      "userId": "15404319687387405045"
     },
     "user_tz": -330
    },
    "id": "VkeXabdaLZBL",
    "outputId": "874a9346-0e9d-41a7-b3f8-87c4f7ae3242"
   },
   "outputs": [
    {
     "data": {
      "image/png": "[encoded data removed]",
      "text/plain": [
       "<Figure size 432x288 with 1 Axes>"
      ]
     },
     "metadata": {},
     "output_type": "display_data"
    }
   ],
   "source": [
    "# Now plot the dataframe from above using Seaborn\n",
    "\n",
    "sns.set_style('white')\n",
    "sns.set_context('notebook')\n",
    "sns.set_palette('dark')\n",
    "\n",
    "f = plt.figure(figsize=(6,4))\n",
    "sns.boxplot(x='measurement', y='size', \n",
    "            hue='species', data=plot_data);"
   ]
  },
  {
   "cell_type": "markdown",
   "metadata": {
    "id": "9FFYpZVFL1lL"
   },
   "source": [
    "## SEABORN PAIRPLOT"
   ]
  },
  {
   "cell_type": "markdown",
   "metadata": {
    "id": "sVKujsyNL9nh"
   },
   "source": [
    "### Creating Pairplot using Seaborn  to get all variable plot in a single "
   ]
  },
  {
   "cell_type": "code",
   "execution_count": null,
   "metadata": {
    "colab": {
     "base_uri": "https://localhost:8080/",
     "height": 741
    },
    "executionInfo": {
     "elapsed": 9018,
     "status": "ok",
     "timestamp": 1631470527948,
     "user": {
      "displayName": "Rajat Agarwal",
      "photoUrl": "https://lh3.googleusercontent.com/a-/AOh14GiqdQRoEJhWWghCgSMgU0X4si-AEXaiDC_NkfBOEw=s64",
      "userId": "15404319687387405045"
     },
     "user_tz": -330
    },
    "id": "AoF_pJAONN7N",
    "outputId": "eacd5cfe-8277-4601-8c1c-ad0e4c4dce79"
   },
   "outputs": [
    {
     "data": {
      "text/plain": [
       "<seaborn.axisgrid.PairGrid at 0x7f669f8d79d0>"
      ]
     },
     "execution_count": 48,
     "metadata": {},
     "output_type": "execute_result"
    },
    {
     "data": {
      "image/png": "[encoded data removed]",
      "text/plain": [
       "<Figure size 720x720 with 20 Axes>"
      ]
     },
     "metadata": {},
     "output_type": "display_data"
    }
   ],
   "source": [
    "smaller_df = data.drop(columns='species')\n",
    "sns.pairplot(smaller_df,diag_kind='kde')"
   ]
  },
  {
   "cell_type": "markdown",
   "metadata": {
    "id": "8Qus-x5hxScn"
   },
   "source": [
    "## Using Matplotlib"
   ]
  },
  {
   "cell_type": "code",
   "execution_count": null,
   "metadata": {
    "id": "15qtDgrbxJ1Q"
   },
   "outputs": [],
   "source": []
  },
  {
   "cell_type": "markdown",
   "metadata": {
    "id": "j1GFUB0oxWhm"
   },
   "source": [
    "## Using Seaborn"
   ]
  },
  {
   "cell_type": "code",
   "execution_count": null,
   "metadata": {
    "id": "90paeBC0xVg6"
   },
   "outputs": [],
   "source": []
  },
  {
   "cell_type": "markdown",
   "metadata": {
    "id": "gUl5k6Jp7Zd9"
   },
   "source": [
    "#----------------------------------------------------------------"
   ]
  },
  {
   "cell_type": "markdown",
   "metadata": {
    "id": "yNXd2avj_DMi"
   },
   "source": [
    "# Normality Test "
   ]
  },
  {
   "cell_type": "markdown",
   "metadata": {
    "id": "GALZq20I_IFz"
   },
   "source": [
    "## Shapiro Wilk Test "
   ]
  },
  {
   "cell_type": "code",
   "execution_count": null,
   "metadata": {
    "id": "pVSql584_TkZ"
   },
   "outputs": [],
   "source": [
    "# H0:Normal data Vs H1: Not normal data\n",
    "from scipy.stats import shapiro\n",
    "stat ,pval = shapiro(data) "
   ]
  },
  {
   "cell_type": "markdown",
   "metadata": {
    "id": "Bg2S7o72_H7E"
   },
   "source": [
    "##  D’Agostino’s K-squared test"
   ]
  },
  {
   "cell_type": "code",
   "execution_count": null,
   "metadata": {
    "id": "aX5qmMtP_0It"
   },
   "outputs": [],
   "source": [
    "# H0:Normal data Vs H1: Not normal data\n",
    "from scipy.stats import normaltest\n",
    "stat ,pval = normaltest(data) "
   ]
  },
  {
   "cell_type": "markdown",
   "metadata": {
    "id": "Dnwz0ODN_HiL"
   },
   "source": [
    "## Anderson-Darling Normality Test\n",
    " "
   ]
  },
  {
   "cell_type": "code",
   "execution_count": null,
   "metadata": {
    "id": "CsmSU4Mk_CkJ"
   },
   "outputs": [],
   "source": [
    "from scipy.stats import anderson\n",
    "result = anderson(data)\n",
    "for i in range(len(result.critical_values)):\n",
    "  print(result.critical_values[i] ,result.statistics[i])"
   ]
  },
  {
   "cell_type": "markdown",
   "metadata": {
    "id": "jbNzsLNnL-7y"
   },
   "source": [
    "## Chi Square Normality Test"
   ]
  },
  {
   "cell_type": "code",
   "execution_count": null,
   "metadata": {
    "id": "huLT9-KoMJaZ"
   },
   "outputs": [],
   "source": [
    "# H0:Normal data Vs H1: Not normal data\n",
    "from scipy.stats import chisquare\n",
    "stat ,pval = chisquare(data) "
   ]
  },
  {
   "cell_type": "markdown",
   "metadata": {
    "id": "AYeziUiEM5rj"
   },
   "source": [
    "## Lilliefors Test for normality "
   ]
  },
  {
   "cell_type": "code",
   "execution_count": null,
   "metadata": {
    "id": "S6Oo6_upNFME"
   },
   "outputs": [],
   "source": [
    "# H0:Normal data Vs H1: Not normal data\n",
    "from scipy.stats import lilliefors\n",
    "stat ,pval = lilliefors(data) "
   ]
  },
  {
   "cell_type": "markdown",
   "metadata": {
    "id": "063bFAz6NFmc"
   },
   "source": [
    "## Jarque–Bera test for Normality"
   ]
  },
  {
   "cell_type": "code",
   "execution_count": null,
   "metadata": {
    "id": "Vc3RktVMNH67"
   },
   "outputs": [],
   "source": [
    "# H0:Normal data Vs H1: Not normal data\n",
    "from scipy.stats import jarque_bera\n",
    "stat ,pval = jarque_bera(data) "
   ]
  },
  {
   "cell_type": "markdown",
   "metadata": {
    "id": "gDS_EYjjNIOZ"
   },
   "source": [
    "## Kolmogorov-Smirnov test for Normality"
   ]
  },
  {
   "cell_type": "code",
   "execution_count": null,
   "metadata": {
    "id": "ee4VuBQQNMar"
   },
   "outputs": [],
   "source": [
    "# H0:Normal data Vs H1: Not normal data\n",
    "from scipy.stats import kstest\n",
    "stat ,pval = kstest(data,'norm') "
   ]
  },
  {
   "cell_type": "markdown",
   "metadata": {
    "id": "nfKamBLtcnZX"
   },
   "source": [
    "# Data Modelling "
   ]
  },
  {
   "cell_type": "markdown",
   "metadata": {
    "id": "6PR17GcqavYp"
   },
   "source": [
    "## Train Test Split\n",
    "- Random Split \n",
    "- Shuffle Split\n",
    "- Stratified Split :- In this split the entire data is splitted in X_train , Y_train ,X_test ,Y_test keeping the sample representation same as population representation"
   ]
  },
  {
   "cell_type": "markdown",
   "metadata": {
    "id": "I24uPi38bx-_"
   },
   "source": [
    "### Random Split "
   ]
  },
  {
   "cell_type": "code",
   "execution_count": null,
   "metadata": {
    "id": "_UJLggVzbxE8"
   },
   "outputs": [],
   "source": [
    "From sklearn.model_selection import train_test_split \n",
    "train_test_split(data,test_size=0.3)"
   ]
  },
  {
   "cell_type": "markdown",
   "metadata": {
    "id": "bcdt8shjbwfZ"
   },
   "source": [
    "### Shuffle split \n"
   ]
  },
  {
   "cell_type": "code",
   "execution_count": null,
   "metadata": {
    "id": "0rEtOVQtbvlI"
   },
   "outputs": [],
   "source": [
    "From sklearn.model_selection import ShuffleSplit"
   ]
  },
  {
   "cell_type": "markdown",
   "metadata": {
    "id": "gjGZaMpubkK6"
   },
   "source": [
    "### Stratified splitting of the data "
   ]
  },
  {
   "cell_type": "markdown",
   "metadata": {
    "id": "YjwcRWdeZl7J"
   },
   "source": [
    "# Deep Learning Framework "
   ]
  },
  {
   "cell_type": "markdown",
   "metadata": {
    "id": "xtXSO1pNZefW"
   },
   "source": [
    "## Tensorflow "
   ]
  },
  {
   "cell_type": "code",
   "execution_count": null,
   "metadata": {
    "id": "Lx9N-ICOar2T"
   },
   "outputs": [],
   "source": [
    "import numpy as np\n",
    "import tensorflow as tf"
   ]
  },
  {
   "cell_type": "code",
   "execution_count": null,
   "metadata": {
    "colab": {
     "base_uri": "https://localhost:8080/"
    },
    "executionInfo": {
     "elapsed": 863,
     "status": "ok",
     "timestamp": 1632045316247,
     "user": {
      "displayName": "Rajat Agarwal",
      "photoUrl": "https://lh3.googleusercontent.com/a-/AOh14GiqdQRoEJhWWghCgSMgU0X4si-AEXaiDC_NkfBOEw=s64",
      "userId": "15404319687387405045"
     },
     "user_tz": -330
    },
    "id": "OiXJb9XMaCNF",
    "outputId": "bc0c865c-c11f-4edd-c188-1726a26b6b36"
   },
   "outputs": [
    {
     "name": "stdout",
     "output_type": "stream",
     "text": [
      "<tf.Variable 'Variable:0' shape=() dtype=float32, numpy=0.0>\n"
     ]
    }
   ],
   "source": [
    "w = tf.Variable(0,dtype = tf.float32)\n",
    "optimizer = tf.keras.optimizers.Adam(0.1) \n",
    "\n",
    "cost = w**2 -10*w +25\n",
    "# tensorflow compute the grad or back prop step itself we have to write\n",
    "# only the forward propg code one way to do is to using grading tape method\n",
    "def train_step():\n",
    "  with tf.GradientTape() as tape:\n",
    "    cost = w**2 -10*w +25\n",
    "  trainable_variable = [w]\n",
    "  grads = tape.gradient(cost ,trainable_variable)\n",
    "  optimizer.apply_gradients(zip(grads,trainable_variable))\n",
    "\n",
    "print(w)"
   ]
  },
  {
   "cell_type": "code",
   "execution_count": null,
   "metadata": {
    "colab": {
     "base_uri": "https://localhost:8080/"
    },
    "executionInfo": {
     "elapsed": 12,
     "status": "ok",
     "timestamp": 1632045316249,
     "user": {
      "displayName": "Rajat Agarwal",
      "photoUrl": "https://lh3.googleusercontent.com/a-/AOh14GiqdQRoEJhWWghCgSMgU0X4si-AEXaiDC_NkfBOEw=s64",
      "userId": "15404319687387405045"
     },
     "user_tz": -330
    },
    "id": "e6yOf2eNaXsO",
    "outputId": "be805166-723e-4ea3-815f-d9539f28dc16"
   },
   "outputs": [
    {
     "name": "stdout",
     "output_type": "stream",
     "text": [
      "<tf.Variable 'Variable:0' shape=() dtype=float32, numpy=0.09999997>\n"
     ]
    }
   ],
   "source": [
    "train_step()\n",
    "print(w)"
   ]
  },
  {
   "cell_type": "code",
   "execution_count": null,
   "metadata": {
    "colab": {
     "base_uri": "https://localhost:8080/"
    },
    "executionInfo": {
     "elapsed": 1978,
     "status": "ok",
     "timestamp": 1632045346443,
     "user": {
      "displayName": "Rajat Agarwal",
      "photoUrl": "https://lh3.googleusercontent.com/a-/AOh14GiqdQRoEJhWWghCgSMgU0X4si-AEXaiDC_NkfBOEw=s64",
      "userId": "15404319687387405045"
     },
     "user_tz": -330
    },
    "id": "u7wH8d8nesQ2",
    "outputId": "181c2a09-cec0-4c57-8a3a-7a90a4413df5"
   },
   "outputs": [
    {
     "name": "stdout",
     "output_type": "stream",
     "text": [
      "<tf.Variable 'Variable:0' shape=() dtype=float32, numpy=5.000001>\n"
     ]
    }
   ],
   "source": [
    "for i in range(1000):\n",
    "  train_step()\n",
    "print(w)"
   ]
  },
  {
   "cell_type": "code",
   "execution_count": null,
   "metadata": {
    "colab": {
     "base_uri": "https://localhost:8080/"
    },
    "executionInfo": {
     "elapsed": 3749,
     "status": "ok",
     "timestamp": 1632046193001,
     "user": {
      "displayName": "Rajat Agarwal",
      "photoUrl": "https://lh3.googleusercontent.com/a-/AOh14GiqdQRoEJhWWghCgSMgU0X4si-AEXaiDC_NkfBOEw=s64",
      "userId": "15404319687387405045"
     },
     "user_tz": -330
    },
    "id": "FDktajNQe6CL",
    "outputId": "dae48d2b-f30e-4063-8c5e-a89b2168dc60"
   },
   "outputs": [
    {
     "name": "stdout",
     "output_type": "stream",
     "text": [
      "<tf.Variable 'Variable:0' shape=() dtype=float32, numpy=5.000001>\n"
     ]
    }
   ],
   "source": [
    "w = tf.Variable(0,dtype = tf.float32)\n",
    "x = np.array([1.0 ,-10.0 ,25.0] ,dtype = np.float32) \n",
    "optimizer = tf.keras.optimizers.Adam(0.1) \n",
    "\n",
    "def training(x ,w ,optimizer):\n",
    "  def cost_fn():\n",
    "    return x[0]*w**2 + x[1]*w + x[2]\n",
    "  for i in range(1000):\n",
    "    optimizer.minimize(cost_fn,[w])\n",
    "  return w\n",
    "    \n",
    "w = training( x ,w ,optimizer )\n",
    "print(w)"
   ]
  },
  {
   "cell_type": "code",
   "execution_count": null,
   "metadata": {
    "id": "6GeAR7WogdUk"
   },
   "outputs": [],
   "source": []
  }
 ],
 "metadata": {
  "colab": {
   "authorship_tag": "ABX9TyMFskwptdLLXyq8+xI1GTOZ",
   "collapsed_sections": [],
   "mount_file_id": "1lRWvTQObSCRnpTGFV-ig-tTksB5PvQIk",
   "name": "Phython_Data_Analysis",
   "provenance": []
  },
  "kernelspec": {
   "display_name": "Python 3 (ipykernel)",
   "language": "python",
   "name": "python3"
  },
  "language_info": {
   "codemirror_mode": {
    "name": "ipython",
    "version": 3
   },
   "file_extension": ".py",
   "mimetype": "text/x-python",
   "name": "python",
   "nbconvert_exporter": "python",
   "pygments_lexer": "ipython3",
   "version": "3.11.5"
  }
 },
 "nbformat": 4,
 "nbformat_minor": 4
}
